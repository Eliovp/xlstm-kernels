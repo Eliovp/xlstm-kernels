{
 "cells": [
  {
   "cell_type": "code",
   "execution_count": null,
   "metadata": {},
   "outputs": [],
   "source": [
    "%load_ext autoreload\n",
    "%autoreload 2\n",
    "import torch\n",
    "import pandas as pd\n",
    "import matplotlib as mpl\n",
    "import matplotlib.pyplot as plt\n",
    "import numpy as np\n",
    "from pathlib import Path\n",
    "import pickle\n",
    "from mlstm_kernels.utils.benchmark.plot_results import plot_benchmark_result_table, create_runtime_line_plot\n",
    "import seaborn as sns"
   ]
  },
  {
   "cell_type": "code",
   "execution_count": 2,
   "metadata": {},
   "outputs": [],
   "source": []
  },
  {
   "cell_type": "markdown",
   "metadata": {},
   "source": [
    "## Make paper plots"
   ]
  },
  {
   "cell_type": "code",
   "execution_count": 2,
   "metadata": {},
   "outputs": [],
   "source": [
    "result_filename = \"mlstm_tfla_paper_consttoken_benchmark_results.p\""
   ]
  },
  {
   "cell_type": "code",
   "execution_count": 3,
   "metadata": {},
   "outputs": [],
   "source": [
    "with open(Path(\".\") / result_filename, \"rb\") as f:\n",
    "    all_results_dict = pickle.load(f)"
   ]
  },
  {
   "cell_type": "code",
   "execution_count": 4,
   "metadata": {},
   "outputs": [],
   "source": [
    "all_runtime_results_fw_df = all_results_dict[\"runtime\"][\"fw\"]\n",
    "all_runtime_results_fwbw_df = all_results_dict[\"runtime\"][\"fwbw\"]"
   ]
  },
  {
   "cell_type": "code",
   "execution_count": 5,
   "metadata": {},
   "outputs": [],
   "source": [
    "all_memory_results_fw_df = all_results_dict[\"memory\"][\"fw\"]\n",
    "all_memory_results_fwbw_df = all_results_dict[\"memory\"][\"fwbw\"]"
   ]
  },
  {
   "cell_type": "code",
   "execution_count": null,
   "metadata": {},
   "outputs": [],
   "source": [
    "all_runtime_results_fwbw_df.filter(regex=f\"sequence_length|.*xl_chunk_siging.*\")"
   ]
  },
  {
   "cell_type": "code",
   "execution_count": null,
   "metadata": {},
   "outputs": [],
   "source": [
    "fig = create_runtime_line_plot(\n",
    "    data_df=all_runtime_results_fwbw_df.filter(regex=r\"sequence_length|.*xl_chunk_siging.*\"),\n",
    "    group_col_names=[\"sequence_length\"],\n",
    ")"
   ]
  },
  {
   "cell_type": "code",
   "execution_count": null,
   "metadata": {},
   "outputs": [],
   "source": [
    "fig = create_runtime_line_plot(\n",
    "    data_df=all_memory_results_fwbw_df.filter(regex=r\"sequence_length|.*xl_chunk_siging.*\"),\n",
    "    group_col_names=[\"sequence_length\"],\n",
    "    y_label=\"Memory [GB]\"\n",
    ")"
   ]
  },
  {
   "cell_type": "code",
   "execution_count": 9,
   "metadata": {},
   "outputs": [],
   "source": [
    "selected_mlstm_runtime_fwbw_df = all_runtime_results_fwbw_df.filter(regex=r\"sequence_length|.*xl_chunk_siging.*\")\n",
    "selected_mlstm_memory_fwbw_df = all_memory_results_fwbw_df.filter(regex=r\"sequence_length|.*xl_chunk_siging.*\")"
   ]
  },
  {
   "cell_type": "code",
   "execution_count": 22,
   "metadata": {},
   "outputs": [],
   "source": [
    "seq_len = 8192\n",
    "selected_mlstm_runtime_ctx_fwbw_df = selected_mlstm_runtime_fwbw_df[selected_mlstm_runtime_fwbw_df[\"sequence_length\"]==8192].drop(columns=[\"sequence_length\"]).T\n",
    "selected_mlstm_memory_ctx_fwbw_df = selected_mlstm_memory_fwbw_df[selected_mlstm_memory_fwbw_df[\"sequence_length\"]==8192].drop(columns=[\"sequence_length\"]).T"
   ]
  },
  {
   "cell_type": "code",
   "execution_count": 16,
   "metadata": {},
   "outputs": [],
   "source": [
    "def extract_chunksize(specifier: str):\n",
    "    return int(specifier.split(\"__\")[-1].split(\"_\")[0].split(\"-\")[1])"
   ]
  },
  {
   "cell_type": "code",
   "execution_count": 53,
   "metadata": {},
   "outputs": [],
   "source": [
    "runtime_df = selected_mlstm_runtime_ctx_fwbw_df.rename(index=extract_chunksize)\n",
    "runtime_df.index.name = \"chunk_size\"\n",
    "runtime_df.columns = [\"runtime\"]\n",
    "runtime_df = runtime_df.reset_index()"
   ]
  },
  {
   "cell_type": "code",
   "execution_count": 54,
   "metadata": {},
   "outputs": [],
   "source": [
    "memory_df = selected_mlstm_memory_ctx_fwbw_df.rename(index=extract_chunksize)\n",
    "memory_df.index.name = \"chunk_size\"\n",
    "memory_df.columns = [\"memory\"]\n",
    "memory_df = memory_df / 1e9\n",
    "memory_df = memory_df.reset_index()"
   ]
  },
  {
   "cell_type": "code",
   "execution_count": null,
   "metadata": {},
   "outputs": [],
   "source": [
    "memory_runtime_df = pd.concat([runtime_df, memory_df], axis=1)\n",
    "memory_runtime_df = memory_runtime_df.loc[:, ~memory_runtime_df.columns.duplicated()]\n",
    "memory_runtime_df"
   ]
  },
  {
   "cell_type": "code",
   "execution_count": 97,
   "metadata": {},
   "outputs": [],
   "source": [
    "import numpy as np\n",
    "\n",
    "\n",
    "def create_double_bar_plot(\n",
    "    data: pd.DataFrame,\n",
    "    y_col_left: str,\n",
    "    y_col_right: str,\n",
    "    x_col: str,\n",
    "    left_color,\n",
    "    right_color,\n",
    "    left_label: str,\n",
    "    right_label: str,\n",
    "    x_label: str,\n",
    "    figsize: tuple[float, float],\n",
    "    bar_width: float = 0.4,\n",
    "):\n",
    "    fig, ax_left = plt.subplots(figsize=figsize)\n",
    "\n",
    "    x_positions = np.arange(len(data))\n",
    "\n",
    "    bars_left = ax_left.bar(x=x_positions - bar_width / 2, height=data[y_col_left], width=bar_width, color=left_color, label=left_label)\n",
    "\n",
    "    ax_left.set_ylabel(ylabel=left_label)\n",
    "    # ax_left.tick_params(axis=\"y\")\n",
    "    ax_left.set_xticks(x_positions)\n",
    "    ax_left.set_xticklabels(data[x_col])\n",
    "    ax_left.set_xlabel(x_label)\n",
    "\n",
    "    ax_right = ax_left.twinx()\n",
    "\n",
    "    bars_right = ax_right.bar(x=x_positions + bar_width / 2, height=data[y_col_right], width=bar_width, color=right_color, label=right_label)\n",
    "    ax_right.set_ylabel(ylabel=right_label)\n",
    "    ax_left.spines.top.set_visible(False)\n",
    "    ax_right.spines.top.set_visible(False)\n",
    "    ax_left.grid(alpha=0.2, which=\"both\")\n",
    "    # ax_right.grid(alpha=0.2)\n",
    "\n",
    "    legend_kwargs = {\n",
    "        \"loc\": \"lower center\",\n",
    "        \"ncol\": 5,\n",
    "        \"bbox_to_anchor\": (0.0, 0.87, 1.0, 0.102),\n",
    "        \"frameon\": False,\n",
    "        \"facecolor\": \"white\",\n",
    "    }\n",
    "    fig.legend([bars_left, bars_right], [left_label, right_label], **legend_kwargs)\n",
    "    return fig\n"
   ]
  },
  {
   "cell_type": "code",
   "execution_count": 109,
   "metadata": {},
   "outputs": [],
   "source": [
    "from plot_config import (\n",
    "    get_tb_plot_mpl_context,\n",
    "    savefig\n",
    ")"
   ]
  },
  {
   "cell_type": "code",
   "execution_count": null,
   "metadata": {},
   "outputs": [],
   "source": [
    "with get_tb_plot_mpl_context(fontsize_delta=-0):\n",
    "    fig = create_double_bar_plot(\n",
    "        data=memory_runtime_df,\n",
    "        y_col_left=\"runtime\",\n",
    "        y_col_right=\"memory\",\n",
    "        x_col=\"chunk_size\",\n",
    "        left_color=plt.colormaps[\"tab10\"](0),\n",
    "        right_color=plt.colormaps[\"tab10\"](1),\n",
    "        left_label=\"Time [ms]\",\n",
    "        right_label=\"GPU Memory [GB]\",\n",
    "        x_label=\"Chunk Size\",\n",
    "        figsize=(6,2.5),\n",
    "        bar_width=0.4\n",
    "    )"
   ]
  },
  {
   "cell_type": "code",
   "execution_count": 122,
   "metadata": {},
   "outputs": [],
   "source": [
    "# savefig(fig=fig, filename=\"tfla_mlstm_kernel_memory_vs_runtime--paper\")"
   ]
  },
  {
   "cell_type": "code",
   "execution_count": null,
   "metadata": {},
   "outputs": [],
   "source": []
  },
  {
   "cell_type": "code",
   "execution_count": null,
   "metadata": {},
   "outputs": [],
   "source": [
    "import matplotlib.pyplot as plt\n",
    "import seaborn as sns\n",
    "import pandas as pd\n",
    "\n",
    "# Sample data\n",
    "x = ['A', 'B', 'C', 'D']\n",
    "series1 = [10, 20, 30, 40]  # Data for the left y-axis\n",
    "series2 = [100, 200, 300, 400]  # Data for the right y-axis\n",
    "\n",
    "# Create a DataFrame for plotting\n",
    "df = pd.DataFrame({\n",
    "    'x': x,\n",
    "    'series1': series1,\n",
    "    'series2': series2\n",
    "})\n",
    "\n",
    "# Initialize the plot\n",
    "fig, ax1 = plt.subplots(figsize=(8, 6))\n",
    "\n",
    "# Plot the first series on the left y-axis\n",
    "sns.barplot(x='x', y='series1', data=df, color='blue', ax=ax1, label='Series 1')\n",
    "ax1.set_ylabel('Series 1 (Left Y-Axis)', color='blue')\n",
    "ax1.tick_params(axis='y', labelcolor='blue')\n",
    "\n",
    "# Create the second y-axis\n",
    "ax2 = ax1.twinx()\n",
    "\n",
    "# Plot the second series on the right y-axis\n",
    "sns.barplot(x='x', y='series2', data=df, color='red', ax=ax2, alpha=0.6, label='Series 2')\n",
    "ax2.set_ylabel('Series 2 (Right Y-Axis)', color='red')\n",
    "ax2.tick_params(axis='y', labelcolor='red')\n",
    "\n",
    "# Add a legend\n",
    "fig.legend(loc='upper left', bbox_to_anchor=(0.1, 0.9))\n",
    "\n",
    "# Show the plot\n",
    "plt.show()"
   ]
  },
  {
   "cell_type": "code",
   "execution_count": null,
   "metadata": {},
   "outputs": [],
   "source": [
    "import matplotlib.pyplot as plt\n",
    "import seaborn as sns\n",
    "import pandas as pd\n",
    "import numpy as np\n",
    "\n",
    "# Sample data\n",
    "x = ['A', 'B', 'C', 'D']\n",
    "series1 = [10, 20, 30, 40]  # Data for the left y-axis\n",
    "series2 = [100, 200, 300, 400]  # Data for the right y-axis\n",
    "\n",
    "# Bar width\n",
    "bar_width = 0.4\n",
    "\n",
    "# Create positions for the bars\n",
    "x_positions = np.arange(len(x))\n",
    "\n",
    "# Initialize the plot\n",
    "fig, ax1 = plt.subplots(figsize=(8, 6))\n",
    "\n",
    "# Plot the first series on the left y-axis\n",
    "bars1 = ax1.bar(x_positions - bar_width / 2, series1, bar_width, color='blue', label='Series 1')\n",
    "ax1.set_ylabel('Series 1 (Left Y-Axis)', color='blue')\n",
    "ax1.tick_params(axis='y', labelcolor='blue')\n",
    "ax1.set_xticks(x_positions)\n",
    "ax1.set_xticklabels(x)\n",
    "\n",
    "# Create the second y-axis\n",
    "ax2 = ax1.twinx()\n",
    "\n",
    "# Plot the second series on the right y-axis\n",
    "bars2 = ax2.bar(x_positions + bar_width / 2, series2, bar_width, color='red', label='Series 2', alpha=0.7)\n",
    "ax2.set_ylabel('Series 2 (Right Y-Axis)', color='red')\n",
    "ax2.tick_params(axis='y', labelcolor='red')\n",
    "\n",
    "# Add a legend\n",
    "fig.legend([bars1, bars2], ['Series 1', 'Series 2'], loc='upper left', bbox_to_anchor=(0.1, 0.9))\n",
    "\n",
    "# Show the plot\n",
    "plt.show()"
   ]
  },
  {
   "cell_type": "code",
   "execution_count": 15,
   "metadata": {},
   "outputs": [],
   "source": [
    "# savefig(fig=fig, filename=\"tfla_mlstm_kernel_benchmark--paper\")"
   ]
  },
  {
   "cell_type": "code",
   "execution_count": null,
   "metadata": {},
   "outputs": [],
   "source": []
  }
 ],
 "metadata": {
  "kernelspec": {
   "display_name": "mlstmpt251cu124_beck",
   "language": "python",
   "name": "python3"
  },
  "language_info": {
   "codemirror_mode": {
    "name": "ipython",
    "version": 3
   },
   "file_extension": ".py",
   "mimetype": "text/x-python",
   "name": "python",
   "nbconvert_exporter": "python",
   "pygments_lexer": "ipython3",
   "version": "3.11.11"
  }
 },
 "nbformat": 4,
 "nbformat_minor": 2
}
