{
 "cells": [
  {
   "cell_type": "code",
   "execution_count": 1,
   "metadata": {},
   "outputs": [],
   "source": [
    "%load_ext autoreload\n",
    "%autoreload 2\n",
    "import torch\n",
    "import pandas as pd\n",
    "import matplotlib as mpl\n",
    "import matplotlib.pyplot as plt\n",
    "import numpy as np\n",
    "from pathlib import Path\n",
    "import pickle\n",
    "from mlstm_kernels.utils.benchmark.plot_results import (\n",
    "    plot_benchmark_result_table,\n",
    "    create_runtime_line_plot,\n",
    ")"
   ]
  },
  {
   "cell_type": "code",
   "execution_count": 2,
   "metadata": {},
   "outputs": [],
   "source": []
  },
  {
   "cell_type": "markdown",
   "metadata": {},
   "source": [
    "### Plot Results for HEAD DIM kernel benchmark"
   ]
  },
  {
   "cell_type": "code",
   "execution_count": 2,
   "metadata": {},
   "outputs": [],
   "source": [
    "from typing import Literal\n",
    "\n",
    "\n",
    "def get_result_df(\n",
    "    fwbw: bool,\n",
    "    data: Literal[\"runtime\", \"memory\"],\n",
    "    benchmark_folder: str | Path,\n",
    "    add_batch_size_col: bool = False,\n",
    "    remove_col_name_prefixes: bool = True,\n",
    "    x_axis_param: str = \"head_dim_v\",\n",
    ") -> pd.DataFrame:\n",
    "    benchmark_folder = Path(benchmark_folder)\n",
    "    benchmark_name = \"constant_tokens_sequence_\"\n",
    "    fwbw_folder_path = None\n",
    "    fw_folder_path = None\n",
    "    for dir_item in benchmark_folder.iterdir():\n",
    "        if dir_item.is_dir():\n",
    "            if \"fwbw\" in dir_item.stem.split(benchmark_name)[-1]:\n",
    "                assert fwbw_folder_path is None\n",
    "                fwbw_folder_path = dir_item\n",
    "            elif \"fw\" in dir_item.stem.split(benchmark_name)[-1]:\n",
    "                assert fw_folder_path is None\n",
    "                fw_folder_path = dir_item\n",
    "\n",
    "    folder_path = fwbw_folder_path if fwbw else fw_folder_path\n",
    "\n",
    "    result_df = pd.read_csv(folder_path / \"results.csv\")\n",
    "\n",
    "    data_prefix = \"R--\" if data == \"runtime\" else \"M--\"\n",
    "    bs_col = \"P--batch_size|\" if add_batch_size_col else \"\"\n",
    "    result_df = result_df.filter(regex=f\"P--{x_axis_param}|{bs_col}{data_prefix}.*\")\n",
    "    if remove_col_name_prefixes:\n",
    "        result_df = result_df.rename(columns=lambda x: x[3:])\n",
    "\n",
    "    return result_df"
   ]
  },
  {
   "cell_type": "code",
   "execution_count": 3,
   "metadata": {},
   "outputs": [],
   "source": [
    "MLSTM_FOLDER = \"/home/beck/wdir/cleaned_repos/mlstm_kernels_internal-speedbench/outputs_kernel_benchmarks/2025-01-21_07-59-23__headdim_mlstm_triton_v0_1\"\n",
    "FLA_FOLDER = \"/home/beck/wdir/cleaned_repos/mlstm_kernels_internal-speedbench/outputs_kernel_benchmarks/2025-01-21_10-10-59__headdim_fla_v0_1\"\n",
    "NUM_HEADS = 16\n",
    "ALL_RESULT_FOLDERS = [MLSTM_FOLDER, FLA_FOLDER]"
   ]
  },
  {
   "cell_type": "markdown",
   "metadata": {},
   "source": [
    "### Plot raw results"
   ]
  },
  {
   "cell_type": "code",
   "execution_count": 4,
   "metadata": {},
   "outputs": [],
   "source": [
    "plot_fwbw = True"
   ]
  },
  {
   "cell_type": "code",
   "execution_count": null,
   "metadata": {},
   "outputs": [],
   "source": [
    "get_result_df(\n",
    "    fwbw=plot_fwbw,\n",
    "    data=\"runtime\",\n",
    "    benchmark_folder=MLSTM_FOLDER,\n",
    ")"
   ]
  },
  {
   "cell_type": "code",
   "execution_count": null,
   "metadata": {},
   "outputs": [],
   "source": [
    "fig = create_runtime_line_plot(\n",
    "    data_df=get_result_df(\n",
    "        fwbw=plot_fwbw,\n",
    "        data=\"runtime\",\n",
    "        benchmark_folder=MLSTM_FOLDER,\n",
    "    ),\n",
    "    group_col_names=[\"head_dim_v\"],\n",
    "    x_label=\"head_dim_v\",\n",
    ")"
   ]
  },
  {
   "cell_type": "code",
   "execution_count": null,
   "metadata": {},
   "outputs": [],
   "source": [
    "fig = create_runtime_line_plot(\n",
    "    data_df=get_result_df(\n",
    "        fwbw=plot_fwbw,\n",
    "        data=\"runtime\",\n",
    "        benchmark_folder=FLA_FOLDER,\n",
    "    ),\n",
    "    group_col_names=[\"head_dim_v\"],\n",
    "    x_label=\"head_dim_v\",\n",
    ")"
   ]
  },
  {
   "cell_type": "markdown",
   "metadata": {},
   "source": [
    "### combine df"
   ]
  },
  {
   "cell_type": "code",
   "execution_count": 8,
   "metadata": {},
   "outputs": [],
   "source": [
    "fla_df = get_result_df(\n",
    "    fwbw=plot_fwbw,\n",
    "    data=\"runtime\",\n",
    "    benchmark_folder=FLA_FOLDER,\n",
    ")\n",
    "mlstm_df = get_result_df(\n",
    "    fwbw=plot_fwbw,\n",
    "    data=\"runtime\",\n",
    "    benchmark_folder=MLSTM_FOLDER,\n",
    ")"
   ]
  },
  {
   "cell_type": "code",
   "execution_count": null,
   "metadata": {},
   "outputs": [],
   "source": [
    "fla_df"
   ]
  },
  {
   "cell_type": "code",
   "execution_count": null,
   "metadata": {},
   "outputs": [],
   "source": [
    "mlstm_df"
   ]
  },
  {
   "cell_type": "code",
   "execution_count": null,
   "metadata": {},
   "outputs": [],
   "source": [
    "pd.concat(\n",
    "    [\n",
    "        mlstm_df.set_index(mlstm_df[\"head_dim_v\"]).drop([\"head_dim_v\"], axis=1),\n",
    "        fla_df.set_index(fla_df[\"head_dim_v\"]),\n",
    "    ],\n",
    "    axis=1,\n",
    ")"
   ]
  },
  {
   "cell_type": "code",
   "execution_count": 12,
   "metadata": {},
   "outputs": [],
   "source": [
    "def combine_dfs_on_common_column(\n",
    "    fwbw: bool,\n",
    "    data: Literal[\"runtime\", \"memory\"],\n",
    "    benchmark_folders: list[str | Path],\n",
    "    column: str,\n",
    "):\n",
    "    def make_column_to_index(df: pd.DataFrame):\n",
    "        return df.set_index(df[column]).drop([column], axis=1)\n",
    "\n",
    "    combined_df = pd.concat(\n",
    "        [\n",
    "            make_column_to_index(\n",
    "                get_result_df(fwbw=fwbw, data=data, benchmark_folder=folder)\n",
    "            )\n",
    "            for folder in benchmark_folders\n",
    "        ],\n",
    "        axis=1,\n",
    "    )\n",
    "    # remove duplicate columns by name\n",
    "    # combined_df = combined_df.loc[:, ~combined_df.columns.duplicated()]\n",
    "    return combined_df.reset_index()"
   ]
  },
  {
   "cell_type": "code",
   "execution_count": 13,
   "metadata": {},
   "outputs": [],
   "source": [
    "all_runtime_results_fwbw_df = combine_dfs_on_common_column(\n",
    "    fwbw=True, data=\"runtime\", benchmark_folders=ALL_RESULT_FOLDERS, column=\"head_dim_v\"\n",
    ")\n",
    "all_runtime_results_fw_df = combine_dfs_on_common_column(\n",
    "    fwbw=False,\n",
    "    data=\"runtime\",\n",
    "    benchmark_folders=ALL_RESULT_FOLDERS,\n",
    "    column=\"head_dim_v\",\n",
    ")\n",
    "all_memory_results_fwbw_df = combine_dfs_on_common_column(\n",
    "    fwbw=True, data=\"memory\", benchmark_folders=ALL_RESULT_FOLDERS, column=\"head_dim_v\"\n",
    ")\n",
    "all_memory_results_fw_df = combine_dfs_on_common_column(\n",
    "    fwbw=False, data=\"memory\", benchmark_folders=ALL_RESULT_FOLDERS, column=\"head_dim_v\"\n",
    ")"
   ]
  },
  {
   "cell_type": "code",
   "execution_count": 14,
   "metadata": {},
   "outputs": [],
   "source": [
    "all_results_dict = {\n",
    "    \"runtime\": {\"fw\": all_runtime_results_fw_df, \"fwbw\": all_runtime_results_fwbw_df},\n",
    "    \"memory\": {\"fw\": all_memory_results_fw_df, \"fwbw\": all_memory_results_fwbw_df},\n",
    "}"
   ]
  },
  {
   "cell_type": "code",
   "execution_count": 15,
   "metadata": {},
   "outputs": [],
   "source": [
    "result_filename = \"mlstm_tfla_paper_head_dim_benchmark_results.p\""
   ]
  },
  {
   "cell_type": "code",
   "execution_count": 16,
   "metadata": {},
   "outputs": [],
   "source": [
    "with open(Path(\".\") / result_filename, \"wb\") as f:\n",
    "    pickle.dump(all_results_dict, f)"
   ]
  },
  {
   "cell_type": "markdown",
   "metadata": {},
   "source": [
    "## Make paper plots"
   ]
  },
  {
   "cell_type": "code",
   "execution_count": 17,
   "metadata": {},
   "outputs": [],
   "source": [
    "result_filename = \"mlstm_tfla_paper_head_dim_benchmark_results.p\""
   ]
  },
  {
   "cell_type": "code",
   "execution_count": 18,
   "metadata": {},
   "outputs": [],
   "source": [
    "with open(Path(\".\") / result_filename, \"rb\") as f:\n",
    "    all_results_dict = pickle.load(f)"
   ]
  },
  {
   "cell_type": "code",
   "execution_count": 19,
   "metadata": {},
   "outputs": [],
   "source": [
    "all_runtime_results_fw_df = all_results_dict[\"runtime\"][\"fw\"]\n",
    "all_runtime_results_fwbw_df = all_results_dict[\"runtime\"][\"fwbw\"]"
   ]
  },
  {
   "cell_type": "code",
   "execution_count": null,
   "metadata": {},
   "outputs": [],
   "source": [
    "all_runtime_results_fw_df.T.style"
   ]
  },
  {
   "cell_type": "code",
   "execution_count": null,
   "metadata": {},
   "outputs": [],
   "source": [
    "all_runtime_results_fwbw_df.T.style"
   ]
  },
  {
   "cell_type": "code",
   "execution_count": null,
   "metadata": {},
   "outputs": [],
   "source": [
    "all_runtime_results_fwbw_df.columns"
   ]
  },
  {
   "cell_type": "code",
   "execution_count": 23,
   "metadata": {},
   "outputs": [],
   "source": [
    "from plot_config import (\n",
    "    col_order_headdim,\n",
    "    map_headdim_fwbw_data_col_to_plot_col_mapping,\n",
    "    get_tb_plot_mpl_context,\n",
    "    legend_order,\n",
    "    GRIDSPEC_KWARGS,\n",
    "    style_dict_headdim,\n",
    "    savefig,\n",
    ")\n",
    "\n",
    "MAMBA_VERSION = \"\"  # \"_noconv\""
   ]
  },
  {
   "cell_type": "code",
   "execution_count": 24,
   "metadata": {},
   "outputs": [],
   "source": [
    "headdim_fwbw_df = all_runtime_results_fwbw_df.rename(\n",
    "    columns=map_headdim_fwbw_data_col_to_plot_col_mapping(\n",
    "        fwbw=True, mlstm_exp_chunk_size=128, mlstm_sig_chunk_size=256\n",
    "    )\n",
    ")\n",
    "headdim_fw_df = all_runtime_results_fw_df.rename(\n",
    "    columns=map_headdim_fwbw_data_col_to_plot_col_mapping(\n",
    "        fwbw=False, mlstm_exp_chunk_size=128, mlstm_sig_chunk_size=256\n",
    "    )\n",
    ")"
   ]
  },
  {
   "cell_type": "code",
   "execution_count": null,
   "metadata": {},
   "outputs": [],
   "source": [
    "headdim_fwbw_df"
   ]
  },
  {
   "cell_type": "code",
   "execution_count": null,
   "metadata": {},
   "outputs": [],
   "source": [
    "headdim_fw_df"
   ]
  },
  {
   "cell_type": "code",
   "execution_count": null,
   "metadata": {},
   "outputs": [],
   "source": [
    "fig_height = 4.5\n",
    "with get_tb_plot_mpl_context(fontsize_delta=-0.5):\n",
    "    fig, (ax_left, ax_right) = plt.subplots(\n",
    "        1,\n",
    "        2,\n",
    "        figsize=(12.5, 4),  # (16, 3.5),\n",
    "        gridspec_kw=GRIDSPEC_KWARGS,\n",
    "        sharex=True,\n",
    "    )\n",
    "\n",
    "    fig = create_runtime_line_plot(\n",
    "        ax=ax_left,\n",
    "        data_df=headdim_fw_df,\n",
    "        style_dict=style_dict_headdim,\n",
    "        group_col_names=[\"head_dim_v\"],\n",
    "        plot_column_order=col_order_headdim,\n",
    "        ylim=[0, 20],\n",
    "        legend_args=None,\n",
    "        legend_order=legend_order,\n",
    "        yticks=[0, 2.5, 5, 7.5, 10, 12.5, 15.0, 17.5],\n",
    "        x_label=\"Head Dimension\",\n",
    "    )\n",
    "    fig = create_runtime_line_plot(\n",
    "        ax=ax_right,\n",
    "        data_df=headdim_fwbw_df,\n",
    "        style_dict=style_dict_headdim,\n",
    "        group_col_names=[\"head_dim_v\"],\n",
    "        plot_column_order=col_order_headdim,\n",
    "        ylim=[0, 91],\n",
    "        yticks=[0, 10, 20, 30, 40, 50, 60, 70, 80, 90],\n",
    "        legend_args=None,\n",
    "        x_label=\"Head Dimension\",\n",
    "    )\n",
    "    handles, labels = ax_left.get_legend_handles_labels()\n",
    "    legend_kwargs = {\n",
    "        \"loc\": \"lower center\",\n",
    "        \"ncol\": 3,\n",
    "        \"bbox_to_anchor\": (0.0, 0.87, 1.0, 0.102),\n",
    "        \"frameon\": False,\n",
    "        \"facecolor\": \"white\",\n",
    "    }\n",
    "    fig.legend(handles, labels, **legend_kwargs)"
   ]
  },
  {
   "cell_type": "code",
   "execution_count": 28,
   "metadata": {},
   "outputs": [],
   "source": [
    "savefig(fig=fig, filename=\"tfla_mlstm_kernel_benchmark-headdim--paper\")"
   ]
  },
  {
   "cell_type": "code",
   "execution_count": null,
   "metadata": {},
   "outputs": [],
   "source": []
  }
 ],
 "metadata": {
  "kernelspec": {
   "display_name": "mlstmpt251cu124_beck",
   "language": "python",
   "name": "python3"
  },
  "language_info": {
   "codemirror_mode": {
    "name": "ipython",
    "version": 3
   },
   "file_extension": ".py",
   "mimetype": "text/x-python",
   "name": "python",
   "nbconvert_exporter": "python",
   "pygments_lexer": "ipython3",
   "version": "3.11.11"
  }
 },
 "nbformat": 4,
 "nbformat_minor": 2
}
