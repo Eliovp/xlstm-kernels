{
 "cells": [
  {
   "cell_type": "code",
   "execution_count": 1,
   "metadata": {},
   "outputs": [],
   "source": [
    "%load_ext autoreload\n",
    "%autoreload 2\n",
    "import torch\n",
    "import pandas as pd\n",
    "import matplotlib as mpl\n",
    "import matplotlib.pyplot as plt\n",
    "import numpy as np\n",
    "from pathlib import Path\n",
    "import pickle\n",
    "from mlstm_kernels.utils.benchmark.plot_results import plot_benchmark_result_table, create_runtime_line_plot"
   ]
  },
  {
   "cell_type": "code",
   "execution_count": 2,
   "metadata": {},
   "outputs": [],
   "source": []
  },
  {
   "cell_type": "markdown",
   "metadata": {},
   "source": [
    "## Make paper plots"
   ]
  },
  {
   "cell_type": "code",
   "execution_count": 2,
   "metadata": {},
   "outputs": [],
   "source": [
    "result_filename = \"mlstm_tfla_paper_consttoken_benchmark_results.p\""
   ]
  },
  {
   "cell_type": "code",
   "execution_count": 3,
   "metadata": {},
   "outputs": [],
   "source": [
    "with open(Path(\".\") / result_filename, \"rb\") as f:\n",
    "    all_results_dict = pickle.load(f)"
   ]
  },
  {
   "cell_type": "code",
   "execution_count": 4,
   "metadata": {},
   "outputs": [],
   "source": [
    "all_runtime_results_fw_df = all_results_dict[\"runtime\"][\"fw\"]\n",
    "all_runtime_results_fwbw_df = all_results_dict[\"runtime\"][\"fwbw\"]\n",
    "all_memory_results_fwbw_df = all_results_dict[\"memory\"][\"fwbw\"]"
   ]
  },
  {
   "cell_type": "code",
   "execution_count": null,
   "metadata": {},
   "outputs": [],
   "source": [
    "all_runtime_results_fwbw_df.style"
   ]
  },
  {
   "cell_type": "code",
   "execution_count": null,
   "metadata": {},
   "outputs": [],
   "source": [
    "all_runtime_results_fwbw_df.columns"
   ]
  },
  {
   "cell_type": "code",
   "execution_count": 7,
   "metadata": {},
   "outputs": [],
   "source": [
    "from plot_config import (\n",
    "    map_consttoken_fwbw_appendix_data_col_to_plot_col_mapping,\n",
    "    get_tb_plot_mpl_context,\n",
    "    GRIDSPEC_KWARGS,\n",
    "    savefig,\n",
    "    get_style_dict_appendix,\n",
    "    get_col_order_appendix\n",
    ")"
   ]
  },
  {
   "cell_type": "code",
   "execution_count": 8,
   "metadata": {},
   "outputs": [],
   "source": [
    "consttoken_fwbw_raw_df = all_runtime_results_fwbw_df[[\"sequence_length\"]+list(map_consttoken_fwbw_appendix_data_col_to_plot_col_mapping(fwbw=True).keys())]\n",
    "consttoken_fwbw_df = consttoken_fwbw_raw_df.rename(columns=map_consttoken_fwbw_appendix_data_col_to_plot_col_mapping(fwbw=True))"
   ]
  },
  {
   "cell_type": "code",
   "execution_count": 9,
   "metadata": {},
   "outputs": [],
   "source": [
    "consttoken_fw_raw_df = all_runtime_results_fw_df[[\"sequence_length\"]+list(map_consttoken_fwbw_appendix_data_col_to_plot_col_mapping(fwbw=False).keys())]\n",
    "consttoken_fw_df = consttoken_fw_raw_df.rename(columns=map_consttoken_fwbw_appendix_data_col_to_plot_col_mapping(fwbw=False))"
   ]
  },
  {
   "cell_type": "code",
   "execution_count": 10,
   "metadata": {},
   "outputs": [],
   "source": [
    "consttoken_memory_fwbw_raw_df = all_memory_results_fwbw_df[[\"sequence_length\"]+list(map_consttoken_fwbw_appendix_data_col_to_plot_col_mapping(fwbw=True).keys())]\n",
    "consttoken_memory_fwbw_df = consttoken_memory_fwbw_raw_df.rename(columns=map_consttoken_fwbw_appendix_data_col_to_plot_col_mapping(fwbw=True))"
   ]
  },
  {
   "cell_type": "code",
   "execution_count": null,
   "metadata": {},
   "outputs": [],
   "source": [
    "filter_regex = \"sequence_length|mlstmsig.*|mlstmexp_triton_limit_chunk|chunk_gla|fused_chunk_gla|chunk_simple_gla\"\n",
    "mlstmsig_consttoken_runtime_fwbw_df = consttoken_fwbw_df.filter(regex=filter_regex)\n",
    "mlstmsig_consttoken_runtime_fw_df = consttoken_fw_df.filter(regex=filter_regex)\n",
    "mlstmsig_consttoken_memory_fwbw_df = consttoken_memory_fwbw_df.filter(regex=filter_regex)\n",
    "mlstmsig_consttoken_memory_fwbw_df = pd.concat(\n",
    "    [\n",
    "        mlstmsig_consttoken_memory_fwbw_df[\"sequence_length\"],\n",
    "        mlstmsig_consttoken_memory_fwbw_df.replace(-1, float(\"nan\")).loc[\n",
    "            :, mlstmsig_consttoken_memory_fwbw_df.columns != \"sequence_length\"\n",
    "        ]\n",
    "        / 1e9,\n",
    "    ],\n",
    "    axis=1,\n",
    ")\n",
    "mlstmsig_consttoken_runtime_fwbw_df"
   ]
  },
  {
   "cell_type": "code",
   "execution_count": 12,
   "metadata": {},
   "outputs": [],
   "source": [
    "chunk_sizes = list(reversed([128, 256, 512, 1024, 2048, 4096]))"
   ]
  },
  {
   "cell_type": "code",
   "execution_count": null,
   "metadata": {},
   "outputs": [],
   "source": [
    "fig = create_runtime_line_plot(\n",
    "    data_df=mlstmsig_consttoken_runtime_fwbw_df,\n",
    "    style_dict=get_style_dict_appendix(\n",
    "        chunk_sizes=chunk_sizes, colormap=plt.cm.copper, cmap_start_end=(0.2, 1)\n",
    "    ),\n",
    "    group_col_names=[\"sequence_length\"],\n",
    "    plot_column_order=get_col_order_appendix(chunk_sizes=chunk_sizes),\n",
    "    # legend_order=legend_order,\n",
    "    # yticks=[0, 2.5, 5, 7.5, 10, 12.5, 15.0],\n",
    ")"
   ]
  },
  {
   "cell_type": "code",
   "execution_count": 38,
   "metadata": {},
   "outputs": [],
   "source": []
  },
  {
   "cell_type": "code",
   "execution_count": null,
   "metadata": {},
   "outputs": [],
   "source": [
    "# fw, fwbw, memory\n",
    "# fig_height = 4.5\n",
    "with get_tb_plot_mpl_context(fontsize_delta=0):\n",
    "    fig, (ax_left, ax_middle, ax_right) = plt.subplots(\n",
    "        1,\n",
    "        3,\n",
    "        figsize=(18, 4),\n",
    "        gridspec_kw={\"wspace\": 0.18, \"hspace\": 0.1}\n",
    ",\n",
    "        sharex=True,\n",
    "    )\n",
    "    \n",
    "    fig = create_runtime_line_plot(\n",
    "        ax=ax_left,\n",
    "        data_df=mlstmsig_consttoken_runtime_fw_df,\n",
    "        style_dict=get_style_dict_appendix(\n",
    "            chunk_sizes=chunk_sizes, colormap=plt.cm.copper, cmap_start_end=(0.2, 1)\n",
    "        ),\n",
    "        group_col_names=[\"sequence_length\"],\n",
    "        plot_column_order=get_col_order_appendix(chunk_sizes=chunk_sizes),\n",
    "        # legend_order=legend_order,\n",
    "        # yticks=[0, 2.5, 5, 7.5, 10, 12.5, 15.0],\n",
    "        legend_args=None,\n",
    "    )\n",
    "    fig = create_runtime_line_plot(\n",
    "        ax=ax_middle,\n",
    "        data_df=mlstmsig_consttoken_runtime_fwbw_df,\n",
    "        style_dict=get_style_dict_appendix(\n",
    "            chunk_sizes=chunk_sizes, colormap=plt.cm.copper, cmap_start_end=(0.2, 1)\n",
    "        ),\n",
    "        group_col_names=[\"sequence_length\"],\n",
    "        plot_column_order=get_col_order_appendix(chunk_sizes=chunk_sizes),\n",
    "        # legend_order=legend_order,\n",
    "        # yticks=[0, 2.5, 5, 7.5, 10, 12.5, 15.0],\n",
    "        legend_args=None,\n",
    "    )\n",
    "    fig = create_runtime_line_plot(\n",
    "        ax=ax_right,\n",
    "        data_df=mlstmsig_consttoken_memory_fwbw_df,\n",
    "        style_dict=get_style_dict_appendix(\n",
    "            chunk_sizes=chunk_sizes, colormap=plt.cm.copper, cmap_start_end=(0.2, 1)\n",
    "        ),\n",
    "        group_col_names=[\"sequence_length\"],\n",
    "        plot_column_order=get_col_order_appendix(chunk_sizes=chunk_sizes),\n",
    "        # legend_order=legend_order,\n",
    "        # yticks=[0, 2.5, 5, 7.5, 10, 12.5, 15.0],\n",
    "        y_label=\"GPU Memory [GB]\",\n",
    "        legend_args=None,\n",
    "    )\n",
    "\n",
    "    handles, labels = ax_left.get_legend_handles_labels()\n",
    "    legend_kwargs = {\n",
    "        \"loc\": \"lower center\",\n",
    "        \"ncol\": 5,\n",
    "        \"bbox_to_anchor\": (0.0, 0.87, 1.0, 0.102),\n",
    "        \"frameon\": False,\n",
    "        \"facecolor\": \"white\",\n",
    "    }\n",
    "    fig.legend(handles, labels, **legend_kwargs)"
   ]
  },
  {
   "cell_type": "code",
   "execution_count": 15,
   "metadata": {},
   "outputs": [],
   "source": [
    "# savefig(fig=fig, filename=\"tfla_mlstm_kernel_benchmark--paper\")"
   ]
  },
  {
   "cell_type": "code",
   "execution_count": null,
   "metadata": {},
   "outputs": [],
   "source": [
    "# fw, fwbw, memory\n",
    "# fig_height = 4.5\n",
    "with get_tb_plot_mpl_context(fontsize_delta=-0.5):\n",
    "    fig, (ax_left, ax_right) = plt.subplots(\n",
    "        1,\n",
    "        2,\n",
    "        figsize=(12.5, 4),\n",
    "        gridspec_kw={\"wspace\": 0.15, \"hspace\": 0.1}\n",
    ",\n",
    "        sharex=True,\n",
    "    )\n",
    "    \n",
    "    fig = create_runtime_line_plot(\n",
    "        ax=ax_left,\n",
    "        data_df=mlstmsig_consttoken_runtime_fwbw_df,\n",
    "        style_dict=get_style_dict_appendix(\n",
    "            chunk_sizes=chunk_sizes, colormap=plt.cm.copper, cmap_start_end=(0.2, 1)\n",
    "        ),\n",
    "        group_col_names=[\"sequence_length\"],\n",
    "        plot_column_order=get_col_order_appendix(chunk_sizes=chunk_sizes),\n",
    "        # legend_order=legend_order,\n",
    "        # yticks=[0, 2.5, 5, 7.5, 10, 12.5, 15.0],\n",
    "        legend_args=None,\n",
    "    )\n",
    "    # fig = create_runtime_line_plot(\n",
    "    #     ax=ax_middle,\n",
    "    #     data_df=mlstmsig_consttoken_runtime_fwbw_df,\n",
    "    #     style_dict=get_style_dict_appendix(\n",
    "    #         chunk_sizes=chunk_sizes, colormap=plt.cm.copper, cmap_start_end=(0.2, 1)\n",
    "    #     ),\n",
    "    #     group_col_names=[\"sequence_length\"],\n",
    "    #     plot_column_order=get_col_order_appendix(chunk_sizes=chunk_sizes),\n",
    "    #     # legend_order=legend_order,\n",
    "    #     # yticks=[0, 2.5, 5, 7.5, 10, 12.5, 15.0],\n",
    "    #     legend_args=None,\n",
    "    # )\n",
    "    fig = create_runtime_line_plot(\n",
    "        ax=ax_right,\n",
    "        data_df=mlstmsig_consttoken_memory_fwbw_df,\n",
    "        style_dict=get_style_dict_appendix(\n",
    "            chunk_sizes=chunk_sizes, colormap=plt.cm.copper, cmap_start_end=(0.2, 1)\n",
    "        ),\n",
    "        group_col_names=[\"sequence_length\"],\n",
    "        plot_column_order=get_col_order_appendix(chunk_sizes=chunk_sizes),\n",
    "        # legend_order=legend_order,\n",
    "        # yticks=[0, 2.5, 5, 7.5, 10, 12.5, 15.0],\n",
    "        y_label=\"GPU Memory [GB]\",\n",
    "        legend_args=None,\n",
    "    )\n",
    "\n",
    "    handles, labels = ax_left.get_legend_handles_labels()\n",
    "    legend_kwargs = {\n",
    "        \"loc\": \"lower center\",\n",
    "        \"ncol\": 5,\n",
    "        \"bbox_to_anchor\": (0.0, 0.87, 1.0, 0.102),\n",
    "        \"frameon\": False,\n",
    "        \"facecolor\": \"white\",\n",
    "    }\n",
    "    fig.legend(handles, labels, **legend_kwargs)"
   ]
  },
  {
   "cell_type": "code",
   "execution_count": 17,
   "metadata": {},
   "outputs": [],
   "source": [
    "savefig(fig=fig, filename=\"tfla_mlstm_kernel_benchmark_simple_gla_appendix--paper\")"
   ]
  },
  {
   "cell_type": "code",
   "execution_count": null,
   "metadata": {},
   "outputs": [],
   "source": []
  }
 ],
 "metadata": {
  "kernelspec": {
   "display_name": "mlstmpt251cu124_beck",
   "language": "python",
   "name": "python3"
  },
  "language_info": {
   "codemirror_mode": {
    "name": "ipython",
    "version": 3
   },
   "file_extension": ".py",
   "mimetype": "text/x-python",
   "name": "python",
   "nbconvert_exporter": "python",
   "pygments_lexer": "ipython3",
   "version": "3.11.11"
  }
 },
 "nbformat": 4,
 "nbformat_minor": 2
}
