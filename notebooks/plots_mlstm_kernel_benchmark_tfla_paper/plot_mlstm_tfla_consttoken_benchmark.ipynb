{
 "cells": [
  {
   "cell_type": "code",
   "execution_count": null,
   "metadata": {},
   "outputs": [],
   "source": [
    "%load_ext autoreload\n",
    "%autoreload 2\n",
    "import torch\n",
    "import pandas as pd\n",
    "import matplotlib as mpl\n",
    "import matplotlib.pyplot as plt\n",
    "import numpy as np\n",
    "from pathlib import Path\n",
    "import pickle\n",
    "from mlstm_kernels.utils.benchmark.plot_results import (\n",
    "    plot_benchmark_result_table,\n",
    "    create_runtime_line_plot,\n",
    ")"
   ]
  },
  {
   "cell_type": "code",
   "execution_count": 2,
   "metadata": {},
   "outputs": [],
   "source": []
  },
  {
   "cell_type": "markdown",
   "metadata": {},
   "source": [
    "### Plot Results for kernel benchmark with 7B model size"
   ]
  },
  {
   "cell_type": "code",
   "execution_count": 31,
   "metadata": {},
   "outputs": [],
   "source": [
    "from typing import Literal\n",
    "\n",
    "\n",
    "def get_result_df(\n",
    "    fwbw: bool,\n",
    "    data: Literal[\"runtime\", \"memory\"],\n",
    "    benchmark_folder: str | Path,\n",
    "    add_batch_size_col: bool = False,\n",
    "    remove_col_name_prefixes: bool = True,\n",
    ") -> pd.DataFrame:\n",
    "    benchmark_folder = Path(benchmark_folder)\n",
    "    benchmark_name = \"constant_tokens_sequence_\"\n",
    "    fwbw_folder_path = None\n",
    "    fw_folder_path = None\n",
    "    for dir_item in benchmark_folder.iterdir():\n",
    "        if dir_item.is_dir():\n",
    "            if \"fwbw\" in dir_item.stem.split(benchmark_name)[-1]:\n",
    "                assert fwbw_folder_path is None\n",
    "                fwbw_folder_path = dir_item\n",
    "            elif \"fw\" in dir_item.stem.split(benchmark_name)[-1]:\n",
    "                assert fw_folder_path is None\n",
    "                fw_folder_path = dir_item\n",
    "\n",
    "    folder_path = fwbw_folder_path if fwbw else fw_folder_path\n",
    "\n",
    "    result_df = pd.read_csv(folder_path / \"results.csv\")\n",
    "\n",
    "    data_prefix = \"R--\" if data == \"runtime\" else \"M--\"\n",
    "    bs_col = \"P--batch_size|\" if add_batch_size_col else \"\"\n",
    "    result_df = result_df.filter(regex=f\"P--sequence_length|{bs_col}{data_prefix}.*\")\n",
    "    if remove_col_name_prefixes:\n",
    "        result_df = result_df.rename(columns=lambda x: x[3:])\n",
    "\n",
    "    return result_df"
   ]
  },
  {
   "cell_type": "code",
   "execution_count": 32,
   "metadata": {},
   "outputs": [],
   "source": [
    "MLSTM_FOLDER = \"/home/beck/wdir/cleaned_repos/mlstm_kernels_internal-speedbench/outputs_kernel_benchmarks/2025-01-20_15-05-42__consttok_mlstm_triton_v2\"\n",
    "FLASHATTN_FOLDER = \"/home/beck/wdir/cleaned_repos/mlstm_kernels_internal-speedbench/outputs_kernel_benchmarks/2025-01-20_15-12-37__consttok_flashattn_v2\"\n",
    "FLA_FOLDER = \"/home/beck/wdir/cleaned_repos/mlstm_kernels_internal-speedbench/outputs_kernel_benchmarks/2025-01-20_15-31-14__consttok_fla_v2\"\n",
    "MAMBA_FOLDER = \"/home/beck/wdir/cleaned_repos/mlstm_kernels_internal-speedbench/outputs_kernel_benchmarks/2025-01-20_15-52-47__consttok_mamba_v2_1\"\n",
    "# \"/home/beck/wdir/cleaned_repos/mlstm_kernels_internal-speedbench/outputs_kernel_benchmarks/2025-01-20_15-31-04__consttok_mamba_v2\"\n",
    "\n",
    "ALL_RESULT_FOLDERS = [MLSTM_FOLDER, FLASHATTN_FOLDER, FLA_FOLDER, MAMBA_FOLDER]"
   ]
  },
  {
   "cell_type": "markdown",
   "metadata": {},
   "source": [
    "### Plot raw results"
   ]
  },
  {
   "cell_type": "code",
   "execution_count": 33,
   "metadata": {},
   "outputs": [],
   "source": [
    "plot_fwbw = True"
   ]
  },
  {
   "cell_type": "code",
   "execution_count": null,
   "metadata": {},
   "outputs": [],
   "source": [
    "get_result_df(\n",
    "    fwbw=plot_fwbw,\n",
    "    data=\"runtime\",\n",
    "    benchmark_folder=FLASHATTN_FOLDER,\n",
    "    add_batch_size_col=True,\n",
    ")"
   ]
  },
  {
   "cell_type": "code",
   "execution_count": null,
   "metadata": {},
   "outputs": [],
   "source": [
    "fig = create_runtime_line_plot(\n",
    "    data_df=get_result_df(\n",
    "        fwbw=plot_fwbw,\n",
    "        data=\"runtime\",\n",
    "        benchmark_folder=FLASHATTN_FOLDER,\n",
    "    ),\n",
    "    group_col_names=[\"sequence_length\"],\n",
    ")"
   ]
  },
  {
   "cell_type": "code",
   "execution_count": null,
   "metadata": {},
   "outputs": [],
   "source": [
    "fig = create_runtime_line_plot(\n",
    "    data_df=get_result_df(\n",
    "        fwbw=plot_fwbw,\n",
    "        data=\"runtime\",\n",
    "        benchmark_folder=MLSTM_FOLDER,\n",
    "    ),\n",
    "    group_col_names=[\"sequence_length\"],\n",
    ")"
   ]
  },
  {
   "cell_type": "code",
   "execution_count": null,
   "metadata": {},
   "outputs": [],
   "source": [
    "fig = create_runtime_line_plot(\n",
    "    data_df=get_result_df(\n",
    "        fwbw=False,\n",
    "        data=\"runtime\",\n",
    "        benchmark_folder=MLSTM_FOLDER,\n",
    "    ),\n",
    "    group_col_names=[\"sequence_length\"],\n",
    ")"
   ]
  },
  {
   "cell_type": "code",
   "execution_count": null,
   "metadata": {},
   "outputs": [],
   "source": [
    "fig = create_runtime_line_plot(\n",
    "    data_df=get_result_df(\n",
    "        fwbw=plot_fwbw,\n",
    "        data=\"runtime\",\n",
    "        benchmark_folder=FLA_FOLDER,\n",
    "    ),\n",
    "    group_col_names=[\"sequence_length\"],\n",
    ")"
   ]
  },
  {
   "cell_type": "code",
   "execution_count": null,
   "metadata": {},
   "outputs": [],
   "source": [
    "fig = create_runtime_line_plot(\n",
    "    data_df=get_result_df(\n",
    "        fwbw=False,\n",
    "        data=\"runtime\",\n",
    "        benchmark_folder=FLA_FOLDER,\n",
    "    ),\n",
    "    group_col_names=[\"sequence_length\"],\n",
    ")"
   ]
  },
  {
   "cell_type": "code",
   "execution_count": null,
   "metadata": {},
   "outputs": [],
   "source": [
    "fig = create_runtime_line_plot(\n",
    "    data_df=get_result_df(\n",
    "        fwbw=plot_fwbw,\n",
    "        data=\"runtime\",\n",
    "        benchmark_folder=MAMBA_FOLDER,\n",
    "    ),\n",
    "    group_col_names=[\"sequence_length\"],\n",
    ")"
   ]
  },
  {
   "cell_type": "markdown",
   "metadata": {},
   "source": [
    "### combine df"
   ]
  },
  {
   "cell_type": "code",
   "execution_count": 41,
   "metadata": {},
   "outputs": [],
   "source": [
    "def combine_dfs(\n",
    "    fwbw: bool, data: Literal[\"runtime\", \"memory\"], benchmark_folders: list[str | Path]\n",
    "):\n",
    "    combined_df = pd.concat(\n",
    "        [\n",
    "            get_result_df(fwbw=fwbw, data=data, benchmark_folder=folder)\n",
    "            for folder in benchmark_folders\n",
    "        ],\n",
    "        axis=1,\n",
    "    )\n",
    "    # remove duplicate columns by name\n",
    "    combined_df = combined_df.loc[:, ~combined_df.columns.duplicated()]\n",
    "    return combined_df"
   ]
  },
  {
   "cell_type": "code",
   "execution_count": 42,
   "metadata": {},
   "outputs": [],
   "source": [
    "all_runtime_results_fwbw_df = combine_dfs(\n",
    "    fwbw=True, data=\"runtime\", benchmark_folders=ALL_RESULT_FOLDERS\n",
    ")\n",
    "all_runtime_results_fw_df = combine_dfs(\n",
    "    fwbw=False, data=\"runtime\", benchmark_folders=ALL_RESULT_FOLDERS\n",
    ")\n",
    "all_memory_results_fwbw_df = combine_dfs(\n",
    "    fwbw=True, data=\"memory\", benchmark_folders=ALL_RESULT_FOLDERS\n",
    ")\n",
    "all_memory_results_fw_df = combine_dfs(\n",
    "    fwbw=False, data=\"memory\", benchmark_folders=ALL_RESULT_FOLDERS\n",
    ")"
   ]
  },
  {
   "cell_type": "code",
   "execution_count": 43,
   "metadata": {},
   "outputs": [],
   "source": [
    "all_results_dict = {\n",
    "    \"runtime\": {\"fw\": all_runtime_results_fw_df, \"fwbw\": all_runtime_results_fwbw_df},\n",
    "    \"memory\": {\"fw\": all_memory_results_fw_df, \"fwbw\": all_memory_results_fwbw_df},\n",
    "}"
   ]
  },
  {
   "cell_type": "code",
   "execution_count": 44,
   "metadata": {},
   "outputs": [],
   "source": [
    "result_filename = \"mlstm_tfla_paper_consttoken_benchmark_results.p\""
   ]
  },
  {
   "cell_type": "code",
   "execution_count": 45,
   "metadata": {},
   "outputs": [],
   "source": [
    "with open(Path(\".\") / result_filename, \"wb\") as f:\n",
    "    pickle.dump(all_results_dict, f)"
   ]
  },
  {
   "cell_type": "markdown",
   "metadata": {},
   "source": [
    "## Make paper plots"
   ]
  },
  {
   "cell_type": "code",
   "execution_count": 46,
   "metadata": {},
   "outputs": [],
   "source": [
    "result_filename = \"mlstm_tfla_paper_consttoken_benchmark_results.p\""
   ]
  },
  {
   "cell_type": "code",
   "execution_count": 47,
   "metadata": {},
   "outputs": [],
   "source": [
    "with open(Path(\".\") / result_filename, \"rb\") as f:\n",
    "    all_results_dict = pickle.load(f)"
   ]
  },
  {
   "cell_type": "code",
   "execution_count": 48,
   "metadata": {},
   "outputs": [],
   "source": [
    "all_runtime_results_fw_df = all_results_dict[\"runtime\"][\"fw\"]\n",
    "all_runtime_results_fwbw_df = all_results_dict[\"runtime\"][\"fwbw\"]"
   ]
  },
  {
   "cell_type": "code",
   "execution_count": null,
   "metadata": {},
   "outputs": [],
   "source": [
    "all_runtime_results_fw_df.T.style"
   ]
  },
  {
   "cell_type": "code",
   "execution_count": null,
   "metadata": {},
   "outputs": [],
   "source": [
    "all_runtime_results_fwbw_df.T.style"
   ]
  },
  {
   "cell_type": "code",
   "execution_count": null,
   "metadata": {},
   "outputs": [],
   "source": [
    "all_runtime_results_fwbw_df.columns"
   ]
  },
  {
   "cell_type": "code",
   "execution_count": 52,
   "metadata": {},
   "outputs": [],
   "source": [
    "from plot_config import (\n",
    "    col_order_consttoken,\n",
    "    map_consttoken_fwbw_data_col_to_plot_col_mapping,\n",
    "    get_tb_plot_mpl_context,\n",
    "    legend_order,\n",
    "    GRIDSPEC_KWARGS,\n",
    "    style_dict,\n",
    "    savefig,\n",
    ")"
   ]
  },
  {
   "cell_type": "code",
   "execution_count": 53,
   "metadata": {},
   "outputs": [],
   "source": [
    "consttoken_fwbw_raw_df = all_runtime_results_fwbw_df[\n",
    "    [\"sequence_length\"]\n",
    "    + list(map_consttoken_fwbw_data_col_to_plot_col_mapping(fwbw=True).keys())\n",
    "]\n",
    "consttoken_fwbw_df = consttoken_fwbw_raw_df.rename(\n",
    "    columns=map_consttoken_fwbw_data_col_to_plot_col_mapping(fwbw=True)\n",
    ")"
   ]
  },
  {
   "cell_type": "code",
   "execution_count": 54,
   "metadata": {},
   "outputs": [],
   "source": [
    "consttoken_fw_raw_df = all_runtime_results_fw_df[\n",
    "    [\"sequence_length\"]\n",
    "    + list(map_consttoken_fwbw_data_col_to_plot_col_mapping(fwbw=False).keys())\n",
    "]\n",
    "consttoken_fw_df = consttoken_fw_raw_df.rename(\n",
    "    columns=map_consttoken_fwbw_data_col_to_plot_col_mapping(fwbw=False)\n",
    ")"
   ]
  },
  {
   "cell_type": "code",
   "execution_count": null,
   "metadata": {},
   "outputs": [],
   "source": [
    "consttoken_fwbw_df"
   ]
  },
  {
   "cell_type": "code",
   "execution_count": null,
   "metadata": {},
   "outputs": [],
   "source": [
    "consttoken_fw_df"
   ]
  },
  {
   "cell_type": "code",
   "execution_count": null,
   "metadata": {},
   "outputs": [],
   "source": [
    "fig_height = 4.5\n",
    "with get_tb_plot_mpl_context(fontsize_delta=1):\n",
    "    fig, (ax_left, ax_right) = plt.subplots(\n",
    "        1,\n",
    "        2,\n",
    "        figsize=(16, 3.5),\n",
    "        gridspec_kw=GRIDSPEC_KWARGS,\n",
    "        sharex=True,\n",
    "    )\n",
    "\n",
    "    fig = create_runtime_line_plot(\n",
    "        ax=ax_left,\n",
    "        data_df=consttoken_fw_df,\n",
    "        style_dict=style_dict,\n",
    "        group_col_names=[\"sequence_length\"],\n",
    "        plot_column_order=col_order_consttoken,\n",
    "        ylim=[0, 15.5],\n",
    "        legend_args=None,\n",
    "        legend_order=legend_order,\n",
    "        yticks=[0, 2.5, 5, 7.5, 10, 12.5, 15.0],\n",
    "    )\n",
    "    fig = create_runtime_line_plot(\n",
    "        ax=ax_right,\n",
    "        data_df=consttoken_fwbw_df,\n",
    "        style_dict=style_dict,\n",
    "        group_col_names=[\"sequence_length\"],\n",
    "        plot_column_order=col_order_consttoken,\n",
    "        ylim=[0, 68],\n",
    "        legend_args=None,\n",
    "    )\n",
    "    handles, labels = ax_left.get_legend_handles_labels()\n",
    "    legend_kwargs = {\n",
    "        \"loc\": \"lower center\",\n",
    "        \"ncol\": 5,\n",
    "        \"bbox_to_anchor\": (0.0, 0.87, 1.0, 0.102),\n",
    "        \"frameon\": False,\n",
    "        \"facecolor\": \"white\",\n",
    "    }\n",
    "    fig.legend(handles, labels, **legend_kwargs)"
   ]
  },
  {
   "cell_type": "code",
   "execution_count": 58,
   "metadata": {},
   "outputs": [],
   "source": [
    "savefig(fig=fig, filename=\"tfla_mlstm_kernel_benchmark--paper\")"
   ]
  },
  {
   "cell_type": "code",
   "execution_count": null,
   "metadata": {},
   "outputs": [],
   "source": []
  }
 ],
 "metadata": {
  "kernelspec": {
   "display_name": "mlstmpt251cu124_beck",
   "language": "python",
   "name": "python3"
  },
  "language_info": {
   "codemirror_mode": {
    "name": "ipython",
    "version": 3
   },
   "file_extension": ".py",
   "mimetype": "text/x-python",
   "name": "python",
   "nbconvert_exporter": "python",
   "pygments_lexer": "ipython3",
   "version": "3.11.11"
  }
 },
 "nbformat": 4,
 "nbformat_minor": 2
}
