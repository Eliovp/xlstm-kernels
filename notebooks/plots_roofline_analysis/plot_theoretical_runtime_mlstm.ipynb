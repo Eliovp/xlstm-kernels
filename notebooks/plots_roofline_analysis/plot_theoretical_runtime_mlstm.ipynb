{
 "cells": [
  {
   "cell_type": "code",
   "execution_count": null,
   "metadata": {},
   "outputs": [],
   "source": [
    "import sys\n",
    "\n",
    "sys.path.append(\"../..\")\n",
    "\n",
    "from functools import partial"
   ]
  },
  {
   "cell_type": "code",
   "execution_count": null,
   "metadata": {},
   "outputs": [],
   "source": [
    "%load_ext autoreload\n",
    "%autoreload 2\n",
    "from mlstm_kernels.utils.analysis.roofline_analysis.plot_runtime import (\n",
    "    create_runtime_plot,\n",
    ")\n",
    "from mlstm_kernels.utils.analysis.roofline_analysis.plot_config import savefig"
   ]
  },
  {
   "cell_type": "code",
   "execution_count": null,
   "metadata": {},
   "outputs": [],
   "source": [
    "fig = create_runtime_plot()\n",
    "fig"
   ]
  },
  {
   "cell_type": "code",
   "execution_count": null,
   "metadata": {},
   "outputs": [],
   "source": [
    "savefig(fig, \"mlstm_runtime_over_chunk_size\")"
   ]
  },
  {
   "cell_type": "code",
   "execution_count": null,
   "metadata": {},
   "outputs": [],
   "source": [
    "%autoreload 2\n",
    "import numpy as np\n",
    "import matplotlib.pyplot as plt\n",
    "from mlstm_kernels.utils.analysis.roofline_analysis.roofline_analysis_mlstm import (\n",
    "    acc_math_projection,\n",
    "    acc_mem_projection,\n",
    ")"
   ]
  },
  {
   "cell_type": "code",
   "execution_count": null,
   "metadata": {},
   "outputs": [],
   "source": [
    "xdata = np.linspace(0, 9, 100)"
   ]
  },
  {
   "cell_type": "code",
   "execution_count": null,
   "metadata": {},
   "outputs": [],
   "source": [
    "plt.plot(\n",
    "    xdata, acc_math_projection(xdata) / acc_mem_projection(xdata), label=\"Roofline\"\n",
    ")"
   ]
  },
  {
   "cell_type": "code",
   "execution_count": null,
   "metadata": {},
   "outputs": [],
   "source": [
    "import matplotlib.pyplot as plt\n",
    "\n",
    "# plt.plot(acc_intensities, y)"
   ]
  },
  {
   "cell_type": "code",
   "execution_count": null,
   "metadata": {},
   "outputs": [],
   "source": [
    "from mlstm_kernels.utils.analysis.roofline_analysis.roofline_analysis_mlstm import (\n",
    "    Acc_math_v100,\n",
    "    Acc_mem_v100,\n",
    "    Acc_math_a100,\n",
    "    Acc_mem_a100,\n",
    "    Acc_math_h100,\n",
    "    Acc_mem_h100,\n",
    "    Acc_intensity_v100,\n",
    "    Acc_intensity_a100,\n",
    "    Acc_intensity_h100,\n",
    "    Acc_math_b200,\n",
    "    Acc_mem_b200,\n",
    "    Acc_intensity_b200,\n",
    ")\n",
    "import matplotlib.pyplot as plt"
   ]
  },
  {
   "cell_type": "code",
   "execution_count": null,
   "metadata": {},
   "outputs": [],
   "source": [
    "add_blackwell = True\n",
    "\n",
    "if add_blackwell:\n",
    "    years = [0, 3, 5, 8]\n",
    "    math_points = [Acc_math_v100, Acc_math_a100, Acc_math_h100, Acc_math_b200]\n",
    "    mem_points = [Acc_mem_v100, Acc_mem_a100, Acc_mem_h100, Acc_mem_b200]\n",
    "    intensity_points = [\n",
    "        Acc_intensity_v100,\n",
    "        Acc_intensity_a100,\n",
    "        Acc_intensity_h100,\n",
    "        Acc_intensity_b200,\n",
    "    ]\n",
    "else:\n",
    "    years = [0, 3, 5]\n",
    "    math_points = [Acc_math_v100, Acc_math_a100, Acc_math_h100]\n",
    "    mem_points = [Acc_mem_v100, Acc_mem_a100, Acc_mem_h100]\n",
    "    intensity_points = [Acc_intensity_v100, Acc_intensity_a100, Acc_intensity_h100]\n",
    "\n",
    "math_coefficients = np.polyfit(years, math_points, 1)\n",
    "mem_coefficients = np.polyfit(years, mem_points, 1)\n",
    "intensity_coefficients = np.polyfit(years, intensity_points, 1)"
   ]
  },
  {
   "cell_type": "code",
   "execution_count": null,
   "metadata": {},
   "outputs": [],
   "source": [
    "plt.scatter(mem_points, math_points)\n",
    "# plt.xscale(\"log\")"
   ]
  },
  {
   "cell_type": "code",
   "execution_count": null,
   "metadata": {},
   "outputs": [],
   "source": [
    "plt.scatter(years, intensity_points)"
   ]
  },
  {
   "cell_type": "code",
   "execution_count": null,
   "metadata": {},
   "outputs": [],
   "source": [
    "math_coefficients, mem_coefficients, intensity_coefficients"
   ]
  },
  {
   "cell_type": "code",
   "execution_count": null,
   "metadata": {},
   "outputs": [],
   "source": [
    "def lin_func(x, coefficients):\n",
    "    return coefficients[0] * x + coefficients[1]"
   ]
  },
  {
   "cell_type": "code",
   "execution_count": null,
   "metadata": {},
   "outputs": [],
   "source": [
    "xdata = np.linspace(0.5, 8, 10)"
   ]
  },
  {
   "cell_type": "code",
   "execution_count": null,
   "metadata": {},
   "outputs": [],
   "source": [
    "plt.plot(xdata, lin_func(xdata, math_coefficients))\n",
    "plt.scatter(years, math_points)"
   ]
  },
  {
   "cell_type": "code",
   "execution_count": null,
   "metadata": {},
   "outputs": [],
   "source": [
    "plt.plot(xdata, lin_func(xdata, mem_coefficients))\n",
    "plt.scatter(years, mem_points)"
   ]
  },
  {
   "cell_type": "code",
   "execution_count": null,
   "metadata": {},
   "outputs": [],
   "source": [
    "plt.plot(xdata, lin_func(xdata, math_coefficients) / lin_func(xdata, mem_coefficients))\n",
    "plt.scatter(years, intensity_points)\n",
    "plt.grid()"
   ]
  },
  {
   "cell_type": "code",
   "execution_count": null,
   "metadata": {},
   "outputs": [],
   "source": [
    "[Acc_intensity_v100, Acc_intensity_a100, Acc_intensity_h100]"
   ]
  },
  {
   "cell_type": "code",
   "execution_count": null,
   "metadata": {},
   "outputs": [],
   "source": []
  },
  {
   "cell_type": "code",
   "execution_count": null,
   "metadata": {},
   "outputs": [],
   "source": []
  }
 ],
 "metadata": {
  "kernelspec": {
   "display_name": "mlstmpt251cu124",
   "language": "python",
   "name": "python3"
  },
  "language_info": {
   "codemirror_mode": {
    "name": "ipython",
    "version": 3
   },
   "file_extension": ".py",
   "mimetype": "text/x-python",
   "name": "python",
   "nbconvert_exporter": "python",
   "pygments_lexer": "ipython3",
   "version": "3.11.11"
  }
 },
 "nbformat": 4,
 "nbformat_minor": 2
}
