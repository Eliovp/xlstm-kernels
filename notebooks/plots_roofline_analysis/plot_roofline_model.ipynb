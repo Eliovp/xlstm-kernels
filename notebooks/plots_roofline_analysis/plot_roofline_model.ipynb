{
 "cells": [
  {
   "cell_type": "code",
   "execution_count": null,
   "metadata": {},
   "outputs": [],
   "source": [
    "%load_ext autoreload\n",
    "%autoreload 2\n",
    "\n",
    "import sys\n",
    "\n",
    "sys.path.append(\"../..\")\n",
    "\n",
    "import numpy as np\n",
    "import matplotlib.pyplot as plt\n",
    "from matplotlib.axes import Axes\n",
    "from matplotlib.figure import Figure\n",
    "import matplotlib.pyplot as plt\n",
    "from pathlib import Path\n",
    "import pandas as pd"
   ]
  },
  {
   "cell_type": "markdown",
   "metadata": {},
   "source": [
    "# Roofline Model Plot"
   ]
  },
  {
   "cell_type": "code",
   "execution_count": null,
   "metadata": {},
   "outputs": [],
   "source": [
    "%autoreload 2\n",
    "from mlstm_kernels.utils.analysis.roofline_analysis.roofline_analysis_mlstm import (\n",
    "    Acc_math_v100,\n",
    "    Acc_math_a100,\n",
    "    Acc_math_h100,\n",
    "    Acc_mem_v100,\n",
    "    Acc_mem_a100,\n",
    "    Acc_mem_h100,\n",
    "    Acc_math_mem_dict,\n",
    "    Acc_math_mem_dict_blackwell,\n",
    ")\n",
    "from mlstm_kernels.utils.analysis.roofline_analysis.plot_runtime import (\n",
    "    load_runtime_df,\n",
    "    create_runtime_vs_flops_per_second_or_flops_plot,\n",
    ")\n",
    "from mlstm_kernels.utils.plot.bar_plot import create_double_bar_plot\n",
    "from mlstm_kernels.utils.analysis.roofline_analysis.plot_config import (\n",
    "    get_plot_mpl_context,\n",
    "    savefig,\n",
    ")\n",
    "\n",
    "from mlstm_kernels.utils.analysis.roofline_analysis.plot_roofline_model import (\n",
    "    create_roofline_analysis_plot,\n",
    "    get_measured_data_df,\n",
    ")"
   ]
  },
  {
   "cell_type": "code",
   "execution_count": null,
   "metadata": {},
   "outputs": [],
   "source": [
    "get_measured_data_df()"
   ]
  },
  {
   "cell_type": "code",
   "execution_count": null,
   "metadata": {},
   "outputs": [],
   "source": [
    "fig = create_roofline_analysis_plot()\n",
    "fig"
   ]
  },
  {
   "cell_type": "code",
   "execution_count": null,
   "metadata": {},
   "outputs": [],
   "source": [
    "savefig(fig, \"mlstm_roofline_model\")"
   ]
  },
  {
   "cell_type": "markdown",
   "metadata": {},
   "source": [
    "# Flops per second and FLOPs"
   ]
  },
  {
   "cell_type": "code",
   "execution_count": null,
   "metadata": {},
   "outputs": [],
   "source": [
    "fig = create_runtime_vs_flops_per_second_or_flops_plot(which=\"flops_per_second\")\n",
    "fig"
   ]
  },
  {
   "cell_type": "code",
   "execution_count": null,
   "metadata": {},
   "outputs": [],
   "source": [
    "savefig(fig, \"mlstm_time_vs_flops_per_second\")"
   ]
  },
  {
   "cell_type": "code",
   "execution_count": null,
   "metadata": {},
   "outputs": [],
   "source": [
    "fig = create_runtime_vs_flops_per_second_or_flops_plot(which=\"flops\")\n",
    "fig"
   ]
  },
  {
   "cell_type": "code",
   "execution_count": null,
   "metadata": {},
   "outputs": [],
   "source": [
    "savefig(fig, \"mlstm_time_vs_flops\")"
   ]
  },
  {
   "cell_type": "code",
   "execution_count": null,
   "metadata": {},
   "outputs": [],
   "source": [
    "result_filename = \"notebooks/plots_mlstm_kernel_benchmark_tfla_paper/mlstm_tfla_paper_consttoken_benchmark_results.p\"\n",
    "file = Path(\".\") / \"../..\" / result_filename\n",
    "runtime_df = load_runtime_df(file)\n",
    "runtime_df"
   ]
  },
  {
   "cell_type": "code",
   "execution_count": null,
   "metadata": {},
   "outputs": [],
   "source": []
  }
 ],
 "metadata": {
  "kernelspec": {
   "display_name": "mlstmpt251cu124",
   "language": "python",
   "name": "python3"
  },
  "language_info": {
   "codemirror_mode": {
    "name": "ipython",
    "version": 3
   },
   "file_extension": ".py",
   "mimetype": "text/x-python",
   "name": "python",
   "nbconvert_exporter": "python",
   "pygments_lexer": "ipython3",
   "version": "3.11.11"
  }
 },
 "nbformat": 4,
 "nbformat_minor": 2
}
