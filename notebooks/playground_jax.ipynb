{
 "cells": [
  {
   "cell_type": "code",
   "execution_count": null,
   "metadata": {},
   "outputs": [],
   "source": [
    "import jax\n",
    "import jax.numpy as jnp\n",
    "import sys\n",
    "from functools import map\n",
    "sys.path.append(\"../..\")"
   ]
  },
  {
   "cell_type": "code",
   "execution_count": 2,
   "metadata": {},
   "outputs": [
    {
     "name": "stderr",
     "output_type": "stream",
     "text": [
      "2024-11-18 21:32:06.768103: W external/xla/xla/service/gpu/nvptx_compiler.cc:930] The NVIDIA driver's CUDA version is 12.4 which is older than the PTX compiler version 12.6.77. Because the driver is older than the PTX compiler version, XLA is disabling parallel compilation, which may slow down compilation. You should update your NVIDIA driver or use the NVIDIA-provided CUDA forward compatibility packages.\n"
     ]
    }
   ],
   "source": [
    "z = jnp.zeros((2, 3, 5, 6))\n",
    "z2 = jnp.zeros((2, 3, 5, 6))\n"
   ]
  },
  {
   "cell_type": "code",
   "execution_count": null,
   "metadata": {},
   "outputs": [],
   "source": [
    "map(jnp.moveaxis"
   ]
  },
  {
   "cell_type": "code",
   "execution_count": 2,
   "metadata": {},
   "outputs": [
    {
     "data": {
      "text/plain": [
       "numpy.dtype"
      ]
     },
     "execution_count": 2,
     "metadata": {},
     "output_type": "execute_result"
    }
   ],
   "source": [
    "jnp.dtype"
   ]
  },
  {
   "cell_type": "code",
   "execution_count": 5,
   "metadata": {},
   "outputs": [
    {
     "data": {
      "text/plain": [
       "((1, 1, 5), Array([[[0., 1., 2., 3., 4.]]], dtype=float32))"
      ]
     },
     "execution_count": 5,
     "metadata": {},
     "output_type": "execute_result"
    }
   ],
   "source": [
    "arr = jnp.arange(5)[None, None, :].astype(jnp.float32)\n",
    "arr.shape, arr"
   ]
  },
  {
   "cell_type": "code",
   "execution_count": 8,
   "metadata": {},
   "outputs": [
    {
     "data": {
      "text/plain": [
       "(True, False)"
      ]
     },
     "execution_count": 8,
     "metadata": {},
     "output_type": "execute_result"
    }
   ],
   "source": [
    "arr.dtype == jnp.float32, arr.dtype==jnp.bfloat16"
   ]
  },
  {
   "cell_type": "code",
   "execution_count": 4,
   "metadata": {},
   "outputs": [
    {
     "data": {
      "text/plain": [
       "((1, 1, 5, 3),\n",
       " Array([[[[0, 0, 0],\n",
       "          [1, 1, 1],\n",
       "          [2, 2, 2],\n",
       "          [3, 3, 3],\n",
       "          [4, 4, 4]]]], dtype=int32))"
      ]
     },
     "execution_count": 4,
     "metadata": {},
     "output_type": "execute_result"
    }
   ],
   "source": [
    "arr_rep = arr[:, :, :, None].repeat(3, axis=-1)\n",
    "arr_rep.shape, arr_rep"
   ]
  },
  {
   "cell_type": "code",
   "execution_count": 5,
   "metadata": {},
   "outputs": [
    {
     "data": {
      "text/plain": [
       "{'params': {'scale': Array([1., 1., 1., 1., 1., 1.], dtype=float32),\n",
       "  'bias': Array([0., 0., 0., 0., 0., 0.], dtype=float32)}}"
      ]
     },
     "execution_count": 5,
     "metadata": {},
     "output_type": "execute_result"
    }
   ],
   "source": [
    "import flax.linen as nn\n",
    "\n",
    "import jax\n",
    "\n",
    "import numpy as np\n",
    "\n",
    "x = jax.random.normal(jax.random.key(0), (3, 4, 5, 6))\n",
    "\n",
    "layer = nn.LayerNorm()\n",
    "\n",
    "variables = layer.init(jax.random.key(1), x)\n",
    "variables"
   ]
  },
  {
   "cell_type": "code",
   "execution_count": 6,
   "metadata": {},
   "outputs": [
    {
     "data": {
      "text/plain": [
       "(Array([[[-1.98682155e-08,  3.97364310e-08,  1.19209290e-07,\n",
       "          -1.98682155e-08,  3.97364310e-08],\n",
       "         [-4.22199591e-08,  1.49011612e-08,  3.97364310e-08,\n",
       "          -9.93410776e-09, -2.48352694e-09],\n",
       "         [ 0.00000000e+00, -1.98682155e-08, -1.09275184e-07,\n",
       "          -4.34617213e-08,  9.93410776e-09],\n",
       "         [ 1.24176349e-08,  1.98682155e-08,  9.93410776e-09,\n",
       "          -1.98682155e-08, -9.93410776e-09]],\n",
       " \n",
       "        [[-3.97364310e-08,  0.00000000e+00,  0.00000000e+00,\n",
       "           0.00000000e+00,  3.97364310e-08],\n",
       "         [ 1.49011612e-08, -9.93410776e-09,  1.98682155e-08,\n",
       "          -1.65154546e-07, -1.98682155e-08],\n",
       "         [ 2.23517418e-08, -4.96705388e-09,  0.00000000e+00,\n",
       "           9.93410776e-09, -2.98023224e-08],\n",
       "         [ 1.98682155e-08,  3.97364310e-08, -2.98023224e-08,\n",
       "           3.47693785e-08, -2.98023224e-08]],\n",
       " \n",
       "        [[ 1.98682155e-08,  1.98682155e-08, -3.60887498e-08,\n",
       "           1.49011612e-08,  3.97364310e-08],\n",
       "         [ 1.68879836e-07, -1.98682155e-08,  1.98682155e-08,\n",
       "          -2.48352698e-08,  3.97364310e-08],\n",
       "         [ 9.93410776e-09, -7.94728621e-08, -3.97364310e-08,\n",
       "           2.35935058e-08,  0.00000000e+00],\n",
       "         [-7.94728621e-08, -9.93410776e-09, -9.93410776e-09,\n",
       "           1.49011612e-08, -1.98682155e-08]]], dtype=float32),\n",
       " Array([[[0.9999997 , 0.99999917, 0.999999  , 0.99999946, 0.9999993 ],\n",
       "         [0.9999989 , 0.99999946, 0.99999946, 0.9999984 , 0.9999984 ],\n",
       "         [0.9999971 , 0.9999992 , 0.99999803, 0.9999987 , 0.999999  ],\n",
       "         [0.9999993 , 0.99999183, 0.9999994 , 0.99999964, 0.9999992 ]],\n",
       " \n",
       "        [[0.99999994, 0.99999875, 0.99999946, 0.99999946, 0.99999934],\n",
       "         [0.9999996 , 0.999999  , 0.9999988 , 0.99998015, 0.9999995 ],\n",
       "         [0.99999774, 0.99999946, 0.99999934, 0.9999995 , 0.9999998 ],\n",
       "         [0.9999909 , 0.99999917, 0.9999998 , 0.99999946, 0.99999845]],\n",
       " \n",
       "        [[0.9999985 , 0.99999946, 0.99999917, 0.9999992 , 0.9999986 ],\n",
       "         [0.9999977 , 0.99999934, 0.9999995 , 0.999999  , 0.9999996 ],\n",
       "         [0.9999996 , 0.9999993 , 0.9999997 , 0.9999995 , 0.9999996 ],\n",
       "         [0.9999992 , 0.99999887, 0.9999995 , 0.99999946, 0.99999946]]],      dtype=float32))"
      ]
     },
     "execution_count": 6,
     "metadata": {},
     "output_type": "execute_result"
    }
   ],
   "source": [
    "y = layer.apply(variables, x)\n",
    "y.mean(-1), y.std(-1)"
   ]
  },
  {
   "cell_type": "code",
   "execution_count": 7,
   "metadata": {},
   "outputs": [],
   "source": [
    "\n",
    "# y = nn.LayerNorm(reduction_axes=(1, 2, 3)).apply(variables, x)\n",
    "\n",
    "# y2 = nn.GroupNorm(num_groups=1).apply(variables, x)\n",
    "\n",
    "# np.testing.assert_allclose(y, y2)\n",
    "\n",
    "# y = nn.LayerNorm(reduction_axes=(1, 2), feature_axes=-1).apply(variables, x)\n",
    "\n",
    "# y2 = nn.InstanceNorm(feature_axes=-1).apply(variables, x)\n",
    "\n",
    "# np.testing.assert_allclose(y, y2)"
   ]
  },
  {
   "cell_type": "code",
   "execution_count": 8,
   "metadata": {},
   "outputs": [],
   "source": [
    "from mlstm_kernels.mlstm_kernels.jax.components.normalization import MultiHeadNormLayer"
   ]
  },
  {
   "cell_type": "code",
   "execution_count": 9,
   "metadata": {},
   "outputs": [],
   "source": [
    "norm_layer = MultiHeadNormLayer(weight=True, bias=False, eps=1e-5, dtype=jnp.float32, axis=1, norm_type=\"layernorm\")"
   ]
  },
  {
   "cell_type": "code",
   "execution_count": 12,
   "metadata": {},
   "outputs": [
    {
     "data": {
      "text/plain": [
       "(dict,\n",
       " {'params': {'scale': Array([[1., 1., 1., 1., 1., 1.],\n",
       "          [1., 1., 1., 1., 1., 1.],\n",
       "          [1., 1., 1., 1., 1., 1.],\n",
       "          [1., 1., 1., 1., 1., 1.]], dtype=float32)}})"
      ]
     },
     "execution_count": 12,
     "metadata": {},
     "output_type": "execute_result"
    }
   ],
   "source": [
    "variables = norm_layer.init(jax.random.PRNGKey(0), x)\n",
    "type(variables), variables"
   ]
  },
  {
   "cell_type": "code",
   "execution_count": null,
   "metadata": {},
   "outputs": [],
   "source": []
  },
  {
   "cell_type": "code",
   "execution_count": 11,
   "metadata": {},
   "outputs": [
    {
     "data": {
      "text/plain": [
       "Array([[[[-1.4092555 , -0.02534706,  1.3489714 , -0.59527695,\n",
       "           1.236951  , -0.55604297],\n",
       "         [-0.97789   , -1.474389  ,  0.97012866, -0.1211729 ,\n",
       "           0.24100842,  1.3623149 ],\n",
       "         [-1.3442954 ,  1.3677758 ,  0.17286192, -1.1040248 ,\n",
       "          -0.12115045,  1.0288335 ],\n",
       "         [-0.8313368 ,  0.21111865,  1.7076395 , -0.90581435,\n",
       "          -0.9600632 ,  0.77845615],\n",
       "         [-0.23060739, -0.4206881 , -0.36171237, -0.46290994,\n",
       "          -0.734365  ,  2.210283  ]],\n",
       "\n",
       "        [[-2.0176628 , -0.06930881,  0.73434585,  0.44363692,\n",
       "           1.0769527 , -0.16796398],\n",
       "         [ 1.5571115 , -1.3184897 ,  1.1080704 , -0.42524126,\n",
       "          -0.5039902 , -0.4174607 ],\n",
       "         [-0.13483013,  0.90799266, -0.5444893 , -1.3137347 ,\n",
       "          -0.5857985 ,  1.6708603 ],\n",
       "         [-1.3847338 , -0.6320176 ,  1.6170238 ,  0.47449353,\n",
       "          -0.6855187 ,  0.6107526 ],\n",
       "         [ 1.8700753 , -0.2642717 , -1.396383  , -0.6285463 ,\n",
       "           0.20935799,  0.20976764]],\n",
       "\n",
       "        [[ 1.1764295 ,  0.4026702 , -0.6081157 ,  1.1850598 ,\n",
       "          -0.6566652 , -1.4993786 ],\n",
       "         [ 0.29433066, -0.41349486, -1.831845  , -0.07254627,\n",
       "           0.6031287 ,  1.4204268 ],\n",
       "         [ 1.3231683 , -1.7797838 , -0.08177655,  0.94360596,\n",
       "           0.02346055, -0.4286751 ],\n",
       "         [ 0.00257185,  1.32507   ,  0.2435485 , -1.9831747 ,\n",
       "           0.49483365, -0.08284942],\n",
       "         [ 1.3198862 , -1.8421402 ,  0.3224615 , -0.5597521 ,\n",
       "           0.09822265,  0.661322  ]],\n",
       "\n",
       "        [[ 1.9318477 , -0.65819246,  0.44962305, -1.009912  ,\n",
       "          -0.7798432 ,  0.06647699],\n",
       "         [ 0.97196645, -1.9731983 ,  0.4660778 , -0.4536767 ,\n",
       "           0.14167957,  0.84715134],\n",
       "         [ 0.29499957, -1.246106  , -0.7552478 ,  0.8867554 ,\n",
       "           1.5646839 , -0.745085  ],\n",
       "         [ 0.33046332, -1.3942945 , -0.49075884, -0.7528638 ,\n",
       "           1.6420226 ,  0.6654312 ],\n",
       "         [-0.07786575,  0.21688896,  0.42030647, -2.1248028 ,\n",
       "           0.90520597,  0.66026723]]],\n",
       "\n",
       "\n",
       "       [[[-1.0024544 , -1.6463062 ,  1.2270812 ,  0.51398855,\n",
       "           0.68064535,  0.22704552],\n",
       "         [ 0.45883977,  0.5457249 ,  1.0990425 ,  0.01188908,\n",
       "          -0.04636059, -2.069136  ],\n",
       "         [ 0.95437706,  0.41916385,  0.10822587, -0.32484472,\n",
       "           0.85801584, -2.0149379 ],\n",
       "         [-0.81633717,  0.24767959, -1.583933  ,  0.25420502,\n",
       "           0.27956977,  1.6188158 ],\n",
       "         [-0.06478548, -0.52992237,  0.2596004 , -1.8220608 ,\n",
       "           1.1000193 ,  1.0571492 ]],\n",
       "\n",
       "        [[-1.9663718 ,  1.3539044 , -0.11620094,  0.3626579 ,\n",
       "          -0.02708251,  0.39309308],\n",
       "         [ 0.06175351,  1.1278404 , -1.9419359 , -0.1555444 ,\n",
       "          -0.05428978,  0.9621762 ],\n",
       "         [ 0.5662033 , -0.22241843, -1.372995  , -1.0403457 ,\n",
       "           1.54509   ,  0.52446586],\n",
       "         [ 0.11147555, -0.36404186, -1.3399904 , -0.37149003,\n",
       "           1.9796047 , -0.01555906],\n",
       "         [-1.8225762 ,  0.7139235 ,  0.7810791 , -0.88496065,\n",
       "           0.7478818 ,  0.46465218]],\n",
       "\n",
       "        [[-0.5981501 ,  1.7757853 , -0.7097777 ,  0.8242131 ,\n",
       "          -1.1311648 , -0.16090558],\n",
       "         [-0.88563764,  0.9673363 ,  1.7052275 , -0.6390799 ,\n",
       "          -0.9643399 , -0.18350628],\n",
       "         [-1.0930804 ,  0.34718475,  1.6744524 ,  0.5305863 ,\n",
       "          -0.21251228, -1.2466308 ],\n",
       "         [-0.07184526, -0.9823533 , -0.77029437,  1.6230181 ,\n",
       "           1.0446458 , -0.84317094],\n",
       "         [ 0.85145026, -0.7649595 ,  0.32141715,  0.54266787,\n",
       "          -1.8609724 ,  0.9103966 ]],\n",
       "\n",
       "        [[ 1.1940103 ,  0.7880625 , -0.1898188 ,  0.736108  ,\n",
       "          -0.9658603 , -1.5625013 ],\n",
       "         [-1.8429296 ,  0.1355356 , -0.5349597 ,  1.3512995 ,\n",
       "           0.6404095 ,  0.25064474],\n",
       "         [-0.89143735,  0.56830865,  0.9262199 ,  0.45958623,\n",
       "          -1.8058149 ,  0.7431374 ],\n",
       "         [ 0.60060155,  1.3873088 , -1.4761846 ,  0.7470556 ,\n",
       "          -0.93361765, -0.3251635 ],\n",
       "         [-0.8095613 ,  0.6279738 , -1.8417977 ,  0.8716136 ,\n",
       "           0.31620574,  0.83556575]]],\n",
       "\n",
       "\n",
       "       [[[ 1.6325276 , -0.40307388,  0.10089733, -1.5736731 ,\n",
       "           0.6943668 , -0.4510446 ],\n",
       "         [-1.0882002 ,  0.30682877, -1.2730225 , -0.3775559 ,\n",
       "           1.2413936 ,  1.1905564 ],\n",
       "         [-0.55701935, -1.6577134 ,  1.5369456 ,  0.75625414,\n",
       "          -0.08624467,  0.00777764],\n",
       "         [ 1.4963177 , -0.1678543 , -1.8682044 , -0.11612994,\n",
       "           0.41163397,  0.2442368 ],\n",
       "         [ 0.5989867 , -1.2762654 ,  0.77670467,  0.7573286 ,\n",
       "           0.68256044, -1.5393149 ]],\n",
       "\n",
       "        [[-0.24073672, -1.0000383 , -1.2845641 ,  0.559304  ,\n",
       "           1.7062445 ,  0.25979152],\n",
       "         [ 0.8441443 ,  0.63034034,  0.28624305, -1.5306658 ,\n",
       "           0.98920655, -1.2192686 ],\n",
       "         [ 0.17542705, -0.8359355 ,  0.531916  ,  0.5426902 ,\n",
       "          -1.724811  ,  1.3107132 ],\n",
       "         [ 0.73011726,  0.7007684 , -1.3297093 ,  1.0074509 ,\n",
       "          -1.4426029 ,  0.33397546],\n",
       "         [-0.56348604, -0.70820844,  0.745768  , -0.88115484,\n",
       "          -0.491937  ,  1.8990184 ]],\n",
       "\n",
       "        [[ 0.86387944, -0.16548093, -0.029968  ,  1.5229207 ,\n",
       "          -1.598215  , -0.5931361 ],\n",
       "         [-0.6857418 ,  1.1631731 ,  0.64182377, -0.5883811 ,\n",
       "           1.0147282 , -1.5456024 ],\n",
       "         [-0.75251627, -0.61687326,  0.76712996,  1.0297819 ,\n",
       "           1.0732542 , -1.5007769 ],\n",
       "         [ 1.1140221 ,  0.3911047 ,  0.0305048 , -2.0546095 ,\n",
       "           0.612277  , -0.09329893],\n",
       "         [ 0.3781406 ,  1.7933223 , -0.08649392, -1.5670444 ,\n",
       "          -0.4068188 , -0.11110596]],\n",
       "\n",
       "        [[ 0.7235797 , -1.5936639 ,  0.6687678 , -0.8360102 ,\n",
       "          -0.2726581 ,  1.3099842 ],\n",
       "         [ 0.74617624,  0.1418382 ,  0.8412351 , -1.9561918 ,\n",
       "           0.77030617, -0.5433638 ],\n",
       "         [-0.5057411 ,  1.0366627 , -0.98294204, -0.7832938 ,\n",
       "           1.6962597 , -0.46094558],\n",
       "         [-0.31420743, -0.5772447 ,  1.313548  , -1.4685196 ,\n",
       "           1.2777128 , -0.23128897],\n",
       "         [ 0.8815906 ,  1.3389809 , -0.4268639 , -0.24502786,\n",
       "           0.22275771, -1.7714375 ]]]], dtype=float32)"
      ]
     },
     "execution_count": 11,
     "metadata": {},
     "output_type": "execute_result"
    }
   ],
   "source": [
    "norm_layer.apply(variables, x)"
   ]
  },
  {
   "cell_type": "code",
   "execution_count": null,
   "metadata": {},
   "outputs": [],
   "source": []
  },
  {
   "cell_type": "code",
   "execution_count": null,
   "metadata": {},
   "outputs": [],
   "source": []
  },
  {
   "cell_type": "code",
   "execution_count": 16,
   "metadata": {},
   "outputs": [
    {
     "data": {
      "text/plain": [
       "'0.9.0'"
      ]
     },
     "execution_count": 16,
     "metadata": {},
     "output_type": "execute_result"
    }
   ],
   "source": [
    "from flax import nnx\n",
    "import flax\n",
    "flax.__version__"
   ]
  },
  {
   "cell_type": "code",
   "execution_count": 19,
   "metadata": {},
   "outputs": [],
   "source": [
    "class WeightStack(nnx.Module):\n",
    "  @nnx.vmap(in_axes=(0, 0), out_axes=0)\n",
    "  def __init__(self, seed: jax.Array):\n",
    "    self.kernel = nnx.Param(jax.random.uniform(jax.random.key(seed), (2, 3)))\n",
    "    self.bias = nnx.Param(jnp.zeros((3,)))\n",
    "\n",
    "  @nnx.vmap(in_axes=(0, 0), out_axes=1)\n",
    "  def __call__(self, x: jax.Array):\n",
    "    assert len(self.kernel.shape) == 2, 'Batch dimensions not allowed'\n",
    "    assert x.ndim == 1, 'Batch dimensions not allowed'\n",
    "    return x @ self.kernel + self.bias\n",
    "\n",
    "weights = WeightStack(jnp.arange(10))\n",
    "\n",
    "x = jax.random.normal(jax.random.key(1), (10, 2))\n",
    "y = weights(x)\n"
   ]
  },
  {
   "cell_type": "code",
   "execution_count": 20,
   "metadata": {},
   "outputs": [
    {
     "data": {
      "text/plain": [
       "WeightStack(\n",
       "  bias=Param(\n",
       "    value=Array(shape=(10, 3), dtype=float32)\n",
       "  ),\n",
       "  kernel=Param(\n",
       "    value=Array(shape=(10, 2, 3), dtype=float32)\n",
       "  )\n",
       ")"
      ]
     },
     "execution_count": 20,
     "metadata": {},
     "output_type": "execute_result"
    }
   ],
   "source": [
    "weights"
   ]
  },
  {
   "cell_type": "code",
   "execution_count": null,
   "metadata": {},
   "outputs": [],
   "source": []
  }
 ],
 "metadata": {
  "kernelspec": {
   "display_name": "python_3.11_jax_0.4.34_cuda_12.6_beck",
   "language": "python",
   "name": "python3"
  },
  "language_info": {
   "codemirror_mode": {
    "name": "ipython",
    "version": 3
   },
   "file_extension": ".py",
   "mimetype": "text/x-python",
   "name": "python",
   "nbconvert_exporter": "python",
   "pygments_lexer": "ipython3",
   "version": "3.11.10"
  }
 },
 "nbformat": 4,
 "nbformat_minor": 2
}
