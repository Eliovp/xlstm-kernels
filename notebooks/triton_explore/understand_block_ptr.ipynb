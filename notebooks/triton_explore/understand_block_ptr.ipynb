{
 "cells": [
  {
   "cell_type": "code",
   "execution_count": 1,
   "metadata": {},
   "outputs": [],
   "source": [
    "import torch\n",
    "import triton\n",
    "import triton.language as tl\n",
    "\n",
    "torch.set_printoptions(linewidth=200, threshold=100000)"
   ]
  },
  {
   "cell_type": "markdown",
   "metadata": {},
   "source": [
    "# Understand Block pointers in Triton\n",
    "\n",
    "In this notebook I want to understand how exactly the loading of a matrix and directly transpose it works. \n",
    "I have used this in several implementations but find it still unintuitive. \n",
    "\n",
    "What does the order argument do???\n",
    "In this case it does not make a difference at all. Why?\n",
    "\n",
    "Okay so block_shape and order apparently do not make a difference for the outputs but help the compiler! See https://github.com/triton-lang/triton/issues/3890#issuecomment-2143708987 \n",
    "\n",
    "This explains..."
   ]
  },
  {
   "cell_type": "code",
   "execution_count": 2,
   "metadata": {},
   "outputs": [],
   "source": [
    "S = 16  # seq len\n",
    "B = 1  # batch size\n",
    "NH = 1  # num heads\n",
    "DHQK = 4  # dim per head\n",
    "# DHV = 8\n",
    "\n",
    "CHUNK_SIZE = DHQK  # 4 #S\n",
    "NC = S // CHUNK_SIZE\n",
    "\n",
    "DTYPE = torch.float32\n",
    "DEVICE = torch.device(\"cuda:0\")"
   ]
  },
  {
   "cell_type": "code",
   "execution_count": 3,
   "metadata": {},
   "outputs": [],
   "source": [
    "matIn = torch.arange(B * NH * S * DHQK).reshape(B, NH, NC * CHUNK_SIZE, DHQK).to(dtype=DTYPE, device=DEVICE)\n",
    "# matOut = torch.zeros(B, NH, NC, DHQK, CHUNK_SIZE, dtype=DTYPE, device=DEVICE)\n",
    "matOut = torch.zeros_like(matIn)\n",
    "# matIn"
   ]
  },
  {
   "cell_type": "code",
   "execution_count": 6,
   "metadata": {},
   "outputs": [],
   "source": [
    "@triton.jit\n",
    "def matrix_load_transpose_kernel(\n",
    "    matIn,\n",
    "    matOut,\n",
    "    str_BNH,\n",
    "    str_S,\n",
    "    str_DHQK,\n",
    "    B: tl.constexpr,\n",
    "    NH: tl.constexpr,\n",
    "    S: tl.constexpr,\n",
    "    DHQK: tl.constexpr,\n",
    "    CHUNK_SIZE: tl.constexpr,\n",
    "):\n",
    "    idx_b_NC, idx_b_BNH = tl.program_id(0), tl.program_id(1)\n",
    "    #! no transpose\n",
    "    # matIn_ptr = tl.make_block_ptr(\n",
    "    #     base=matIn + idx_b_BNH * str_BNH,\n",
    "    #     shape=(S, DHQK),\n",
    "    #     strides=(str_S, str_DHQK),\n",
    "    #     offsets=(idx_b_NC * CHUNK_SIZE, 0),\n",
    "    #     block_shape=(CHUNK_SIZE, DHQK),\n",
    "    #     order=(0,1),#(1, 0), #? Does not play a role, both yield same result\n",
    "    # )\n",
    "    #! transpose per chunk\n",
    "    matIn_ptr = tl.make_block_ptr(\n",
    "        base=matIn + idx_b_BNH * str_BNH,\n",
    "        shape=(DHQK, S),\n",
    "        strides=(str_DHQK, str_S),\n",
    "        offsets=(0, idx_b_NC * CHUNK_SIZE),  # (idx_b_NC * CHUNK_SIZE, 0),\n",
    "        block_shape=(CHUNK_SIZE, DHQK),\n",
    "        order=(1, 0),  # (0,1),#(1, 0), #? Does not play a role, both yield same result\n",
    "    )\n",
    "\n",
    "    matIn_val = tl.load(matIn_ptr)\n",
    "\n",
    "    matOut_ptr = tl.make_block_ptr(\n",
    "        base=matOut + idx_b_BNH * str_BNH,\n",
    "        shape=(S, DHQK),\n",
    "        strides=(str_S, str_DHQK),\n",
    "        offsets=(idx_b_NC * CHUNK_SIZE, 0),\n",
    "        block_shape=(CHUNK_SIZE, DHQK),\n",
    "        order=(0, 1),\n",
    "    )\n",
    "    tl.store(matOut_ptr, matIn_val)"
   ]
  },
  {
   "cell_type": "code",
   "execution_count": 7,
   "metadata": {},
   "outputs": [
    {
     "data": {
      "text/plain": [
       "<triton.compiler.compiler.CompiledKernel at 0x744dfb191b50>"
      ]
     },
     "execution_count": 7,
     "metadata": {},
     "output_type": "execute_result"
    }
   ],
   "source": [
    "grid = (CHUNK_SIZE, B * NH)\n",
    "matrix_load_transpose_kernel[grid](\n",
    "    matIn,\n",
    "    matOut,\n",
    "    matIn.stride(1),\n",
    "    matIn.stride(2),\n",
    "    matIn.stride(3),\n",
    "    B,\n",
    "    NH,\n",
    "    S,\n",
    "    DHQK,\n",
    "    CHUNK_SIZE,\n",
    ")"
   ]
  },
  {
   "cell_type": "code",
   "execution_count": 8,
   "metadata": {},
   "outputs": [
    {
     "data": {
      "text/plain": [
       "tensor([[[[ 0.,  1.,  2.,  3.],\n",
       "          [ 4.,  5.,  6.,  7.],\n",
       "          [ 8.,  9., 10., 11.],\n",
       "          [12., 13., 14., 15.],\n",
       "          [16., 17., 18., 19.],\n",
       "          [20., 21., 22., 23.],\n",
       "          [24., 25., 26., 27.],\n",
       "          [28., 29., 30., 31.],\n",
       "          [32., 33., 34., 35.],\n",
       "          [36., 37., 38., 39.],\n",
       "          [40., 41., 42., 43.],\n",
       "          [44., 45., 46., 47.],\n",
       "          [48., 49., 50., 51.],\n",
       "          [52., 53., 54., 55.],\n",
       "          [56., 57., 58., 59.],\n",
       "          [60., 61., 62., 63.]]]], device='cuda:0')"
      ]
     },
     "execution_count": 8,
     "metadata": {},
     "output_type": "execute_result"
    }
   ],
   "source": [
    "matIn"
   ]
  },
  {
   "cell_type": "code",
   "execution_count": 9,
   "metadata": {},
   "outputs": [
    {
     "data": {
      "text/plain": [
       "tensor([[[[ 0.,  4.,  8., 12.],\n",
       "          [ 1.,  5.,  9., 13.],\n",
       "          [ 2.,  6., 10., 14.],\n",
       "          [ 3.,  7., 11., 15.],\n",
       "          [16., 20., 24., 28.],\n",
       "          [17., 21., 25., 29.],\n",
       "          [18., 22., 26., 30.],\n",
       "          [19., 23., 27., 31.],\n",
       "          [32., 36., 40., 44.],\n",
       "          [33., 37., 41., 45.],\n",
       "          [34., 38., 42., 46.],\n",
       "          [35., 39., 43., 47.],\n",
       "          [48., 52., 56., 60.],\n",
       "          [49., 53., 57., 61.],\n",
       "          [50., 54., 58., 62.],\n",
       "          [51., 55., 59., 63.]]]], device='cuda:0')"
      ]
     },
     "execution_count": 9,
     "metadata": {},
     "output_type": "execute_result"
    }
   ],
   "source": [
    "matOut"
   ]
  },
  {
   "cell_type": "code",
   "execution_count": 8,
   "metadata": {},
   "outputs": [
    {
     "data": {
      "text/plain": [
       "tensor([[[[ 0., -3., -6., -9.],\n",
       "          [ 3.,  0., -3., -6.],\n",
       "          [ 6.,  3.,  0., -3.],\n",
       "          [ 9.,  6.,  3.,  0.],\n",
       "          [ 0., -3., -6., -9.],\n",
       "          [ 3.,  0., -3., -6.],\n",
       "          [ 6.,  3.,  0., -3.],\n",
       "          [ 9.,  6.,  3.,  0.],\n",
       "          [ 0., -3., -6., -9.],\n",
       "          [ 3.,  0., -3., -6.],\n",
       "          [ 6.,  3.,  0., -3.],\n",
       "          [ 9.,  6.,  3.,  0.],\n",
       "          [ 0., -3., -6., -9.],\n",
       "          [ 3.,  0., -3., -6.],\n",
       "          [ 6.,  3.,  0., -3.],\n",
       "          [ 9.,  6.,  3.,  0.]]]], device='cuda:0')"
      ]
     },
     "execution_count": 8,
     "metadata": {},
     "output_type": "execute_result"
    }
   ],
   "source": [
    "matIn - matOut"
   ]
  },
  {
   "cell_type": "code",
   "execution_count": 9,
   "metadata": {},
   "outputs": [],
   "source": [
    "# tensor([[[[ 0.,  4.,  8., 12.],\n",
    "#           [ 1.,  5.,  9., 13.],\n",
    "#           [ 2.,  6., 10., 14.],\n",
    "#           [ 3.,  7., 11., 15.],\n",
    "#           [16., 20., 24., 28.],\n",
    "#           [17., 21., 25., 29.],\n",
    "#           [18., 22., 26., 30.],\n",
    "#           [19., 23., 27., 31.],\n",
    "#           [32., 36., 40., 44.],\n",
    "#           [33., 37., 41., 45.],\n",
    "#           [34., 38., 42., 46.],\n",
    "#           [35., 39., 43., 47.],\n",
    "#           [48., 52., 56., 60.],\n",
    "#           [49., 53., 57., 61.],\n",
    "#           [50., 54., 58., 62.],\n",
    "#           [51., 55., 59., 63.]]]], device='cuda:0')"
   ]
  }
 ],
 "metadata": {
  "kernelspec": {
   "display_name": "xlstmpt240cu121",
   "language": "python",
   "name": "python3"
  },
  "language_info": {
   "codemirror_mode": {
    "name": "ipython",
    "version": 3
   },
   "file_extension": ".py",
   "mimetype": "text/x-python",
   "name": "python",
   "nbconvert_exporter": "python",
   "pygments_lexer": "ipython3",
   "version": "3.11.9"
  }
 },
 "nbformat": 4,
 "nbformat_minor": 2
}
