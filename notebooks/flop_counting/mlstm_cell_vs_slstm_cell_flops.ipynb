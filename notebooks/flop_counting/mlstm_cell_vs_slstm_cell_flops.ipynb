{
 "cells": [
  {
   "cell_type": "code",
   "execution_count": 10,
   "metadata": {},
   "outputs": [
    {
     "name": "stdout",
     "output_type": "stream",
     "text": [
      "The autoreload extension is already loaded. To reload it, use:\n",
      "  %reload_ext autoreload\n"
     ]
    }
   ],
   "source": [
    "%load_ext autoreload\n",
    "%autoreload 2\n",
    "import sys\n",
    "\n",
    "sys.path.append(\"../..\")\n",
    "from mlstm_kernels.flops_utils.mlstm_block_flop_counts import (\n",
    "    count_flops_mlstm_v2_block_fw,\n",
    ")\n",
    "from mlstm_kernels.flops_utils.slstm_block_flop_counts import count_flops_slstm_block_fw"
   ]
  },
  {
   "cell_type": "code",
   "execution_count": 11,
   "metadata": {},
   "outputs": [],
   "source": [
    "S = 2048\n",
    "d = 2048\n",
    "Nh = 4\n",
    "\n",
    "dqk = d // Nh\n",
    "dv = d // Nh"
   ]
  },
  {
   "cell_type": "code",
   "execution_count": 12,
   "metadata": {},
   "outputs": [],
   "source": [
    "mlstm_block_flops = count_flops_mlstm_v2_block_fw(S=S, d=d, Nh=Nh, dqk=dqk, dv=dv)"
   ]
  },
  {
   "cell_type": "code",
   "execution_count": 14,
   "metadata": {},
   "outputs": [],
   "source": [
    "slstm_block_flops = count_flops_slstm_block_fw(S=S, d=d, Nh=Nh)"
   ]
  },
  {
   "cell_type": "code",
   "execution_count": 15,
   "metadata": {},
   "outputs": [
    {
     "name": "stdout",
     "output_type": "stream",
     "text": [
      "0.5475116631333724\n"
     ]
    }
   ],
   "source": [
    "# slstm / mlstm total\n",
    "print(slstm_block_flops[0] / mlstm_block_flops[0])"
   ]
  },
  {
   "cell_type": "code",
   "execution_count": 16,
   "metadata": {},
   "outputs": [
    {
     "name": "stdout",
     "output_type": "stream",
     "text": [
      "0.43332112778813753\n"
     ]
    }
   ],
   "source": [
    "# slstm / mlstm linear\n",
    "print(slstm_block_flops[1] / mlstm_block_flops[1])"
   ]
  },
  {
   "cell_type": "code",
   "execution_count": 17,
   "metadata": {},
   "outputs": [
    {
     "name": "stdout",
     "output_type": "stream",
     "text": [
      "1.7461187947593693\n"
     ]
    }
   ],
   "source": [
    "# slstm / mlstm cell\n",
    "print(slstm_block_flops[2] / mlstm_block_flops[2])"
   ]
  },
  {
   "cell_type": "code",
   "execution_count": null,
   "metadata": {},
   "outputs": [],
   "source": []
  }
 ],
 "metadata": {
  "kernelspec": {
   "display_name": "xlstmpt240cu124",
   "language": "python",
   "name": "python3"
  },
  "language_info": {
   "codemirror_mode": {
    "name": "ipython",
    "version": 3
   },
   "file_extension": ".py",
   "mimetype": "text/x-python",
   "name": "python",
   "nbconvert_exporter": "python",
   "pygments_lexer": "ipython3",
   "version": "3.11.9"
  }
 },
 "nbformat": 4,
 "nbformat_minor": 2
}
