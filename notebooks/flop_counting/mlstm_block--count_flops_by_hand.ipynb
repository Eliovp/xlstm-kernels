{
 "cells": [
  {
   "cell_type": "code",
   "execution_count": 1,
   "metadata": {},
   "outputs": [],
   "source": [
    "import torch\n",
    "\n",
    "from dataclasses import dataclass, field\n",
    "from matplotlib import pyplot as plt\n",
    "import numpy as np\n",
    "import sys\n",
    "from pprint import pprint\n",
    "import pandas as pd\n",
    "\n",
    "sys.path.append(\"../..\")"
   ]
  },
  {
   "cell_type": "markdown",
   "metadata": {},
   "source": [
    "# FLOPs of the mLSTM v1 & v2 blocks"
   ]
  },
  {
   "cell_type": "code",
   "execution_count": 2,
   "metadata": {},
   "outputs": [],
   "source": [
    "%load_ext autoreload\n",
    "%autoreload 2\n",
    "from mlstm_kernels.flops_utils.mlstm_block_flop_counts import (\n",
    "    count_flops_mlstm_v1_block_fw,\n",
    "    count_flops_mlstm_v2_block_fw,\n",
    "    FLOPsComputation,\n",
    "    count_fw_flops,\n",
    ")\n",
    "from mlstm_kernels.flops_utils.mlstm_flop_analysis import (\n",
    "    plot_mlstm_v1_v2_flop_comparison,\n",
    "    make_flop_table,\n",
    ")"
   ]
  },
  {
   "cell_type": "code",
   "execution_count": 3,
   "metadata": {},
   "outputs": [],
   "source": [
    "S = 8192\n",
    "d = 4096\n",
    "Nh = 8\n",
    "chunk_size = 64"
   ]
  },
  {
   "cell_type": "code",
   "execution_count": 4,
   "metadata": {},
   "outputs": [],
   "source": [
    "total_flops_v1, linear_layer_flops_v1, mlstm_flops_v1 = count_flops_mlstm_v1_block_fw(\n",
    "    S=S, d=d, Nh=Nh, dqk=d // Nh, dv=d // Nh, chunk_size=chunk_size\n",
    ")"
   ]
  },
  {
   "cell_type": "code",
   "execution_count": 5,
   "metadata": {},
   "outputs": [],
   "source": [
    "pf = 2\n",
    "total_flops_v2, linear_layer_flops_v2, mlstm_flops_v2 = count_flops_mlstm_v2_block_fw(\n",
    "    S=S, d=d, Nh=Nh, pf=pf, dqk=(d * pf) // Nh, dv=(d * pf) // Nh, chunk_size=chunk_size\n",
    ")"
   ]
  },
  {
   "cell_type": "code",
   "execution_count": 6,
   "metadata": {},
   "outputs": [
    {
     "data": {
      "text/plain": [
       "{'linear_layer_flops': 1649334550528,\n",
       " 'qkv_proj_flops': 1610612736,\n",
       " 'conv1d_flops': 671285248,\n",
       " 'skip_ln_mlstm_flops': 201326592,\n",
       " 'skip_ln_linear_layer_flops': 33554432,\n",
       " 'mlstm_cell_total_flops': 294720542720,\n",
       " 'mlstm_cell_fw_C_flops': 277496534016,\n",
       " 'mlstm_cell_fw_H_flops': 17224008704}"
      ]
     },
     "execution_count": 6,
     "metadata": {},
     "output_type": "execute_result"
    }
   ],
   "source": [
    "pf = 2\n",
    "_, detailed_flops = count_flops_mlstm_v2_block_fw(\n",
    "    S=S,\n",
    "    d=d,\n",
    "    Nh=Nh,\n",
    "    pf=pf,\n",
    "    dqk=(d * pf) // Nh,\n",
    "    dv=(d * pf) // Nh,\n",
    "    chunk_size=chunk_size,\n",
    "    return_detailed_flops=True,\n",
    ")\n",
    "detailed_flops"
   ]
  },
  {
   "cell_type": "code",
   "execution_count": 7,
   "metadata": {},
   "outputs": [
    {
     "name": "stdout",
     "output_type": "stream",
     "text": [
      "v2 linear_layer fraction: 0.8473021592655021\n",
      "v2 qkv proj fraction: 0.000827409847514833\n",
      "v2 conv1d fraction: 0.0003448551053098321\n",
      "v2 mlstm fraction: 0.15140491184557728\n"
     ]
    }
   ],
   "source": [
    "print(\n",
    "    f\"v2 linear_layer fraction: {detailed_flops['linear_layer_flops']/total_flops_v2}\"\n",
    ")\n",
    "print(f\"v2 qkv proj fraction: {detailed_flops['qkv_proj_flops']/total_flops_v2}\")\n",
    "print(f\"v2 conv1d fraction: {detailed_flops['conv1d_flops']/total_flops_v2}\")\n",
    "print(f\"v2 mlstm fraction: {detailed_flops['mlstm_cell_total_flops']/total_flops_v2}\")"
   ]
  },
  {
   "cell_type": "code",
   "execution_count": 8,
   "metadata": {},
   "outputs": [
    {
     "name": "stdout",
     "output_type": "stream",
     "text": [
      "v1 mlstm fraction: 0.3979516024779892\n",
      "v1 linear_layer fraction: 0.6020483975220108\n"
     ]
    }
   ],
   "source": [
    "print(f\"v1 mlstm fraction: {mlstm_flops_v1/total_flops_v1}\")\n",
    "print(f\"v1 linear_layer fraction: {linear_layer_flops_v1/total_flops_v1}\")"
   ]
  },
  {
   "cell_type": "code",
   "execution_count": 9,
   "metadata": {},
   "outputs": [
    {
     "name": "stdout",
     "output_type": "stream",
     "text": [
      "Total FLOPS v1: 3652847.572992M, MLSTM FLOPS v1: 1453656545280, Linear Layer FLOPS v1: 2199191027712\n",
      "Total FLOPS v2: 3893143.744512M, MLSTM FLOPS v2: 591186309120, Linear Layer FLOPS v2: 3298736209920\n"
     ]
    }
   ],
   "source": [
    "print(\n",
    "    f\"Total FLOPS v1: {total_flops_v1/1e6}M, MLSTM FLOPS v1: {mlstm_flops_v1}, Linear Layer FLOPS v1: {linear_layer_flops_v1}\"\n",
    ")\n",
    "print(\n",
    "    f\"Total FLOPS v2: {2*total_flops_v2/1e6}M, MLSTM FLOPS v2: {2*mlstm_flops_v2}, Linear Layer FLOPS v2: {2*linear_layer_flops_v2}\"\n",
    ")\n",
    "# (2398691991552, 199500947456, 2199191044096)\n",
    "# (3425595338752, 123637870592, 3298736242688)"
   ]
  },
  {
   "cell_type": "code",
   "execution_count": 10,
   "metadata": {},
   "outputs": [
    {
     "name": "stdout",
     "output_type": "stream",
     "text": [
      "Total Ratio v2/v1: 1.0657832462807026\n",
      "MLSTM Ratio v2/v1: 0.4066891254605998\n",
      "Linear Layer Ratio v2/v1: 1.4999771135625029\n"
     ]
    }
   ],
   "source": [
    "print(f\"Total Ratio v2/v1: {(2*total_flops_v2)/total_flops_v1}\")\n",
    "print(f\"MLSTM Ratio v2/v1: {(2*mlstm_flops_v2)/mlstm_flops_v1}\")\n",
    "print(f\"Linear Layer Ratio v2/v1: {(2*linear_layer_flops_v2)/linear_layer_flops_v1}\")"
   ]
  },
  {
   "cell_type": "markdown",
   "metadata": {},
   "source": [
    "## FLOPs vs Model size\n"
   ]
  },
  {
   "cell_type": "code",
   "execution_count": null,
   "metadata": {},
   "outputs": [],
   "source": [
    "from mlstm_kernels.flops_utils.mlstm_flop_analysis import (\n",
    "    get_mlstm_v1_fw_flops,\n",
    "    get_mlstm_v2_fw_flops,\n",
    "    get_mlstm_v1_fw_7B_flops,\n",
    "    get_mlstm_v2_fw_7B_flops,\n",
    ")"
   ]
  },
  {
   "cell_type": "code",
   "execution_count": 12,
   "metadata": {},
   "outputs": [],
   "source": [
    "sequence_length = 8192\n",
    "batch_size = 1\n",
    "chunk_size = 64"
   ]
  },
  {
   "cell_type": "code",
   "execution_count": 13,
   "metadata": {},
   "outputs": [],
   "source": [
    "mlstm_flops_v1 = get_mlstm_v1_fw_flops(\n",
    "    sequence_length=sequence_length, batch_size=batch_size, chunk_size=chunk_size\n",
    ")\n",
    "mlstm_flops_v2 = get_mlstm_v2_fw_flops(\n",
    "    sequence_length=sequence_length, batch_size=batch_size, chunk_size=chunk_size\n",
    ")"
   ]
  },
  {
   "cell_type": "code",
   "execution_count": 14,
   "metadata": {},
   "outputs": [
    {
     "data": {
      "text/plain": [
       "(3652667018240, 1453610208256, 2199056809984)"
      ]
     },
     "execution_count": 14,
     "metadata": {},
     "output_type": "execute_result"
    }
   ],
   "source": [
    "(\n",
    "    mlstm_flops_v1[\"7B\"].total_flops,\n",
    "    mlstm_flops_v1[\"7B\"].mlstm_other_flops,\n",
    "    mlstm_flops_v1[\"7B\"].linear_layer_flops,\n",
    ")"
   ]
  },
  {
   "cell_type": "code",
   "execution_count": 15,
   "metadata": {},
   "outputs": [
    {
     "data": {
      "text/plain": [
       "(3892849743872, 591026526208, 3298601992192)"
      ]
     },
     "execution_count": 15,
     "metadata": {},
     "output_type": "execute_result"
    }
   ],
   "source": [
    "(\n",
    "    mlstm_flops_v2[\"7B\"].total_flops,\n",
    "    mlstm_flops_v2[\"7B\"].mlstm_other_flops,\n",
    "    mlstm_flops_v2[\"7B\"].linear_layer_flops,\n",
    ")"
   ]
  },
  {
   "cell_type": "code",
   "execution_count": 16,
   "metadata": {},
   "outputs": [],
   "source": [
    "model_size_keys = list(mlstm_flops_v1.keys())"
   ]
  },
  {
   "cell_type": "code",
   "execution_count": 17,
   "metadata": {},
   "outputs": [
    {
     "data": {
      "image/png": "[encoded data removed]",
      "text/plain": [
       "<Figure size 800x600 with 1 Axes>"
      ]
     },
     "metadata": {},
     "output_type": "display_data"
    }
   ],
   "source": [
    "fig = plot_mlstm_v1_v2_flop_comparison(\n",
    "    sequence_length=8192, batch_size=1, chunk_size=64, model_size_keys=model_size_keys\n",
    ")"
   ]
  },
  {
   "cell_type": "code",
   "execution_count": 18,
   "metadata": {},
   "outputs": [
    {
     "data": {
      "text/html": [
       "<div>\n",
       "<style scoped>\n",
       "    .dataframe tbody tr th:only-of-type {\n",
       "        vertical-align: middle;\n",
       "    }\n",
       "\n",
       "    .dataframe tbody tr th {\n",
       "        vertical-align: top;\n",
       "    }\n",
       "\n",
       "    .dataframe thead th {\n",
       "        text-align: right;\n",
       "    }\n",
       "</style>\n",
       "<table border=\"1\" class=\"dataframe\">\n",
       "  <thead>\n",
       "    <tr style=\"text-align: right;\">\n",
       "      <th></th>\n",
       "      <th>Model Size</th>\n",
       "      <th>Total FLOPs v1</th>\n",
       "      <th>Total FLOPs v2</th>\n",
       "      <th>v2/v1 Ratio</th>\n",
       "      <th>v1 Linear Layer FLOPs Ratio</th>\n",
       "      <th>v2 Linear Layer FLOPs Ratio</th>\n",
       "      <th>v1 MLSTM Other FLOPs Ratio</th>\n",
       "      <th>v2 MLSTM Other FLOPs Ratio</th>\n",
       "    </tr>\n",
       "  </thead>\n",
       "  <tbody>\n",
       "    <tr>\n",
       "      <th>0</th>\n",
       "      <td>125M</td>\n",
       "      <td>132281222656</td>\n",
       "      <td>162490133504</td>\n",
       "      <td>1.228369</td>\n",
       "      <td>0.584480</td>\n",
       "      <td>0.713746</td>\n",
       "      <td>0.415520</td>\n",
       "      <td>0.282537</td>\n",
       "    </tr>\n",
       "    <tr>\n",
       "      <th>1</th>\n",
       "      <td>350M</td>\n",
       "      <td>234368517632</td>\n",
       "      <td>285496642560</td>\n",
       "      <td>1.218153</td>\n",
       "      <td>0.586458</td>\n",
       "      <td>0.722163</td>\n",
       "      <td>0.413542</td>\n",
       "      <td>0.275016</td>\n",
       "    </tr>\n",
       "    <tr>\n",
       "      <th>2</th>\n",
       "      <td>760M</td>\n",
       "      <td>525541361152</td>\n",
       "      <td>634790202368</td>\n",
       "      <td>1.207879</td>\n",
       "      <td>0.588441</td>\n",
       "      <td>0.730764</td>\n",
       "      <td>0.411559</td>\n",
       "      <td>0.267333</td>\n",
       "    </tr>\n",
       "    <tr>\n",
       "      <th>3</th>\n",
       "      <td>1.3B</td>\n",
       "      <td>932711876096</td>\n",
       "      <td>1121791151104</td>\n",
       "      <td>1.202720</td>\n",
       "      <td>0.589435</td>\n",
       "      <td>0.735134</td>\n",
       "      <td>0.410565</td>\n",
       "      <td>0.263430</td>\n",
       "    </tr>\n",
       "    <tr>\n",
       "      <th>4</th>\n",
       "      <td>2.7B</td>\n",
       "      <td>1455880062464</td>\n",
       "      <td>1746499488768</td>\n",
       "      <td>1.199618</td>\n",
       "      <td>0.590031</td>\n",
       "      <td>0.737780</td>\n",
       "      <td>0.409969</td>\n",
       "      <td>0.261067</td>\n",
       "    </tr>\n",
       "    <tr>\n",
       "      <th>5</th>\n",
       "      <td>7B</td>\n",
       "      <td>3652667018240</td>\n",
       "      <td>3892849743872</td>\n",
       "      <td>1.065755</td>\n",
       "      <td>0.602041</td>\n",
       "      <td>0.847349</td>\n",
       "      <td>0.397959</td>\n",
       "      <td>0.151824</td>\n",
       "    </tr>\n",
       "  </tbody>\n",
       "</table>\n",
       "</div>"
      ],
      "text/plain": [
       "  Model Size  Total FLOPs v1  Total FLOPs v2  v2/v1 Ratio  \\\n",
       "0       125M    132281222656    162490133504     1.228369   \n",
       "1       350M    234368517632    285496642560     1.218153   \n",
       "2       760M    525541361152    634790202368     1.207879   \n",
       "3       1.3B    932711876096   1121791151104     1.202720   \n",
       "4       2.7B   1455880062464   1746499488768     1.199618   \n",
       "5         7B   3652667018240   3892849743872     1.065755   \n",
       "\n",
       "   v1 Linear Layer FLOPs Ratio  v2 Linear Layer FLOPs Ratio  \\\n",
       "0                     0.584480                     0.713746   \n",
       "1                     0.586458                     0.722163   \n",
       "2                     0.588441                     0.730764   \n",
       "3                     0.589435                     0.735134   \n",
       "4                     0.590031                     0.737780   \n",
       "5                     0.602041                     0.847349   \n",
       "\n",
       "   v1 MLSTM Other FLOPs Ratio  v2 MLSTM Other FLOPs Ratio  \n",
       "0                    0.415520                    0.282537  \n",
       "1                    0.413542                    0.275016  \n",
       "2                    0.411559                    0.267333  \n",
       "3                    0.410565                    0.263430  \n",
       "4                    0.409969                    0.261067  \n",
       "5                    0.397959                    0.151824  "
      ]
     },
     "execution_count": 18,
     "metadata": {},
     "output_type": "execute_result"
    }
   ],
   "source": [
    "mlstm_flops_v1 = get_mlstm_v1_fw_flops(\n",
    "    sequence_length=sequence_length, batch_size=batch_size, chunk_size=chunk_size\n",
    ")\n",
    "mlstm_flops_v2 = get_mlstm_v2_fw_flops(\n",
    "    sequence_length=sequence_length, batch_size=batch_size, chunk_size=chunk_size\n",
    ")\n",
    "make_flop_table(\n",
    "    mlstm_flops_v1=mlstm_flops_v1,\n",
    "    mlstm_flops_v2=mlstm_flops_v2,\n",
    "    model_size_keys=model_size_keys,\n",
    ")"
   ]
  },
  {
   "cell_type": "code",
   "execution_count": 19,
   "metadata": {},
   "outputs": [
    {
     "data": {
      "text/html": [
       "<div>\n",
       "<style scoped>\n",
       "    .dataframe tbody tr th:only-of-type {\n",
       "        vertical-align: middle;\n",
       "    }\n",
       "\n",
       "    .dataframe tbody tr th {\n",
       "        vertical-align: top;\n",
       "    }\n",
       "\n",
       "    .dataframe thead th {\n",
       "        text-align: right;\n",
       "    }\n",
       "</style>\n",
       "<table border=\"1\" class=\"dataframe\">\n",
       "  <thead>\n",
       "    <tr style=\"text-align: right;\">\n",
       "      <th></th>\n",
       "      <th>Model Size</th>\n",
       "      <th>Total FLOPs v1</th>\n",
       "      <th>Total FLOPs v2</th>\n",
       "      <th>v2/v1 Ratio</th>\n",
       "      <th>v1 Linear Layer FLOPs Ratio</th>\n",
       "      <th>v2 Linear Layer FLOPs Ratio</th>\n",
       "      <th>v1 MLSTM Other FLOPs Ratio</th>\n",
       "      <th>v2 MLSTM Other FLOPs Ratio</th>\n",
       "    </tr>\n",
       "  </thead>\n",
       "  <tbody>\n",
       "    <tr>\n",
       "      <th>0</th>\n",
       "      <td>7B_nh1</td>\n",
       "      <td>4136494199168</td>\n",
       "      <td>7771149755136</td>\n",
       "      <td>1.878680</td>\n",
       "      <td>0.531623</td>\n",
       "      <td>0.424468</td>\n",
       "      <td>0.468377</td>\n",
       "      <td>0.575118</td>\n",
       "    </tr>\n",
       "    <tr>\n",
       "      <th>1</th>\n",
       "      <td>7B_nh2</td>\n",
       "      <td>3859606987520</td>\n",
       "      <td>5554954552832</td>\n",
       "      <td>1.439254</td>\n",
       "      <td>0.569762</td>\n",
       "      <td>0.593813</td>\n",
       "      <td>0.430238</td>\n",
       "      <td>0.405608</td>\n",
       "    </tr>\n",
       "    <tr>\n",
       "      <th>2</th>\n",
       "      <td>7B_nh4</td>\n",
       "      <td>3721370650112</td>\n",
       "      <td>4446868835328</td>\n",
       "      <td>1.194955</td>\n",
       "      <td>0.590927</td>\n",
       "      <td>0.741781</td>\n",
       "      <td>0.409073</td>\n",
       "      <td>0.257495</td>\n",
       "    </tr>\n",
       "    <tr>\n",
       "      <th>3</th>\n",
       "      <td>7B_nh8</td>\n",
       "      <td>3652667018240</td>\n",
       "      <td>3892849743872</td>\n",
       "      <td>1.065755</td>\n",
       "      <td>0.602041</td>\n",
       "      <td>0.847349</td>\n",
       "      <td>0.397959</td>\n",
       "      <td>0.151824</td>\n",
       "    </tr>\n",
       "    <tr>\n",
       "      <th>4</th>\n",
       "      <td>7B_nh16</td>\n",
       "      <td>3619144275968</td>\n",
       "      <td>3615887732736</td>\n",
       "      <td>0.999100</td>\n",
       "      <td>0.607618</td>\n",
       "      <td>0.912252</td>\n",
       "      <td>0.392382</td>\n",
       "      <td>0.086857</td>\n",
       "    </tr>\n",
       "  </tbody>\n",
       "</table>\n",
       "</div>"
      ],
      "text/plain": [
       "  Model Size  Total FLOPs v1  Total FLOPs v2  v2/v1 Ratio  \\\n",
       "0     7B_nh1   4136494199168   7771149755136     1.878680   \n",
       "1     7B_nh2   3859606987520   5554954552832     1.439254   \n",
       "2     7B_nh4   3721370650112   4446868835328     1.194955   \n",
       "3     7B_nh8   3652667018240   3892849743872     1.065755   \n",
       "4    7B_nh16   3619144275968   3615887732736     0.999100   \n",
       "\n",
       "   v1 Linear Layer FLOPs Ratio  v2 Linear Layer FLOPs Ratio  \\\n",
       "0                     0.531623                     0.424468   \n",
       "1                     0.569762                     0.593813   \n",
       "2                     0.590927                     0.741781   \n",
       "3                     0.602041                     0.847349   \n",
       "4                     0.607618                     0.912252   \n",
       "\n",
       "   v1 MLSTM Other FLOPs Ratio  v2 MLSTM Other FLOPs Ratio  \n",
       "0                    0.468377                    0.575118  \n",
       "1                    0.430238                    0.405608  \n",
       "2                    0.409073                    0.257495  \n",
       "3                    0.397959                    0.151824  \n",
       "4                    0.392382                    0.086857  "
      ]
     },
     "execution_count": 19,
     "metadata": {},
     "output_type": "execute_result"
    }
   ],
   "source": [
    "mlstm_flops_v1_7B = get_mlstm_v1_fw_7B_flops(\n",
    "    sequence_length=sequence_length, batch_size=batch_size, chunk_size=chunk_size\n",
    ")\n",
    "mlstm_flops_v2_7B = get_mlstm_v2_fw_7B_flops(\n",
    "    sequence_length=sequence_length, batch_size=batch_size, chunk_size=chunk_size\n",
    ")\n",
    "make_flop_table(\n",
    "    mlstm_flops_v1=mlstm_flops_v1_7B,\n",
    "    mlstm_flops_v2=mlstm_flops_v2_7B,\n",
    "    model_size_keys=mlstm_flops_v1_7B.keys(),\n",
    ")"
   ]
  },
  {
   "cell_type": "code",
   "execution_count": null,
   "metadata": {},
   "outputs": [],
   "source": []
  }
 ],
 "metadata": {
  "kernelspec": {
   "display_name": "xlstmpt240cu124",
   "language": "python",
   "name": "python3"
  },
  "language_info": {
   "codemirror_mode": {
    "name": "ipython",
    "version": 3
   },
   "file_extension": ".py",
   "mimetype": "text/x-python",
   "name": "python",
   "nbconvert_exporter": "python",
   "pygments_lexer": "ipython3",
   "version": "3.11.9"
  }
 },
 "nbformat": 4,
 "nbformat_minor": 2
}
