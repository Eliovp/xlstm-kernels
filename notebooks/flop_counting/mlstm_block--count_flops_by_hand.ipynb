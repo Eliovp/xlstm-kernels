{
 "cells": [
  {
   "cell_type": "code",
   "execution_count": 1,
   "metadata": {},
   "outputs": [],
   "source": [
    "import torch\n",
    "\n",
    "from dataclasses import dataclass, field\n",
    "from matplotlib import pyplot as plt\n",
    "import numpy as np\n",
    "import sys\n",
    "from pprint import pprint\n",
    "import pandas as pd\n",
    "\n",
    "sys.path.append(\"../..\")"
   ]
  },
  {
   "cell_type": "markdown",
   "metadata": {},
   "source": [
    "# FLOPs of the mLSTM v1 & v2 blocks"
   ]
  },
  {
   "cell_type": "code",
   "execution_count": 21,
   "metadata": {},
   "outputs": [
    {
     "name": "stdout",
     "output_type": "stream",
     "text": [
      "The autoreload extension is already loaded. To reload it, use:\n",
      "  %reload_ext autoreload\n"
     ]
    }
   ],
   "source": [
    "%load_ext autoreload\n",
    "%autoreload 2\n",
    "from mlstm_kernels.flops_utils.flops_computation import (\n",
    "    count_flops_mlstm_v1_block_fw,\n",
    "    count_flops_mlstm_v2_block_fw,\n",
    "    FLOPsComputation,\n",
    "    count_fw_flops,\n",
    ")\n",
    "from mlstm_kernels.flops_utils.mlstm_block_flop_counts import (\n",
    "    plot_mlstm_v1_v2_flop_comparison,\n",
    "    make_flop_table,\n",
    ")"
   ]
  },
  {
   "cell_type": "code",
   "execution_count": 3,
   "metadata": {},
   "outputs": [],
   "source": [
    "S = 8192\n",
    "d = 4096\n",
    "Nh = 8\n",
    "chunk_size = 64"
   ]
  },
  {
   "cell_type": "code",
   "execution_count": 4,
   "metadata": {},
   "outputs": [],
   "source": [
    "total_flops_v1, linear_layer_flops_v1, mlstm_flops_v1 = count_flops_mlstm_v1_block_fw(\n",
    "    S=S, d=d, Nh=Nh, dqk=d // Nh, dv=d // Nh, chunk_size=chunk_size\n",
    ")"
   ]
  },
  {
   "cell_type": "code",
   "execution_count": 5,
   "metadata": {},
   "outputs": [],
   "source": [
    "pf = 2\n",
    "total_flops_v2, linear_layer_flops_v2, mlstm_flops_v2 = count_flops_mlstm_v2_block_fw(\n",
    "    S=S, d=d, Nh=Nh, pf=pf, dqk=(d * pf) // Nh, dv=(d * pf) // Nh, chunk_size=chunk_size\n",
    ")"
   ]
  },
  {
   "cell_type": "code",
   "execution_count": 6,
   "metadata": {},
   "outputs": [
    {
     "data": {
      "text/plain": [
       "{'linear_layer_flops': 1649334550528,\n",
       " 'qkv_proj_flops': 1610612736,\n",
       " 'conv1d_flops': 671285248,\n",
       " 'skip_ln_mlstm_flops': 201359360,\n",
       " 'skip_ln_linear_layer_flops': 33570816,\n",
       " 'mlstm_cell_total_flops': 226001065984,\n",
       " 'mlstm_cell_fw_C_flops': 208777057280,\n",
       " 'mlstm_cell_fw_H_flops': 17224008704}"
      ]
     },
     "execution_count": 6,
     "metadata": {},
     "output_type": "execute_result"
    }
   ],
   "source": [
    "pf = 2\n",
    "_, detailed_flops = count_flops_mlstm_v2_block_fw(\n",
    "    S=S,\n",
    "    d=d,\n",
    "    Nh=Nh,\n",
    "    pf=pf,\n",
    "    dqk=(d * pf) // Nh,\n",
    "    dv=(d * pf) // Nh,\n",
    "    chunk_size=chunk_size,\n",
    "    return_detailed_flops=True,\n",
    ")\n",
    "detailed_flops"
   ]
  },
  {
   "cell_type": "code",
   "execution_count": 7,
   "metadata": {},
   "outputs": [
    {
     "name": "stdout",
     "output_type": "stream",
     "text": [
      "v2 linear_layer fraction: 0.8783089188970251\n",
      "v2 qkv proj fraction: 0.0008576886541696954\n",
      "v2 conv1d fraction: 0.0003574749708927486\n",
      "v2 mlstm fraction: 0.12035081170793217\n"
     ]
    }
   ],
   "source": [
    "print(\n",
    "    f\"v2 linear_layer fraction: {detailed_flops['linear_layer_flops']/total_flops_v2}\"\n",
    ")\n",
    "print(f\"v2 qkv proj fraction: {detailed_flops['qkv_proj_flops']/total_flops_v2}\")\n",
    "print(f\"v2 conv1d fraction: {detailed_flops['conv1d_flops']/total_flops_v2}\")\n",
    "print(f\"v2 mlstm fraction: {detailed_flops['mlstm_cell_total_flops']/total_flops_v2}\")"
   ]
  },
  {
   "cell_type": "code",
   "execution_count": 8,
   "metadata": {},
   "outputs": [
    {
     "name": "stdout",
     "output_type": "stream",
     "text": [
      "v1 mlstm fraction: 0.08317072311018933\n",
      "v1 linear_layer fraction: 0.9168292768898106\n"
     ]
    }
   ],
   "source": [
    "print(f\"v1 mlstm fraction: {mlstm_flops_v1/total_flops_v1}\")\n",
    "print(f\"v1 linear_layer fraction: {linear_layer_flops_v1/total_flops_v1}\")"
   ]
  },
  {
   "cell_type": "code",
   "execution_count": 9,
   "metadata": {},
   "outputs": [
    {
     "name": "stdout",
     "output_type": "stream",
     "text": [
      "Total FLOPS v1: 2398691.991552M, MLSTM FLOPS v1: 199500947456, Linear Layer FLOPS v1: 2199191044096\n",
      "Total FLOPS v2: 3755704.889344M, MLSTM FLOPS v2: 453747421184, Linear Layer FLOPS v2: 3298736242688\n"
     ]
    }
   ],
   "source": [
    "print(\n",
    "    f\"Total FLOPS v1: {total_flops_v1/1e6}M, MLSTM FLOPS v1: {mlstm_flops_v1}, Linear Layer FLOPS v1: {linear_layer_flops_v1}\"\n",
    ")\n",
    "print(\n",
    "    f\"Total FLOPS v2: {2*total_flops_v2/1e6}M, MLSTM FLOPS v2: {2*mlstm_flops_v2}, Linear Layer FLOPS v2: {2*linear_layer_flops_v2}\"\n",
    ")\n",
    "# (2398691991552, 199500947456, 2199191044096)\n",
    "# (3425595338752, 123637870592, 3298736242688)"
   ]
  },
  {
   "cell_type": "code",
   "execution_count": 10,
   "metadata": {},
   "outputs": [
    {
     "name": "stdout",
     "output_type": "stream",
     "text": [
      "Total Ratio v2/v1: 1.5657303657873918\n",
      "MLSTM Ratio v2/v1: 2.2744123622975483\n",
      "Linear Layer Ratio v2/v1: 1.4999771172876795\n"
     ]
    }
   ],
   "source": [
    "print(f\"Total Ratio v2/v1: {(2*total_flops_v2)/total_flops_v1}\")\n",
    "print(f\"MLSTM Ratio v2/v1: {(2*mlstm_flops_v2)/mlstm_flops_v1}\")\n",
    "print(f\"Linear Layer Ratio v2/v1: {(2*linear_layer_flops_v2)/linear_layer_flops_v1}\")"
   ]
  },
  {
   "cell_type": "markdown",
   "metadata": {},
   "source": [
    "## FLOPs vs Model size\n"
   ]
  },
  {
   "cell_type": "code",
   "execution_count": 23,
   "metadata": {},
   "outputs": [],
   "source": [
    "from mlstm_kernels.flops_utils.mlstm_block_flop_counts import (\n",
    "    get_mlstm_v1_fw_flops,\n",
    "    get_mlstm_v2_fw_flops,\n",
    "    get_mlstm_v1_fw_7B_flops,\n",
    "    get_mlstm_v2_fw_7B_flops,\n",
    ")"
   ]
  },
  {
   "cell_type": "code",
   "execution_count": 12,
   "metadata": {},
   "outputs": [],
   "source": [
    "sequence_length = 8192\n",
    "batch_size = 1\n",
    "chunk_size = 64"
   ]
  },
  {
   "cell_type": "code",
   "execution_count": 13,
   "metadata": {},
   "outputs": [],
   "source": [
    "mlstm_flops_v1 = get_mlstm_v1_fw_flops(\n",
    "    sequence_length=sequence_length, batch_size=batch_size, chunk_size=chunk_size\n",
    ")\n",
    "mlstm_flops_v2 = get_mlstm_v2_fw_flops(\n",
    "    sequence_length=sequence_length, batch_size=batch_size, chunk_size=chunk_size\n",
    ")"
   ]
  },
  {
   "cell_type": "code",
   "execution_count": 14,
   "metadata": {},
   "outputs": [
    {
     "data": {
      "text/plain": [
       "(2398691991552, 199500947456, 2199191044096)"
      ]
     },
     "execution_count": 14,
     "metadata": {},
     "output_type": "execute_result"
    }
   ],
   "source": [
    "(\n",
    "    mlstm_flops_v1[\"7B\"].total_flops,\n",
    "    mlstm_flops_v1[\"7B\"].mlstm_other_flops,\n",
    "    mlstm_flops_v1[\"7B\"].linear_layer_flops,\n",
    ")"
   ]
  },
  {
   "cell_type": "code",
   "execution_count": 15,
   "metadata": {},
   "outputs": [
    {
     "data": {
      "text/plain": [
       "(3755704889344, 453747421184, 3298736242688)"
      ]
     },
     "execution_count": 15,
     "metadata": {},
     "output_type": "execute_result"
    }
   ],
   "source": [
    "(\n",
    "    mlstm_flops_v2[\"7B\"].total_flops,\n",
    "    mlstm_flops_v2[\"7B\"].mlstm_other_flops,\n",
    "    mlstm_flops_v2[\"7B\"].linear_layer_flops,\n",
    ")"
   ]
  },
  {
   "cell_type": "code",
   "execution_count": 16,
   "metadata": {},
   "outputs": [],
   "source": [
    "model_size_keys = list(mlstm_flops_v1.keys())"
   ]
  },
  {
   "cell_type": "code",
   "execution_count": null,
   "metadata": {},
   "outputs": [
    {
     "data": {
      "image/png": "[encoded data removed]",
      "text/plain": [
       "<Figure size 800x600 with 1 Axes>"
      ]
     },
     "metadata": {},
     "output_type": "display_data"
    }
   ],
   "source": [
    "fig = plot_mlstm_v1_v2_flop_comparison(\n",
    "    sequence_length=8192, batch_size=1, chunk_size=64, model_size_keys=model_size_keys\n",
    ")"
   ]
  },
  {
   "cell_type": "code",
   "execution_count": 22,
   "metadata": {},
   "outputs": [
    {
     "data": {
      "text/html": [
       "<div>\n",
       "<style scoped>\n",
       "    .dataframe tbody tr th:only-of-type {\n",
       "        vertical-align: middle;\n",
       "    }\n",
       "\n",
       "    .dataframe tbody tr th {\n",
       "        vertical-align: top;\n",
       "    }\n",
       "\n",
       "    .dataframe thead th {\n",
       "        text-align: right;\n",
       "    }\n",
       "</style>\n",
       "<table border=\"1\" class=\"dataframe\">\n",
       "  <thead>\n",
       "    <tr style=\"text-align: right;\">\n",
       "      <th></th>\n",
       "      <th>Model Size</th>\n",
       "      <th>Total FLOPs v1</th>\n",
       "      <th>Total FLOPs v2</th>\n",
       "      <th>v2/v1 Ratio</th>\n",
       "      <th>v1 Linear Layer FLOPs Ratio</th>\n",
       "      <th>v2 Linear Layer FLOPs Ratio</th>\n",
       "      <th>v1 MLSTM Other FLOPs Ratio</th>\n",
       "      <th>v2 MLSTM Other FLOPs Ratio</th>\n",
       "    </tr>\n",
       "  </thead>\n",
       "  <tbody>\n",
       "    <tr>\n",
       "      <th>0</th>\n",
       "      <td>125M</td>\n",
       "      <td>92453267200</td>\n",
       "      <td>152889589760</td>\n",
       "      <td>1.653696</td>\n",
       "      <td>0.836540</td>\n",
       "      <td>0.758730</td>\n",
       "      <td>0.163460</td>\n",
       "      <td>0.237320</td>\n",
       "    </tr>\n",
       "    <tr>\n",
       "      <th>1</th>\n",
       "      <td>350M</td>\n",
       "      <td>163545706496</td>\n",
       "      <td>268396689408</td>\n",
       "      <td>1.641111</td>\n",
       "      <td>0.840627</td>\n",
       "      <td>0.768298</td>\n",
       "      <td>0.159373</td>\n",
       "      <td>0.228701</td>\n",
       "    </tr>\n",
       "    <tr>\n",
       "      <th>2</th>\n",
       "      <td>760M</td>\n",
       "      <td>366153728512</td>\n",
       "      <td>596248979456</td>\n",
       "      <td>1.628412</td>\n",
       "      <td>0.844729</td>\n",
       "      <td>0.778084</td>\n",
       "      <td>0.155271</td>\n",
       "      <td>0.219890</td>\n",
       "    </tr>\n",
       "    <tr>\n",
       "      <th>3</th>\n",
       "      <td>1.3B</td>\n",
       "      <td>649325941760</td>\n",
       "      <td>1053218723840</td>\n",
       "      <td>1.622019</td>\n",
       "      <td>0.846785</td>\n",
       "      <td>0.783061</td>\n",
       "      <td>0.153215</td>\n",
       "      <td>0.215410</td>\n",
       "    </tr>\n",
       "    <tr>\n",
       "      <th>4</th>\n",
       "      <td>2.7B</td>\n",
       "      <td>1013062346240</td>\n",
       "      <td>1639305922560</td>\n",
       "      <td>1.618169</td>\n",
       "      <td>0.848021</td>\n",
       "      <td>0.786074</td>\n",
       "      <td>0.151979</td>\n",
       "      <td>0.212698</td>\n",
       "    </tr>\n",
       "    <tr>\n",
       "      <th>5</th>\n",
       "      <td>7B</td>\n",
       "      <td>2398691991552</td>\n",
       "      <td>3755704889344</td>\n",
       "      <td>1.565730</td>\n",
       "      <td>0.916829</td>\n",
       "      <td>0.878327</td>\n",
       "      <td>0.083171</td>\n",
       "      <td>0.120816</td>\n",
       "    </tr>\n",
       "  </tbody>\n",
       "</table>\n",
       "</div>"
      ],
      "text/plain": [
       "  Model Size  Total FLOPs v1  Total FLOPs v2  v2/v1 Ratio  \\\n",
       "0       125M     92453267200    152889589760     1.653696   \n",
       "1       350M    163545706496    268396689408     1.641111   \n",
       "2       760M    366153728512    596248979456     1.628412   \n",
       "3       1.3B    649325941760   1053218723840     1.622019   \n",
       "4       2.7B   1013062346240   1639305922560     1.618169   \n",
       "5         7B   2398691991552   3755704889344     1.565730   \n",
       "\n",
       "   v1 Linear Layer FLOPs Ratio  v2 Linear Layer FLOPs Ratio  \\\n",
       "0                     0.836540                     0.758730   \n",
       "1                     0.840627                     0.768298   \n",
       "2                     0.844729                     0.778084   \n",
       "3                     0.846785                     0.783061   \n",
       "4                     0.848021                     0.786074   \n",
       "5                     0.916829                     0.878327   \n",
       "\n",
       "   v1 MLSTM Other FLOPs Ratio  v2 MLSTM Other FLOPs Ratio  \n",
       "0                    0.163460                    0.237320  \n",
       "1                    0.159373                    0.228701  \n",
       "2                    0.155271                    0.219890  \n",
       "3                    0.153215                    0.215410  \n",
       "4                    0.151979                    0.212698  \n",
       "5                    0.083171                    0.120816  "
      ]
     },
     "execution_count": 22,
     "metadata": {},
     "output_type": "execute_result"
    }
   ],
   "source": [
    "mlstm_flops_v1 = get_mlstm_v1_fw_flops(\n",
    "    sequence_length=sequence_length, batch_size=batch_size, chunk_size=chunk_size\n",
    ")\n",
    "mlstm_flops_v2 = get_mlstm_v2_fw_flops(\n",
    "    sequence_length=sequence_length, batch_size=batch_size, chunk_size=chunk_size\n",
    ")\n",
    "make_flop_table(\n",
    "    mlstm_flops_v1=mlstm_flops_v1,\n",
    "    mlstm_flops_v2=mlstm_flops_v2,\n",
    "    model_size_keys=model_size_keys,\n",
    ")"
   ]
  },
  {
   "cell_type": "code",
   "execution_count": 25,
   "metadata": {},
   "outputs": [
    {
     "data": {
      "text/html": [
       "<div>\n",
       "<style scoped>\n",
       "    .dataframe tbody tr th:only-of-type {\n",
       "        vertical-align: middle;\n",
       "    }\n",
       "\n",
       "    .dataframe tbody tr th {\n",
       "        vertical-align: top;\n",
       "    }\n",
       "\n",
       "    .dataframe thead th {\n",
       "        text-align: right;\n",
       "    }\n",
       "</style>\n",
       "<table border=\"1\" class=\"dataframe\">\n",
       "  <thead>\n",
       "    <tr style=\"text-align: right;\">\n",
       "      <th></th>\n",
       "      <th>Model Size</th>\n",
       "      <th>Total FLOPs v1</th>\n",
       "      <th>Total FLOPs v2</th>\n",
       "      <th>v2/v1 Ratio</th>\n",
       "      <th>v1 Linear Layer FLOPs Ratio</th>\n",
       "      <th>v2 Linear Layer FLOPs Ratio</th>\n",
       "      <th>v1 MLSTM Other FLOPs Ratio</th>\n",
       "      <th>v2 MLSTM Other FLOPs Ratio</th>\n",
       "    </tr>\n",
       "  </thead>\n",
       "  <tbody>\n",
       "    <tr>\n",
       "      <th>0</th>\n",
       "      <td>7B_nh1</td>\n",
       "      <td>3724380312320</td>\n",
       "      <td>6671909856768</td>\n",
       "      <td>1.791415</td>\n",
       "      <td>0.590485</td>\n",
       "      <td>0.494422</td>\n",
       "      <td>0.409515</td>\n",
       "      <td>0.505096</td>\n",
       "    </tr>\n",
       "    <tr>\n",
       "      <th>1</th>\n",
       "      <td>7B_nh2</td>\n",
       "      <td>2966424798720</td>\n",
       "      <td>5005473664000</td>\n",
       "      <td>1.687376</td>\n",
       "      <td>0.741361</td>\n",
       "      <td>0.659026</td>\n",
       "      <td>0.258639</td>\n",
       "      <td>0.340331</td>\n",
       "    </tr>\n",
       "    <tr>\n",
       "      <th>2</th>\n",
       "      <td>7B_nh4</td>\n",
       "      <td>2587656707072</td>\n",
       "      <td>4172272244736</td>\n",
       "      <td>1.612375</td>\n",
       "      <td>0.849877</td>\n",
       "      <td>0.790633</td>\n",
       "      <td>0.150123</td>\n",
       "      <td>0.208595</td>\n",
       "    </tr>\n",
       "    <tr>\n",
       "      <th>3</th>\n",
       "      <td>7B_nh8</td>\n",
       "      <td>2398691991552</td>\n",
       "      <td>3755704889344</td>\n",
       "      <td>1.565730</td>\n",
       "      <td>0.916829</td>\n",
       "      <td>0.878327</td>\n",
       "      <td>0.083171</td>\n",
       "      <td>0.120816</td>\n",
       "    </tr>\n",
       "    <tr>\n",
       "      <th>4</th>\n",
       "      <td>7B_nh16</td>\n",
       "      <td>2305048294400</td>\n",
       "      <td>3547487920128</td>\n",
       "      <td>1.539008</td>\n",
       "      <td>0.954076</td>\n",
       "      <td>0.929879</td>\n",
       "      <td>0.045924</td>\n",
       "      <td>0.069212</td>\n",
       "    </tr>\n",
       "  </tbody>\n",
       "</table>\n",
       "</div>"
      ],
      "text/plain": [
       "  Model Size  Total FLOPs v1  Total FLOPs v2  v2/v1 Ratio  \\\n",
       "0     7B_nh1   3724380312320   6671909856768     1.791415   \n",
       "1     7B_nh2   2966424798720   5005473664000     1.687376   \n",
       "2     7B_nh4   2587656707072   4172272244736     1.612375   \n",
       "3     7B_nh8   2398691991552   3755704889344     1.565730   \n",
       "4    7B_nh16   2305048294400   3547487920128     1.539008   \n",
       "\n",
       "   v1 Linear Layer FLOPs Ratio  v2 Linear Layer FLOPs Ratio  \\\n",
       "0                     0.590485                     0.494422   \n",
       "1                     0.741361                     0.659026   \n",
       "2                     0.849877                     0.790633   \n",
       "3                     0.916829                     0.878327   \n",
       "4                     0.954076                     0.929879   \n",
       "\n",
       "   v1 MLSTM Other FLOPs Ratio  v2 MLSTM Other FLOPs Ratio  \n",
       "0                    0.409515                    0.505096  \n",
       "1                    0.258639                    0.340331  \n",
       "2                    0.150123                    0.208595  \n",
       "3                    0.083171                    0.120816  \n",
       "4                    0.045924                    0.069212  "
      ]
     },
     "execution_count": 25,
     "metadata": {},
     "output_type": "execute_result"
    }
   ],
   "source": [
    "mlstm_flops_v1_7B = get_mlstm_v1_fw_7B_flops(\n",
    "    sequence_length=sequence_length, batch_size=batch_size, chunk_size=chunk_size\n",
    ")\n",
    "mlstm_flops_v2_7B = get_mlstm_v2_fw_7B_flops(\n",
    "    sequence_length=sequence_length, batch_size=batch_size, chunk_size=chunk_size\n",
    ")\n",
    "make_flop_table(\n",
    "    mlstm_flops_v1=mlstm_flops_v1_7B,\n",
    "    mlstm_flops_v2=mlstm_flops_v2_7B,\n",
    "    model_size_keys=mlstm_flops_v1_7B.keys(),\n",
    ")"
   ]
  },
  {
   "cell_type": "code",
   "execution_count": null,
   "metadata": {},
   "outputs": [],
   "source": []
  }
 ],
 "metadata": {
  "kernelspec": {
   "display_name": "xlstmpt240cu124",
   "language": "python",
   "name": "python3"
  },
  "language_info": {
   "codemirror_mode": {
    "name": "ipython",
    "version": 3
   },
   "file_extension": ".py",
   "mimetype": "text/x-python",
   "name": "python",
   "nbconvert_exporter": "python",
   "pygments_lexer": "ipython3",
   "version": "3.11.9"
  }
 },
 "nbformat": 4,
 "nbformat_minor": 2
}
