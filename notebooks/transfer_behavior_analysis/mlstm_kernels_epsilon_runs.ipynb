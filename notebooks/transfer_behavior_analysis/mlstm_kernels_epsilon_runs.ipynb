{
 "cells": [
  {
   "cell_type": "code",
   "execution_count": 1,
   "metadata": {},
   "outputs": [],
   "source": [
    "%load_ext autoreload\n",
    "%autoreload 2\n",
    "\n",
    "import sys\n",
    "\n",
    "sys.path.append(\"..\")\n",
    "\n",
    "import pickle\n",
    "from pathlib import Path\n",
    "import seaborn as sns\n",
    "import pandas as pd\n",
    "import matplotlib.pyplot as plt\n",
    "from plot_config import get_tb_plot_mpl_context, savefig"
   ]
  },
  {
   "cell_type": "code",
   "execution_count": 2,
   "metadata": {},
   "outputs": [],
   "source": [
    "raw_data_df = pd.read_pickle(\"norm_eps_vs_igbias_raw_data_df.p\")"
   ]
  },
  {
   "cell_type": "code",
   "execution_count": 3,
   "metadata": {},
   "outputs": [
    {
     "data": {
      "application/vnd.microsoft.datawrangler.viewer.v0+json": {
       "columns": [
        {
         "name": "index",
         "rawType": "int64",
         "type": "integer"
        },
        {
         "name": "igate_bias_init_val",
         "rawType": "int64",
         "type": "integer"
        },
        {
         "name": "val_ppl",
         "rawType": "float64",
         "type": "float"
        }
       ],
       "conversionMethod": "pd.DataFrame",
       "ref": "77f1cace-ed48-48b9-8cf5-cafcc5151e93",
       "rows": [
        [
         "4",
         "-7",
         "21.288243679898724"
        ],
        [
         "8",
         "-5",
         "21.287708496904116"
        ],
        [
         "12",
         "-2",
         "21.250766662302393"
        ],
        [
         "19",
         "-10",
         "21.205869933123246"
        ]
       ],
       "shape": {
        "columns": 2,
        "rows": 4
       }
      },
      "text/html": [
       "<div>\n",
       "<style scoped>\n",
       "    .dataframe tbody tr th:only-of-type {\n",
       "        vertical-align: middle;\n",
       "    }\n",
       "\n",
       "    .dataframe tbody tr th {\n",
       "        vertical-align: top;\n",
       "    }\n",
       "\n",
       "    .dataframe thead th {\n",
       "        text-align: right;\n",
       "    }\n",
       "</style>\n",
       "<table border=\"1\" class=\"dataframe\">\n",
       "  <thead>\n",
       "    <tr style=\"text-align: right;\">\n",
       "      <th></th>\n",
       "      <th>igate_bias_init_val</th>\n",
       "      <th>val_ppl</th>\n",
       "    </tr>\n",
       "  </thead>\n",
       "  <tbody>\n",
       "    <tr>\n",
       "      <th>4</th>\n",
       "      <td>-7</td>\n",
       "      <td>21.288244</td>\n",
       "    </tr>\n",
       "    <tr>\n",
       "      <th>8</th>\n",
       "      <td>-5</td>\n",
       "      <td>21.287708</td>\n",
       "    </tr>\n",
       "    <tr>\n",
       "      <th>12</th>\n",
       "      <td>-2</td>\n",
       "      <td>21.250767</td>\n",
       "    </tr>\n",
       "    <tr>\n",
       "      <th>19</th>\n",
       "      <td>-10</td>\n",
       "      <td>21.205870</td>\n",
       "    </tr>\n",
       "  </tbody>\n",
       "</table>\n",
       "</div>"
      ],
      "text/plain": [
       "    igate_bias_init_val    val_ppl\n",
       "4                    -7  21.288244\n",
       "8                    -5  21.287708\n",
       "12                   -2  21.250767\n",
       "19                  -10  21.205870"
      ]
     },
     "execution_count": 3,
     "metadata": {},
     "output_type": "execute_result"
    }
   ],
   "source": [
    "tdf = raw_data_df[raw_data_df[\"cell_norm_eps\"] == 1e-8][\n",
    "    [\"igate_bias_init_val\", \"val_ppl\"]\n",
    "]\n",
    "tdf"
   ]
  },
  {
   "cell_type": "code",
   "execution_count": 4,
   "metadata": {},
   "outputs": [
    {
     "data": {
      "text/plain": [
       "<NumpyExtensionArray>\n",
       "[np.float64(21.288243679898724), np.float64(21.287708496904116),\n",
       " np.float64(21.250766662302393), np.float64(21.205869933123246)]\n",
       "Length: 4, dtype: float64"
      ]
     },
     "execution_count": 4,
     "metadata": {},
     "output_type": "execute_result"
    }
   ],
   "source": [
    "tdf[\"val_ppl\"].array"
   ]
  },
  {
   "cell_type": "code",
   "execution_count": 5,
   "metadata": {},
   "outputs": [
    {
     "data": {
      "application/vnd.microsoft.datawrangler.viewer.v0+json": {
       "columns": [
        {
         "name": "igate_bias_init_val",
         "rawType": "int64",
         "type": "integer"
        },
        {
         "name": "val_ppl",
         "rawType": "float64",
         "type": "float"
        }
       ],
       "conversionMethod": "pd.DataFrame",
       "ref": "c856857c-6d0c-4d15-b779-961c03813914",
       "rows": [
        [
         "-7",
         "21.288243679898724"
        ],
        [
         "-5",
         "21.287708496904116"
        ],
        [
         "-2",
         "21.250766662302393"
        ],
        [
         "-10",
         "21.205869933123246"
        ]
       ],
       "shape": {
        "columns": 1,
        "rows": 4
       }
      },
      "text/html": [
       "<div>\n",
       "<style scoped>\n",
       "    .dataframe tbody tr th:only-of-type {\n",
       "        vertical-align: middle;\n",
       "    }\n",
       "\n",
       "    .dataframe tbody tr th {\n",
       "        vertical-align: top;\n",
       "    }\n",
       "\n",
       "    .dataframe thead th {\n",
       "        text-align: right;\n",
       "    }\n",
       "</style>\n",
       "<table border=\"1\" class=\"dataframe\">\n",
       "  <thead>\n",
       "    <tr style=\"text-align: right;\">\n",
       "      <th></th>\n",
       "      <th>val_ppl</th>\n",
       "    </tr>\n",
       "    <tr>\n",
       "      <th>igate_bias_init_val</th>\n",
       "      <th></th>\n",
       "    </tr>\n",
       "  </thead>\n",
       "  <tbody>\n",
       "    <tr>\n",
       "      <th>-7</th>\n",
       "      <td>21.288244</td>\n",
       "    </tr>\n",
       "    <tr>\n",
       "      <th>-5</th>\n",
       "      <td>21.287708</td>\n",
       "    </tr>\n",
       "    <tr>\n",
       "      <th>-2</th>\n",
       "      <td>21.250767</td>\n",
       "    </tr>\n",
       "    <tr>\n",
       "      <th>-10</th>\n",
       "      <td>21.205870</td>\n",
       "    </tr>\n",
       "  </tbody>\n",
       "</table>\n",
       "</div>"
      ],
      "text/plain": [
       "                       val_ppl\n",
       "igate_bias_init_val           \n",
       "-7                   21.288244\n",
       "-5                   21.287708\n",
       "-2                   21.250767\n",
       "-10                  21.205870"
      ]
     },
     "execution_count": 5,
     "metadata": {},
     "output_type": "execute_result"
    }
   ],
   "source": [
    "pd.DataFrame(\n",
    "    index=tdf[\"igate_bias_init_val\"], data=tdf[\"val_ppl\"].array, columns=[\"val_ppl\"]\n",
    ")"
   ]
  },
  {
   "cell_type": "code",
   "execution_count": 6,
   "metadata": {},
   "outputs": [],
   "source": [
    "def create_heatmap_df(\n",
    "    raw_data_df: pd.DataFrame, columns_col: str, index_col: str, val_col: str\n",
    ") -> pd.DataFrame:\n",
    "    index_dfs = []\n",
    "    for index_val in raw_data_df[columns_col].unique():\n",
    "        selected_cols_vals = raw_data_df[raw_data_df[columns_col] == index_val]\n",
    "\n",
    "        val_df = pd.DataFrame(\n",
    "            index=selected_cols_vals[index_col],\n",
    "            data=selected_cols_vals[val_col].array,\n",
    "            columns=[index_val],\n",
    "        )\n",
    "        index_dfs.append(val_df)\n",
    "\n",
    "    return pd.concat(index_dfs, axis=1).sort_index()"
   ]
  },
  {
   "cell_type": "code",
   "execution_count": 7,
   "metadata": {},
   "outputs": [],
   "source": [
    "heatmap_df = create_heatmap_df(\n",
    "    raw_data_df=raw_data_df,\n",
    "    columns_col=\"igate_bias_init_val\",\n",
    "    index_col=\"cell_norm_eps\",\n",
    "    val_col=\"val_ppl\",\n",
    ")\n",
    "# heatmap_df = heatmap_df.drop(1e-2, axis=0)"
   ]
  },
  {
   "cell_type": "code",
   "execution_count": 8,
   "metadata": {},
   "outputs": [],
   "source": [
    "heatmap_df = heatmap_df.reindex(sorted(heatmap_df.columns, reverse=True), axis=1)\n",
    "heatmap_df.index.name = \"Norm EPS\"\n",
    "heatmap_df.columns.name = \"Input Gate Bias Init\""
   ]
  },
  {
   "cell_type": "code",
   "execution_count": 9,
   "metadata": {},
   "outputs": [
    {
     "data": {
      "application/vnd.microsoft.datawrangler.viewer.v0+json": {
       "columns": [
        {
         "name": "Norm EPS",
         "rawType": "float64",
         "type": "float"
        },
        {
         "name": "-2",
         "rawType": "float64",
         "type": "float"
        },
        {
         "name": "-5",
         "rawType": "float64",
         "type": "float"
        },
        {
         "name": "-7",
         "rawType": "float64",
         "type": "float"
        },
        {
         "name": "-10",
         "rawType": "float64",
         "type": "float"
        }
       ],
       "conversionMethod": "pd.DataFrame",
       "ref": "74f2aa7e-6700-496d-949c-1d9bb0b6c6e3",
       "rows": [
        [
         "1e-08",
         "21.250766662302393",
         "21.287708496904116",
         "21.288243679898724",
         "21.205869933123246"
        ],
        [
         "1e-06",
         "21.31624782917991",
         "21.27948499801156",
         "21.231086424736212",
         "21.040690772822497"
        ],
        [
         "1e-05",
         "21.329123572026273",
         "21.24400406091364",
         "21.162503969746698",
         "21.143400889757764"
        ],
        [
         "0.0001",
         "21.223351009980547",
         "21.15240816580325",
         "21.01929650042711",
         "21.305636653193435"
        ],
        [
         "0.01",
         "23.296080253510965",
         "23.219195034398773",
         "22.731208582109915",
         "22.134232499601797"
        ]
       ],
       "shape": {
        "columns": 4,
        "rows": 5
       }
      },
      "text/html": [
       "<div>\n",
       "<style scoped>\n",
       "    .dataframe tbody tr th:only-of-type {\n",
       "        vertical-align: middle;\n",
       "    }\n",
       "\n",
       "    .dataframe tbody tr th {\n",
       "        vertical-align: top;\n",
       "    }\n",
       "\n",
       "    .dataframe thead th {\n",
       "        text-align: right;\n",
       "    }\n",
       "</style>\n",
       "<table border=\"1\" class=\"dataframe\">\n",
       "  <thead>\n",
       "    <tr style=\"text-align: right;\">\n",
       "      <th>Input Gate Bias Init</th>\n",
       "      <th>-2</th>\n",
       "      <th>-5</th>\n",
       "      <th>-7</th>\n",
       "      <th>-10</th>\n",
       "    </tr>\n",
       "    <tr>\n",
       "      <th>Norm EPS</th>\n",
       "      <th></th>\n",
       "      <th></th>\n",
       "      <th></th>\n",
       "      <th></th>\n",
       "    </tr>\n",
       "  </thead>\n",
       "  <tbody>\n",
       "    <tr>\n",
       "      <th>1.000000e-08</th>\n",
       "      <td>21.250767</td>\n",
       "      <td>21.287708</td>\n",
       "      <td>21.288244</td>\n",
       "      <td>21.205870</td>\n",
       "    </tr>\n",
       "    <tr>\n",
       "      <th>1.000000e-06</th>\n",
       "      <td>21.316248</td>\n",
       "      <td>21.279485</td>\n",
       "      <td>21.231086</td>\n",
       "      <td>21.040691</td>\n",
       "    </tr>\n",
       "    <tr>\n",
       "      <th>1.000000e-05</th>\n",
       "      <td>21.329124</td>\n",
       "      <td>21.244004</td>\n",
       "      <td>21.162504</td>\n",
       "      <td>21.143401</td>\n",
       "    </tr>\n",
       "    <tr>\n",
       "      <th>1.000000e-04</th>\n",
       "      <td>21.223351</td>\n",
       "      <td>21.152408</td>\n",
       "      <td>21.019297</td>\n",
       "      <td>21.305637</td>\n",
       "    </tr>\n",
       "    <tr>\n",
       "      <th>1.000000e-02</th>\n",
       "      <td>23.296080</td>\n",
       "      <td>23.219195</td>\n",
       "      <td>22.731209</td>\n",
       "      <td>22.134232</td>\n",
       "    </tr>\n",
       "  </tbody>\n",
       "</table>\n",
       "</div>"
      ],
      "text/plain": [
       "Input Gate Bias Init        -2         -5         -7         -10\n",
       "Norm EPS                                                        \n",
       "1.000000e-08          21.250767  21.287708  21.288244  21.205870\n",
       "1.000000e-06          21.316248  21.279485  21.231086  21.040691\n",
       "1.000000e-05          21.329124  21.244004  21.162504  21.143401\n",
       "1.000000e-04          21.223351  21.152408  21.019297  21.305637\n",
       "1.000000e-02          23.296080  23.219195  22.731209  22.134232"
      ]
     },
     "execution_count": 9,
     "metadata": {},
     "output_type": "execute_result"
    }
   ],
   "source": [
    "heatmap_df"
   ]
  },
  {
   "cell_type": "code",
   "execution_count": 10,
   "metadata": {},
   "outputs": [],
   "source": [
    "import matplotlib as mpl"
   ]
  },
  {
   "cell_type": "code",
   "execution_count": 11,
   "metadata": {},
   "outputs": [
    {
     "data": {
      "image/png": "[encoded data removed]",
      "text/html": [
       "<div style=\"vertical-align: middle;\"><strong>PiYG</strong> </div><div class=\"cmap\"><img alt=\"PiYG colormap\" title=\"PiYG\" style=\"border: 1px solid #555;\" src=\"data:image/png;base64,iVBORw0KGgoAAAANSUhEUgAAAgAAAABACAYAAABsv8+/AAAAE3RFWHRUaXRsZQBQaVlHIGNvbG9ybWFwFTPRvAAAABl0RVh0RGVzY3JpcHRpb24AUGlZRyBjb2xvcm1hcJ6BQSQAAAAxdEVYdEF1dGhvcgBNYXRwbG90bGliIHYzLjEwLjAsIGh0dHBzOi8vbWF0cGxvdGxpYi5vcmezl84GAAAAM3RFWHRTb2Z0d2FyZQBNYXRwbG90bGliIHYzLjEwLjAsIGh0dHBzOi8vbWF0cGxvdGxpYi5vcmcWs93yAAACGUlEQVR4nO3WS27bMABFUUrJCrOw7thiByaVijL9gzt650wIfiOjQHGXP8tPLaWUdVnKdVyH8fb6138+//a99bq+fK/H8evB/OVzy4ffu71e+u9Zj+f29X7v6f2l7a/v7bd3y+Ren5/2+73997R5H8b9ZTYv98+9+u6b52v7jH7vd2z7k/U+r+P68F4dzj9+5/Z7p78znN9/R9navLZxK/+eqMP+/Pxkvb76znvnt3q5P5ZL+5xnz2139/t8+t7p3HPv7ePW59thfqm313/vbcdzT+8fv+8yuXfen3zHvt7H/u9UH6wP+6f1fn6brH/4fluv+3q5ztu47/d57fuz8+XD7/XvG96fnO/n+n+nAEAQAQAAgQQAAAQSAAAQSAAAQCABAACBBAAABBIAABBIAABAIAEAAIEEAAAEEgAAEEgAAEAgAQAAgQQAAAQSAAAQSAAAQCABAACBBAAABBIAABBIAABAIAEAAIEEAAAEEgAAEEgAAEAgAQAAgQQAAAQSAAAQSAAAQCABAACBBAAABBIAABBIAABAIAEAAIEEAAAEEgAAEEgAAEAgAQAAgQQAAAQSAAAQSAAAQCABAACBBAAABBIAABBIAABAIAEAAIEEAAAEEgAAEEgAAEAgAQAAgQQAAAQSAAAQSAAAQCABAACBBAAABBIAABBIAABAIAEAAIEEAAAEEgAAEEgAAEAgAQAAgQQAAAT6CyirTjLtVp/vAAAAAElFTkSuQmCC\"></div><div style=\"vertical-align: middle; max-width: 514px; display: flex; justify-content: space-between;\"><div style=\"float: left;\"><div title=\"#8e0152ff\" style=\"display: inline-block; width: 1em; height: 1em; margin: 0; vertical-align: middle; border: 1px solid #555; background-color: #8e0152ff;\"></div> under</div><div style=\"margin: 0 auto; display: inline-block;\">bad <div title=\"#00000000\" style=\"display: inline-block; width: 1em; height: 1em; margin: 0; vertical-align: middle; border: 1px solid #555; background-color: #00000000;\"></div></div><div style=\"float: right;\">over <div title=\"#276419ff\" style=\"display: inline-block; width: 1em; height: 1em; margin: 0; vertical-align: middle; border: 1px solid #555; background-color: #276419ff;\"></div></div></div>"
      ],
      "text/plain": [
       "<matplotlib.colors.LinearSegmentedColormap at 0x740bad74c250>"
      ]
     },
     "execution_count": 11,
     "metadata": {},
     "output_type": "execute_result"
    }
   ],
   "source": [
    "mpl.colormaps[\"PiYG\"]"
   ]
  },
  {
   "cell_type": "code",
   "execution_count": 12,
   "metadata": {},
   "outputs": [],
   "source": [
    "import matplotlib.pyplot as plt\n",
    "from matplotlib.colors import LinearSegmentedColormap\n",
    "import numpy as np\n",
    "\n",
    "# Load the PiYG colormap\n",
    "cmap = plt.cm.PiYG\n",
    "\n",
    "# Extract the pink side (the upper half of the colormap)\n",
    "pink_side = cmap(np.linspace(0.0, 0.5, 256))  # Adjust range for pink side\n",
    "pink_cmap = LinearSegmentedColormap.from_list(\"PinkSide\", pink_side)\n",
    "\n",
    "# # Example usage: Visualize the new colormap\n",
    "# fig, ax = plt.subplots(figsize=(6, 2))\n",
    "\n",
    "# # Create a gradient to visualize the colormap\n",
    "# gradient = np.linspace(0, 1, 256).reshape(1, -1)\n",
    "# ax.imshow(gradient, aspect=\"auto\", cmap=pink_cmap)\n",
    "# ax.set_title(\"Pink Side of PiYG\")\n",
    "# ax.set_axis_off()\n",
    "\n",
    "# plt.show()"
   ]
  },
  {
   "cell_type": "code",
   "execution_count": 13,
   "metadata": {},
   "outputs": [
    {
     "data": {
      "image/png": "[encoded data removed]",
      "text/html": [
       "<div style=\"vertical-align: middle;\"><strong>PinkSide_r</strong> </div><div class=\"cmap\"><img alt=\"PinkSide_r colormap\" title=\"PinkSide_r\" style=\"border: 1px solid #555;\" src=\"data:image/png;base64,iVBORw0KGgoAAAANSUhEUgAAAgAAAABACAYAAABsv8+/AAAAGXRFWHRUaXRsZQBQaW5rU2lkZV9yIGNvbG9ybWFwm63ygAAAAB90RVh0RGVzY3JpcHRpb24AUGlua1NpZGVfciBjb2xvcm1hcOGFM84AAAAxdEVYdEF1dGhvcgBNYXRwbG90bGliIHYzLjEwLjAsIGh0dHBzOi8vbWF0cGxvdGxpYi5vcmezl84GAAAAM3RFWHRTb2Z0d2FyZQBNYXRwbG90bGliIHYzLjEwLjAsIGh0dHBzOi8vbWF0cGxvdGxpYi5vcmcWs93yAAABrklEQVR4nO3WQWrDMBRAQbv3P29WjdxNKUQGG1PTBt7MTtGX7CSbtz4ej21ZlmVdvm3Lq9369YN13p9N8/N9u/Mnzzt7v/Vs/uT9fvs++/MX33/6fJvPj9f16f44fv5u/83u/7nvXX6P3Xq8zj/H4f72vHr+eH6b5peLz7v//Ha4f/f53fznOF7P9/12/vb7bv4+//x9x/T/jG2crK/NPy/O//3z3uv+ef5jAQByBAAABAkAAAgSAAAQJAAAIEgAAECQAACAIAEAAEECAACCBAAABAkAAAgSAAAQJAAAIEgAAECQAACAIAEAAEECAACCBAAABAkAAAgSAAAQJAAAIEgAAECQAACAIAEAAEECAACCBAAABAkAAAgSAAAQJAAAIEgAAECQAACAIAEAAEECAACCBAAABAkAAAgSAAAQJAAAIEgAAECQAACAIAEAAEECAACCBAAABAkAAAgSAAAQJAAAIEgAAECQAACAIAEAAEECAACCBAAABAkAAAgSAAAQJAAAIEgAAECQAACAIAEAAEECAACCBAAABAkAAAgSAAAQJAAAIEgAAECQAACAoC/lBztvFd9F4QAAAABJRU5ErkJggg==\"></div><div style=\"vertical-align: middle; max-width: 514px; display: flex; justify-content: space-between;\"><div style=\"float: left;\"><div title=\"#f7f7f6ff\" style=\"display: inline-block; width: 1em; height: 1em; margin: 0; vertical-align: middle; border: 1px solid #555; background-color: #f7f7f6ff;\"></div> under</div><div style=\"margin: 0 auto; display: inline-block;\">bad <div title=\"#00000000\" style=\"display: inline-block; width: 1em; height: 1em; margin: 0; vertical-align: middle; border: 1px solid #555; background-color: #00000000;\"></div></div><div style=\"float: right;\">over <div title=\"#8e0152ff\" style=\"display: inline-block; width: 1em; height: 1em; margin: 0; vertical-align: middle; border: 1px solid #555; background-color: #8e0152ff;\"></div></div></div>"
      ],
      "text/plain": [
       "<matplotlib.colors.LinearSegmentedColormap at 0x740b19d72c10>"
      ]
     },
     "execution_count": 13,
     "metadata": {},
     "output_type": "execute_result"
    }
   ],
   "source": [
    "pink_cmap.reversed()"
   ]
  },
  {
   "cell_type": "code",
   "execution_count": 14,
   "metadata": {},
   "outputs": [
    {
     "data": {
      "image/png": "[encoded data removed]",
      "text/plain": [
       "<Figure size 650x400 with 2 Axes>"
      ]
     },
     "metadata": {},
     "output_type": "display_data"
    }
   ],
   "source": [
    "with get_tb_plot_mpl_context():\n",
    "    fig, ax = plt.subplots(1, 1, figsize=(6.5, 4))\n",
    "    ax.get_yticklabels\n",
    "    fig = sns.heatmap(\n",
    "        ax=ax,\n",
    "        data=heatmap_df.T,\n",
    "        # robust=True,\n",
    "        annot=True,\n",
    "        fmt=\".2f\",\n",
    "        cmap=pink_cmap,\n",
    "        yticklabels=heatmap_df.columns,\n",
    "        xticklabels=[f\"{x:.0e}\" for x in heatmap_df.index],\n",
    "        vmin=21,\n",
    "        vmax=21.38,\n",
    "        cbar=True,\n",
    "        cbar_kws={\"label\": \"Validation Perplexity\"},\n",
    "    )  # PiYG\n",
    "    # plt.yticks(rotation=-90)\n",
    "    ax.set_yticklabels(heatmap_df.columns, rotation=0)\n",
    "    # ax.set_yticklabels(ax.get_yticklabels(), rotation=90)\n",
    "plt.show()"
   ]
  },
  {
   "cell_type": "code",
   "execution_count": 28,
   "metadata": {},
   "outputs": [],
   "source": [
    "# savefig(fig=fig.get_figure(), filename=\"norm_eps_vs_inputgate_bias_init\")"
   ]
  },
  {
   "cell_type": "code",
   "execution_count": null,
   "metadata": {},
   "outputs": [],
   "source": []
  }
 ],
 "metadata": {
  "kernelspec": {
   "display_name": "mlstmpt251cu124",
   "language": "python",
   "name": "python3"
  },
  "language_info": {
   "codemirror_mode": {
    "name": "ipython",
    "version": 3
   },
   "file_extension": ".py",
   "mimetype": "text/x-python",
   "name": "python",
   "nbconvert_exporter": "python",
   "pygments_lexer": "ipython3",
   "version": "3.11.11"
  }
 },
 "nbformat": 4,
 "nbformat_minor": 2
}
