{
 "cells": [
  {
   "cell_type": "code",
   "execution_count": 1,
   "metadata": {},
   "outputs": [],
   "source": [
    "%load_ext autoreload\n",
    "%autoreload 2\n",
    "import sys\n",
    "\n",
    "sys.path.append(\"../..\")\n",
    "\n",
    "import torch\n",
    "import numpy as np\n",
    "\n",
    "import matplotlib.pyplot as plt\n",
    "\n",
    "from mlstm_kernels.utils.analysis.transfer_behavior.plot_transfer_behavior import (\n",
    "    generate_before_after_norm_transfer_behavior_plot,\n",
    ")\n",
    "from plot_config import get_tb_plot_mpl_context, savefig"
   ]
  },
  {
   "cell_type": "code",
   "execution_count": null,
   "metadata": {},
   "outputs": [],
   "source": [
    "with get_tb_plot_mpl_context():\n",
    "    fig = generate_before_after_norm_transfer_behavior_plot(\n",
    "        mlstm_func_specifier=\"tb__mlstmsig--paper\",\n",
    "        norm_specifier=\"rms\",\n",
    "        metric_specifier=\"abs_max_mean-v\",\n",
    "        seq_len=512,\n",
    "        dhqk=128,\n",
    "        dhhv=128,\n",
    "        norm_eps=1e-6,\n",
    "        backend_eps=1e-6,\n",
    "        qkv_std=(1.0, 1.0, 1.0),\n",
    "        z_levels=np.linspace(0, 2, 100).tolist(),\n",
    "        igate_preact_offsets=np.linspace(-12, 8, 200).tolist(),\n",
    "        fgate_preact_offsets=np.linspace(-5, 12, 200).tolist(),\n",
    "        igate_preact_init_fn=torch.zeros,\n",
    "        fgate_preact_init_fn=torch.zeros,\n",
    "        dtype=torch.bfloat16,\n",
    "        device=torch.device(\"cuda\"),\n",
    "        fig_height=4,\n",
    "    )\n",
    "fig"
   ]
  },
  {
   "cell_type": "code",
   "execution_count": 3,
   "metadata": {},
   "outputs": [],
   "source": [
    "savefig(fig=fig, filename=\"transfer_behavior_main--mlstm_sig_paper\")"
   ]
  },
  {
   "cell_type": "code",
   "execution_count": null,
   "metadata": {},
   "outputs": [],
   "source": [
    "with get_tb_plot_mpl_context():\n",
    "    fig = generate_before_after_norm_transfer_behavior_plot(\n",
    "        mlstm_func_specifier=\"tb__mlstmexp--paper\",\n",
    "        norm_specifier=\"rms\",\n",
    "        metric_specifier=\"abs_max_mean-v\",\n",
    "        seq_len=512,\n",
    "        dhqk=128,\n",
    "        dhhv=128,\n",
    "        norm_eps=1e-6,\n",
    "        backend_eps=1e-6,\n",
    "        qkv_std=(1.0, 1.0, 1.0),\n",
    "        z_levels=np.linspace(0, 2, 100).tolist(),\n",
    "        igate_preact_offsets=np.linspace(-12, 8, 200).tolist(),\n",
    "        fgate_preact_offsets=np.linspace(-5, 12, 200).tolist(),\n",
    "        igate_preact_init_fn=torch.zeros,\n",
    "        fgate_preact_init_fn=torch.zeros,\n",
    "        dtype=torch.bfloat16,\n",
    "        device=torch.device(\"cuda\"),\n",
    "        fig_height=4,\n",
    "    )\n",
    "fig"
   ]
  },
  {
   "cell_type": "code",
   "execution_count": 5,
   "metadata": {},
   "outputs": [],
   "source": [
    "savefig(fig=fig, filename=\"transfer_behavior_main--mlstm_exp_paper\")"
   ]
  },
  {
   "cell_type": "code",
   "execution_count": null,
   "metadata": {},
   "outputs": [],
   "source": []
  }
 ],
 "metadata": {
  "kernelspec": {
   "display_name": "mlstmpt251cu124",
   "language": "python",
   "name": "python3"
  },
  "language_info": {
   "codemirror_mode": {
    "name": "ipython",
    "version": 3
   },
   "file_extension": ".py",
   "mimetype": "text/x-python",
   "name": "python",
   "nbconvert_exporter": "python",
   "pygments_lexer": "ipython3",
   "version": "3.11.11"
  }
 },
 "nbformat": 4,
 "nbformat_minor": 2
}
