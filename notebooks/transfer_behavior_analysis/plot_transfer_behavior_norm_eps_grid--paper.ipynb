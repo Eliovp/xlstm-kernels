{
 "cells": [
  {
   "cell_type": "code",
   "execution_count": 1,
   "metadata": {},
   "outputs": [],
   "source": [
    "%load_ext autoreload\n",
    "%autoreload 2\n",
    "import sys\n",
    "\n",
    "sys.path.append(\"../..\")\n",
    "\n",
    "import torch\n",
    "import numpy as np\n",
    "\n",
    "import matplotlib.pyplot as plt\n",
    "\n",
    "from mlstm_kernels.utils.analysis.transfer_behavior.plot_transfer_behavior import (\n",
    "    generate_generate_norm_eps_grid_transfer_behavior_plot,\n",
    ")\n",
    "from plot_config import get_tb_plot_mpl_context, savefig"
   ]
  },
  {
   "cell_type": "code",
   "execution_count": 2,
   "metadata": {},
   "outputs": [],
   "source": [
    "num_points = 200"
   ]
  },
  {
   "cell_type": "code",
   "execution_count": null,
   "metadata": {},
   "outputs": [],
   "source": [
    "with get_tb_plot_mpl_context():\n",
    "    fig = generate_generate_norm_eps_grid_transfer_behavior_plot(\n",
    "        mlstm_func_specifiers=[\"tb__mlstmsig--paper\"],\n",
    "        norm_epsilons=[1e-2, 1e-6, 1e-8],\n",
    "        norm_specifier=\"rms\",\n",
    "        metric_specifier=\"abs_max_mean-v\",\n",
    "        seq_len=512,\n",
    "        dhqk=128,\n",
    "        dhhv=128,\n",
    "        backend_eps=1e-6,\n",
    "        qkv_std=(1.0, 1.0, 1.0),\n",
    "        z_levels=np.linspace(0, 2, 100).tolist(),\n",
    "        igate_preact_offsets=np.linspace(-12, 8, num_points).tolist(),\n",
    "        fgate_preact_offsets=np.linspace(-5, 12, num_points).tolist(),\n",
    "        igate_preact_init_fn=torch.zeros,\n",
    "        fgate_preact_init_fn=torch.zeros,\n",
    "        dtype=torch.bfloat16,\n",
    "        device=torch.device(\"cuda\"),\n",
    "        colorbar_fraction=0.2,\n",
    "        fig_height=4,\n",
    "    )\n",
    "fig"
   ]
  },
  {
   "cell_type": "code",
   "execution_count": 4,
   "metadata": {},
   "outputs": [],
   "source": [
    "savefig(fig=fig, filename=\"transfer_behavior_app--mlstm_sig_paper\")"
   ]
  },
  {
   "cell_type": "code",
   "execution_count": null,
   "metadata": {},
   "outputs": [],
   "source": [
    "with get_tb_plot_mpl_context():\n",
    "    fig = generate_generate_norm_eps_grid_transfer_behavior_plot(\n",
    "        mlstm_func_specifiers=[\"tb__mlstmsig--max_sum_abs_1\"],\n",
    "        norm_epsilons=[1e-2, 1e-6, 1e-8],\n",
    "        norm_specifier=\"rms\",\n",
    "        metric_specifier=\"abs_max_mean-v\",\n",
    "        seq_len=512,\n",
    "        dhqk=128,\n",
    "        dhhv=128,\n",
    "        backend_eps=1e-6,\n",
    "        qkv_std=(1.0, 1.0, 1.0),\n",
    "        z_levels=np.linspace(0, 2, 100).tolist(),\n",
    "        igate_preact_offsets=np.linspace(-12, 8, num_points).tolist(),\n",
    "        fgate_preact_offsets=np.linspace(-5, 12, num_points).tolist(),\n",
    "        igate_preact_init_fn=torch.zeros,\n",
    "        fgate_preact_init_fn=torch.zeros,\n",
    "        dtype=torch.bfloat16,\n",
    "        device=torch.device(\"cuda\"),\n",
    "        colorbar_fraction=0.2,\n",
    "        fig_height=4,\n",
    "    )\n",
    "fig"
   ]
  },
  {
   "cell_type": "code",
   "execution_count": 6,
   "metadata": {},
   "outputs": [],
   "source": [
    "savefig(fig=fig, filename=\"transfer_behavior_app--mlstm_sig_max_sum_abs_1\")"
   ]
  },
  {
   "cell_type": "code",
   "execution_count": null,
   "metadata": {},
   "outputs": [],
   "source": [
    "with get_tb_plot_mpl_context():\n",
    "    fig = generate_generate_norm_eps_grid_transfer_behavior_plot(\n",
    "        mlstm_func_specifiers=[\"tb__mlstmsig--sum_abs\"],\n",
    "        norm_epsilons=[1e-2, 1e-6, 1e-8],\n",
    "        norm_specifier=\"rms\",\n",
    "        metric_specifier=\"abs_max_mean-v\",\n",
    "        seq_len=512,\n",
    "        dhqk=128,\n",
    "        dhhv=128,\n",
    "        backend_eps=1e-6,\n",
    "        qkv_std=(1.0, 1.0, 1.0),\n",
    "        z_levels=np.linspace(0, 6, 100).tolist(),\n",
    "        igate_preact_offsets=np.linspace(-12, 8, num_points).tolist(),\n",
    "        fgate_preact_offsets=np.linspace(-5, 12, num_points).tolist(),\n",
    "        igate_preact_init_fn=torch.zeros,\n",
    "        fgate_preact_init_fn=torch.zeros,\n",
    "        dtype=torch.bfloat16,\n",
    "        device=torch.device(\"cuda\"),\n",
    "        colorbar_fraction=0.2,\n",
    "        fig_height=4,\n",
    "    )\n",
    "fig"
   ]
  },
  {
   "cell_type": "code",
   "execution_count": 8,
   "metadata": {},
   "outputs": [],
   "source": [
    "savefig(fig=fig, filename=\"transfer_behavior_app--mlstm_sig_sum_abs\")"
   ]
  },
  {
   "cell_type": "code",
   "execution_count": null,
   "metadata": {},
   "outputs": [],
   "source": [
    "num_points = 200\n",
    "with get_tb_plot_mpl_context():\n",
    "    fig = generate_generate_norm_eps_grid_transfer_behavior_plot(\n",
    "        mlstm_func_specifiers=[\"tb__mlstmsig--sum\"],\n",
    "        norm_epsilons=[1e-2, 1e-6, 1e-8],\n",
    "        norm_specifier=\"rms\",\n",
    "        metric_specifier=\"abs_max_mean-v\",\n",
    "        seq_len=512,\n",
    "        dhqk=128,\n",
    "        dhhv=128,\n",
    "        backend_eps=1e-6,\n",
    "        qkv_std=(1.0, 1.0, 1.0),\n",
    "        z_levels=np.linspace(0, 6, 100).tolist(),\n",
    "        igate_preact_offsets=np.linspace(-12, 8, num_points).tolist(),\n",
    "        fgate_preact_offsets=np.linspace(-5, 12, num_points).tolist(),\n",
    "        igate_preact_init_fn=torch.zeros,\n",
    "        fgate_preact_init_fn=torch.zeros,\n",
    "        dtype=torch.bfloat16,\n",
    "        device=torch.device(\"cuda\"),\n",
    "        colorbar_fraction=0.2,\n",
    "        fig_height=4,\n",
    "    )\n",
    "fig"
   ]
  },
  {
   "cell_type": "code",
   "execution_count": 10,
   "metadata": {},
   "outputs": [],
   "source": [
    "savefig(fig=fig, filename=\"transfer_behavior_app--mlstm_sig_sum\")"
   ]
  },
  {
   "cell_type": "code",
   "execution_count": null,
   "metadata": {},
   "outputs": [],
   "source": [
    "with get_tb_plot_mpl_context():\n",
    "    fig = generate_generate_norm_eps_grid_transfer_behavior_plot(\n",
    "        mlstm_func_specifiers=[\"tb__mlstmexp--paper\"],\n",
    "        norm_epsilons=[1e-2, 1e-6, 1e-8],\n",
    "        norm_specifier=\"rms\",\n",
    "        metric_specifier=\"abs_max_mean-v\",\n",
    "        seq_len=512,\n",
    "        dhqk=128,\n",
    "        dhhv=128,\n",
    "        backend_eps=1e-6,\n",
    "        qkv_std=(1.0, 1.0, 1.0),\n",
    "        z_levels=np.linspace(0, 2, 100).tolist(),\n",
    "        igate_preact_offsets=np.linspace(-12, 8, num_points).tolist(),\n",
    "        fgate_preact_offsets=np.linspace(-5, 12, num_points).tolist(),\n",
    "        igate_preact_init_fn=torch.zeros,\n",
    "        fgate_preact_init_fn=torch.zeros,\n",
    "        dtype=torch.bfloat16,\n",
    "        device=torch.device(\"cuda\"),\n",
    "        colorbar_fraction=0.2,\n",
    "        fig_height=4,\n",
    "    )\n",
    "fig"
   ]
  },
  {
   "cell_type": "code",
   "execution_count": 12,
   "metadata": {},
   "outputs": [],
   "source": [
    "savefig(fig=fig, filename=\"transfer_behavior_app--mlstm_exp_paper\")"
   ]
  },
  {
   "cell_type": "code",
   "execution_count": null,
   "metadata": {},
   "outputs": [],
   "source": [
    "with get_tb_plot_mpl_context():\n",
    "    fig = generate_generate_norm_eps_grid_transfer_behavior_plot(\n",
    "        mlstm_func_specifiers=[\"tb__mlstmexp--max_sum_abs_1\"],\n",
    "        norm_epsilons=[1e-2, 1e-6, 1e-8],\n",
    "        norm_specifier=\"rms\",\n",
    "        metric_specifier=\"abs_max_mean-v\",\n",
    "        seq_len=512,\n",
    "        dhqk=128,\n",
    "        dhhv=128,\n",
    "        backend_eps=1e-6,\n",
    "        qkv_std=(1.0, 1.0, 1.0),\n",
    "        z_levels=np.linspace(0, 2, 100).tolist(),\n",
    "        igate_preact_offsets=np.linspace(-12, 8, num_points).tolist(),\n",
    "        fgate_preact_offsets=np.linspace(-5, 12, num_points).tolist(),\n",
    "        igate_preact_init_fn=torch.zeros,\n",
    "        fgate_preact_init_fn=torch.zeros,\n",
    "        dtype=torch.bfloat16,\n",
    "        device=torch.device(\"cuda\"),\n",
    "        colorbar_fraction=0.2,\n",
    "        fig_height=4,\n",
    "    )\n",
    "fig"
   ]
  },
  {
   "cell_type": "code",
   "execution_count": 14,
   "metadata": {},
   "outputs": [],
   "source": [
    "savefig(fig=fig, filename=\"transfer_behavior_app--mlstm_exp_max_sum_abs_1\")"
   ]
  },
  {
   "cell_type": "code",
   "execution_count": null,
   "metadata": {},
   "outputs": [],
   "source": [
    "with get_tb_plot_mpl_context():\n",
    "    fig = generate_generate_norm_eps_grid_transfer_behavior_plot(\n",
    "        mlstm_func_specifiers=[\"tb__mlstmexp--denom_one\"],\n",
    "        norm_epsilons=[1e-2, 1e-6, 1e-8],\n",
    "        norm_specifier=\"rms\",\n",
    "        metric_specifier=\"abs_max_mean-v\",\n",
    "        seq_len=512,\n",
    "        dhqk=128,\n",
    "        dhhv=128,\n",
    "        backend_eps=1e-6,\n",
    "        qkv_std=(1.0, 1.0, 1.0),\n",
    "        z_levels=np.linspace(0, 2, 100).tolist(),\n",
    "        igate_preact_offsets=np.linspace(-12, 8, num_points).tolist(),\n",
    "        fgate_preact_offsets=np.linspace(-5, 12, num_points).tolist(),\n",
    "        igate_preact_init_fn=torch.zeros,\n",
    "        fgate_preact_init_fn=torch.zeros,\n",
    "        dtype=torch.bfloat16,\n",
    "        device=torch.device(\"cuda\"),\n",
    "        colorbar_fraction=0.2,\n",
    "        fig_height=4,\n",
    "    )\n",
    "fig"
   ]
  },
  {
   "cell_type": "code",
   "execution_count": 16,
   "metadata": {},
   "outputs": [],
   "source": [
    "savefig(fig=fig, filename=\"transfer_behavior_app--mlstm_exp_denom_one\")"
   ]
  }
 ],
 "metadata": {
  "kernelspec": {
   "display_name": "mlstmpt251cu124",
   "language": "python",
   "name": "python3"
  },
  "language_info": {
   "codemirror_mode": {
    "name": "ipython",
    "version": 3
   },
   "file_extension": ".py",
   "mimetype": "text/x-python",
   "name": "python",
   "nbconvert_exporter": "python",
   "pygments_lexer": "ipython3",
   "version": "3.11.11"
  }
 },
 "nbformat": 4,
 "nbformat_minor": 2
}
