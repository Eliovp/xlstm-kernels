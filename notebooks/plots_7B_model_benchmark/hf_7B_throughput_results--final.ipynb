{
 "cells": [
  {
   "cell_type": "code",
   "execution_count": null,
   "metadata": {},
   "outputs": [],
   "source": [
    "%load_ext autoreload\n",
    "%autoreload 2\n",
    "import sys\n",
    "\n",
    "import pandas as pd\n",
    "\n",
    "sys.path.append(\"../..\")\n",
    "\n",
    "from mlstm_kernels.utils.benchmark.plot_results import (\n",
    "    plot_benchmark_result_table,\n",
    "    create_runtime_bar_plot,\n",
    "    rc_context_wrapper,\n",
    "    select_columns,\n",
    "    savefig\n",
    ")\n",
    "from pathlib import Path\n",
    "from plot_config import linestyle_mapping, style_dict\n",
    "import pickle"
   ]
  },
  {
   "cell_type": "code",
   "execution_count": null,
   "metadata": {},
   "outputs": [],
   "source": [
    "def load_throughput_results_for_ctxes(path_template: str, ctxes: list[int]):\n",
    "    results = {}\n",
    "    for ctx in ctxes:\n",
    "        path = Path(path_template.format(ctx=ctx))\n",
    "        df = pd.read_csv(path).filter(regex=\".*(batch_size|prefill|R--).*\")\n",
    "        results[ctx] = df\n",
    "    return results"
   ]
  },
  {
   "cell_type": "code",
   "execution_count": null,
   "metadata": {},
   "outputs": [],
   "source": [
    "llama_results = load_throughput_results_for_ctxes(\n",
    "    path_template=\"/home/beck/wdir/dev_repos/mlstm_kernels/outputs_kernel_benchmarks_final/2024-12-06_12-48-14__throughput__forward_llama_v0/hf_7B_throughput__pfl{ctx}_gl0_tcTrue_weightdtypebfloat16/results.csv\",\n",
    "    ctxes=[2048, 4096, 8192],\n",
    ")\n",
    "\n",
    "mamba_results = load_throughput_results_for_ctxes(\n",
    "    path_template=\"/home/beck/wdir/dev_repos/mlstm_kernels/outputs_kernel_benchmarks_final/2024-12-06_13-02-27__throughput__forward_mamba_v2/hf_7B_throughput__pfl{ctx}_gl0_tcTrue_weightdtypebfloat16/results.csv\",\n",
    "    ctxes=[2048, 4096, 8192],\n",
    ")\n",
    "\n",
    "mxlstm_results = load_throughput_results_for_ctxes(\n",
    "    path_template=\"/home/beck/wdir/dev_repos/mlstm_kernels/outputs_kernel_benchmarks_final/2024-12-06_12-46-45__throughput__forward_xlstm_v0/hf_7B_throughput__pfl{ctx}_gl0_tcTrue_weightdtypebfloat16/results.csv\",\n",
    "    ctxes=[2048, 4096, 8192],\n",
    ")"
   ]
  },
  {
   "cell_type": "code",
   "execution_count": null,
   "metadata": {},
   "outputs": [],
   "source": [
    "mamba_results[8192]"
   ]
  },
  {
   "cell_type": "code",
   "execution_count": null,
   "metadata": {},
   "outputs": [],
   "source": [
    "# collect all results sorted by context\n",
    "result_dicts = [\n",
    "    llama_results,\n",
    "    mamba_results,\n",
    "    mxlstm_results,\n",
    "]\n",
    "combined_raw_data = {}\n",
    "for ctx in [2048, 4096, 8192]:\n",
    "    ctx_df = pd.concat([rd[ctx] for rd in result_dicts], axis=1)\n",
    "    # select batch size only once\n",
    "    ctx_df = pd.concat(\n",
    "        [\n",
    "            ctx_df.filter(regex=\"batch_size\").take([0], axis=1),\n",
    "            ctx_df.filter(regex=\"prefill\").take([0], axis=1),\n",
    "            ctx_df.filter(regex=\".*R--.*\"),\n",
    "        ],\n",
    "        axis=1,\n",
    "    )\n",
    "    combined_raw_data[ctx] = ctx_df"
   ]
  },
  {
   "cell_type": "code",
   "execution_count": null,
   "metadata": {},
   "outputs": [],
   "source": [
    "with open(\"throughput_data.p\", \"wb\") as f:\n",
    "    pickle.dump(combined_raw_data, f)\n",
    "\n",
    "for k, v in combined_raw_data.items():\n",
    "    v.to_csv(f\"raw_data_throughput_{k}.csv\")"
   ]
  },
  {
   "cell_type": "code",
   "execution_count": null,
   "metadata": {},
   "outputs": [],
   "source": [
    "with open(\"throughput_data.p\", \"rb\") as f:\n",
    "    combined_raw_data = pickle.load(f)"
   ]
  },
  {
   "cell_type": "code",
   "execution_count": null,
   "metadata": {},
   "outputs": [],
   "source": [
    "def compute_throughput_tokens_per_sec(raw_data_dict: dict[str, pd.DataFrame]):\n",
    "    throughput_dict = {}\n",
    "    for ctx, df in raw_data_dict.items():\n",
    "        batch_size_col = df.filter(regex=\"batch_size\").take([0], axis=1)\n",
    "        prefill_col = df.filter(regex=\"prefill\").take([0], axis=1)\n",
    "        tokens_per_sec_df = (\n",
    "            ctx * batch_size_col.values / (df.filter(regex=\".*R--.*\") / 1000)\n",
    "        )\n",
    "        throughput_dict[ctx] = pd.concat(\n",
    "            [batch_size_col, prefill_col, tokens_per_sec_df], axis=1\n",
    "        )\n",
    "    return throughput_dict"
   ]
  },
  {
   "cell_type": "code",
   "execution_count": null,
   "metadata": {},
   "outputs": [],
   "source": [
    "throughput_data = compute_throughput_tokens_per_sec(combined_raw_data)"
   ]
  },
  {
   "cell_type": "code",
   "execution_count": null,
   "metadata": {},
   "outputs": [],
   "source": [
    "throughput_data[2048]"
   ]
  },
  {
   "cell_type": "code",
   "execution_count": null,
   "metadata": {},
   "outputs": [],
   "source": [
    "throughput_data[4096]"
   ]
  },
  {
   "cell_type": "code",
   "execution_count": null,
   "metadata": {},
   "outputs": [],
   "source": [
    "throughput_data[8192]"
   ]
  },
  {
   "cell_type": "code",
   "execution_count": null,
   "metadata": {},
   "outputs": [],
   "source": [
    "throughput_8192 = throughput_data[8192].loc[\n",
    "    throughput_data[8192][\"P--batch_size\"] == 8.0\n",
    "]"
   ]
  },
  {
   "cell_type": "code",
   "execution_count": null,
   "metadata": {},
   "outputs": [],
   "source": [
    "throughput_4096 = throughput_data[4096].loc[\n",
    "    throughput_data[4096][\"P--batch_size\"] == 16.0\n",
    "]"
   ]
  },
  {
   "cell_type": "code",
   "execution_count": null,
   "metadata": {},
   "outputs": [],
   "source": [
    "throughput_2048 = throughput_data[2048].loc[\n",
    "    throughput_data[2048][\"P--batch_size\"] == 32.0\n",
    "]"
   ]
  },
  {
   "cell_type": "code",
   "execution_count": null,
   "metadata": {},
   "outputs": [],
   "source": [
    "throughput_df = pd.concat([throughput_2048, throughput_4096, throughput_8192])"
   ]
  },
  {
   "cell_type": "code",
   "execution_count": null,
   "metadata": {},
   "outputs": [],
   "source": [
    "throughput_df"
   ]
  },
  {
   "cell_type": "markdown",
   "metadata": {},
   "source": [
    "## Plotting the raw data"
   ]
  },
  {
   "cell_type": "code",
   "execution_count": null,
   "metadata": {},
   "outputs": [],
   "source": [
    "column_name_mapping = {\n",
    "    \"P--batch_size\": \"Batch Size\",\n",
    "    \"P--prefill_length\": \"Context Length\",\n",
    "    \"R--llama2__tcm__ampdt-bfloat16__wdt-bfloat16__ucgg-False_ucgm-False\": \"llama2\",\n",
    "    \"R--llama3__tcm__ampdt-bfloat16__wdt-bfloat16__ucgg-False_ucgm-False\": \"llama3\",\n",
    "    \"R--codestral_mamba__ampdt-bfloat16__wdt-bfloat16__ucgg-True_ucgm-False\": \"codestral_mamba\",\n",
    "    \"R--falcon_mamba__ampdt-bfloat16__wdt-bfloat16__ucgg-True_ucgm-False\": \"falcon_mamba\",\n",
    "    \"R--xlstm__tcm__ampdt-bfloat16__wdt-bfloat16__ucgg-True_ucgm-False_isd-bfloat16_ed-4096_nh-8_nb-32_vs-50304_wm-fused_ck-chunkwise--triton_xl_chunk_sk-native_sequence__triton_step_fused_sk-triton_fused_cs-128_akd-bfloat16\": \"xlstm\",\n",
    "}"
   ]
  },
  {
   "cell_type": "code",
   "execution_count": null,
   "metadata": {},
   "outputs": [],
   "source": [
    "throughput_df.columns"
   ]
  },
  {
   "cell_type": "code",
   "execution_count": null,
   "metadata": {},
   "outputs": [],
   "source": [
    "new_col_names = [column_name_mapping.get(col, col) for col in throughput_df.columns]\n",
    "throughput_df.columns = new_col_names"
   ]
  },
  {
   "cell_type": "code",
   "execution_count": null,
   "metadata": {},
   "outputs": [],
   "source": [
    "plot_throughput_df = throughput_df.round(0).astype(int)\n",
    "plot_throughput_df"
   ]
  },
  {
   "cell_type": "code",
   "execution_count": null,
   "metadata": {},
   "outputs": [],
   "source": [
    "fig = rc_context_wrapper(func=create_runtime_bar_plot,\n",
    "    data_df=plot_throughput_df,\n",
    "    group_col_names=[\"Batch Size\", \"Context Length\"],\n",
    "    style_dict=style_dict,\n",
    "    figsize=(1.5 * 12 * 1 / 2.54, 1.5 * 8 * 1 / 2.54),\n",
    "    y_label=\"Tokens per Second\"\n",
    ")"
   ]
  },
  {
   "cell_type": "code",
   "execution_count": null,
   "metadata": {},
   "outputs": [],
   "source": [
    "savefig(fig, \"throughput\")"
   ]
  },
  {
   "cell_type": "code",
   "execution_count": null,
   "metadata": {},
   "outputs": [],
   "source": []
  }
 ],
 "metadata": {
  "kernelspec": {
   "display_name": "xlstmpt240cu124",
   "language": "python",
   "name": "python3"
  },
  "language_info": {
   "codemirror_mode": {
    "name": "ipython",
    "version": 3
   },
   "file_extension": ".py",
   "mimetype": "text/x-python",
   "name": "python",
   "nbconvert_exporter": "python",
   "pygments_lexer": "ipython3",
   "version": "3.11.9"
  }
 },
 "nbformat": 4,
 "nbformat_minor": 2
}
