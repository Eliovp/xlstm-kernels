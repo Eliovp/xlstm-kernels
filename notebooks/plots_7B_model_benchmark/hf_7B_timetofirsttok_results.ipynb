{
 "cells": [
  {
   "cell_type": "code",
   "execution_count": null,
   "metadata": {},
   "outputs": [],
   "source": [
    "%load_ext autoreload\n",
    "%autoreload 2\n",
    "import sys\n",
    "\n",
    "import pandas as pd\n",
    "\n",
    "sys.path.append(\"../..\")\n",
    "\n",
    "from mlstm_kernels.utils.benchmark.plot_results import plot_benchmark_result_table\n",
    "from pathlib import Path\n",
    "from plot_config import linestyle_mapping, style_dict"
   ]
  },
  {
   "cell_type": "code",
   "execution_count": null,
   "metadata": {},
   "outputs": [],
   "source": [
    "mlstm_simple_res_df = pd.read_csv(\n",
    "    \"/home/beck/wdir/dev_repos/mlstm_kernels/outputs_kernel_benchmarks/2024-12-01_16-48-37__ttft_mlstm_simple__tc_abl/mlstm_simple_7B_timtofirsttok__bs1_gl100_weightdtypebfloat16/results.csv\"\n",
    ")"
   ]
  },
  {
   "cell_type": "code",
   "execution_count": null,
   "metadata": {},
   "outputs": [],
   "source": [
    "mlstm_simple_res_df"
   ]
  },
  {
   "cell_type": "code",
   "execution_count": null,
   "metadata": {},
   "outputs": [],
   "source": [
    "mlstm_simple_res_df.filter(regex=\".*R--.*\")"
   ]
  },
  {
   "cell_type": "code",
   "execution_count": null,
   "metadata": {},
   "outputs": [],
   "source": [
    "100 / (mlstm_simple_res_df.filter(regex=\".*R--.*\") / 1000)"
   ]
  },
  {
   "cell_type": "markdown",
   "metadata": {},
   "source": [
    "# 7B time to first token -> tokens per second"
   ]
  },
  {
   "cell_type": "code",
   "execution_count": null,
   "metadata": {},
   "outputs": [],
   "source": [
    "# bs1 gl100"
   ]
  },
  {
   "cell_type": "code",
   "execution_count": null,
   "metadata": {},
   "outputs": [],
   "source": [
    "bs1_gl100_res_df = pd.read_csv(\n",
    "    \"/home/beck/wdir/dev_repos/mlstm_kernels/outputs_kernel_benchmarks/2024-12-01_18-49-34__ttft__timetofirsttoken_final_v2/hf_7B_timtofirsttok__bs1_gl100_tcTrue_weightdtypebfloat16/results.csv\"\n",
    ")\n",
    "bs1_gl1_res_df = pd.read_csv(\n",
    "    \"/home/beck/wdir/dev_repos/mlstm_kernels/outputs_kernel_benchmarks/2024-12-01_18-49-34__ttft__timetofirsttoken_final_v2/hf_7B_timtofirsttok__bs1_gl1_tcTrue_weightdtypebfloat16/results.csv\"\n",
    ")"
   ]
  },
  {
   "cell_type": "markdown",
   "metadata": {},
   "source": [
    "## Time to first X Tokens"
   ]
  },
  {
   "cell_type": "markdown",
   "metadata": {},
   "source": [
    "### Generation Length 100"
   ]
  },
  {
   "cell_type": "code",
   "execution_count": null,
   "metadata": {},
   "outputs": [],
   "source": [
    "raw_data_df = bs1_gl100_res_df.filter(regex=\".*prefill.*|.*R--.*\")"
   ]
  },
  {
   "cell_type": "code",
   "execution_count": null,
   "metadata": {},
   "outputs": [],
   "source": [
    "# view raw data\n",
    "raw_data_df.T"
   ]
  },
  {
   "cell_type": "code",
   "execution_count": null,
   "metadata": {},
   "outputs": [],
   "source": [
    "fig = plot_benchmark_result_table(\n",
    "    raw_data_df,\n",
    "    x_axis_param=\"prefill_length\",\n",
    "    linestyle_mapping=linestyle_mapping,\n",
    "    style_dict=style_dict,\n",
    "    style_dict_colname_mapping_exact=False,\n",
    "    y_label=\"Time [ms]\",\n",
    "    title=\"Time to generate 100 tokens, for varying prefill lengths\",\n",
    ")"
   ]
  },
  {
   "cell_type": "markdown",
   "metadata": {},
   "source": [
    "### Generation Length 1"
   ]
  },
  {
   "cell_type": "code",
   "execution_count": null,
   "metadata": {},
   "outputs": [],
   "source": [
    "raw_data_df = bs1_gl1_res_df.filter(regex=\".*prefill.*|.*R--.*\")"
   ]
  },
  {
   "cell_type": "code",
   "execution_count": null,
   "metadata": {},
   "outputs": [],
   "source": [
    "# view raw data\n",
    "raw_data_df.T"
   ]
  },
  {
   "cell_type": "code",
   "execution_count": null,
   "metadata": {},
   "outputs": [],
   "source": [
    "fig = plot_benchmark_result_table(\n",
    "    raw_data_df,\n",
    "    x_axis_param=\"prefill_length\",\n",
    "    linestyle_mapping=linestyle_mapping,\n",
    "    style_dict=style_dict,\n",
    "    style_dict_colname_mapping_exact=False,\n",
    "    y_label=\"Time [ms]\",\n",
    "    title=\"Time to generate 1 token, for varying prefill lengths\",\n",
    ")"
   ]
  },
  {
   "cell_type": "markdown",
   "metadata": {},
   "source": [
    "## Tokens per sec"
   ]
  },
  {
   "cell_type": "code",
   "execution_count": null,
   "metadata": {},
   "outputs": [],
   "source": [
    "gl100_raw_df = bs1_gl100_res_df.filter(regex=\".*R--.*\")\n",
    "gl1_raw_df = bs1_gl1_res_df.filter(regex=\".*R--.*\")"
   ]
  },
  {
   "cell_type": "code",
   "execution_count": null,
   "metadata": {},
   "outputs": [],
   "source": [
    "generation_length = 99"
   ]
  },
  {
   "cell_type": "code",
   "execution_count": null,
   "metadata": {},
   "outputs": [],
   "source": [
    "tokens_per_sec_data_df = generation_length / ((gl100_raw_df - gl1_raw_df) / 1000)"
   ]
  },
  {
   "cell_type": "code",
   "execution_count": null,
   "metadata": {},
   "outputs": [],
   "source": [
    "tokens_per_sec_data_df = pd.concat(\n",
    "    [bs1_gl100_res_df.filter(regex=\".*P--prefill.*\"), tokens_per_sec_data_df], axis=1\n",
    ")"
   ]
  },
  {
   "cell_type": "code",
   "execution_count": null,
   "metadata": {},
   "outputs": [],
   "source": [
    "time_dureaction_df = pd.concat(\n",
    "    [bs1_gl100_res_df.filter(regex=\".*P--prefill.*\"), gl100_raw_df - gl1_raw_df], axis=1\n",
    ")"
   ]
  },
  {
   "cell_type": "code",
   "execution_count": null,
   "metadata": {},
   "outputs": [],
   "source": [
    "fig = plot_benchmark_result_table(\n",
    "    time_dureaction_df,\n",
    "    x_axis_param=\"prefill_length\",\n",
    "    linestyle_mapping=linestyle_mapping,\n",
    "    style_dict=style_dict,\n",
    "    style_dict_colname_mapping_exact=False,\n",
    "    y_label=\"Time [ms]\",\n",
    "    title=\"Tokens per second during generation of 100 tokens after consuming varying prefill lengths (bs1 gl100)\",\n",
    ")"
   ]
  },
  {
   "cell_type": "code",
   "execution_count": null,
   "metadata": {},
   "outputs": [],
   "source": [
    "tokens_per_sec_data_df"
   ]
  },
  {
   "cell_type": "code",
   "execution_count": null,
   "metadata": {},
   "outputs": [],
   "source": [
    "fig = plot_benchmark_result_table(\n",
    "    tokens_per_sec_data_df,\n",
    "    x_axis_param=\"prefill_length\",\n",
    "    linestyle_mapping=linestyle_mapping,\n",
    "    style_dict=style_dict,\n",
    "    style_dict_colname_mapping_exact=False,\n",
    "    y_label=\"Tokens per second\",\n",
    "    title=\"Tokens per second during generation of 100 tokens after consuming varying prefill lengths (bs1 gl100)\",\n",
    ")"
   ]
  },
  {
   "cell_type": "code",
   "execution_count": null,
   "metadata": {},
   "outputs": [],
   "source": []
  }
 ],
 "metadata": {
  "kernelspec": {
   "display_name": "xlstm_speed",
   "language": "python",
   "name": "python3"
  },
  "language_info": {
   "codemirror_mode": {
    "name": "ipython",
    "version": 3
   },
   "file_extension": ".py",
   "mimetype": "text/x-python",
   "name": "python",
   "nbconvert_exporter": "python",
   "pygments_lexer": "ipython3",
   "version": "3.11.10"
  }
 },
 "nbformat": 4,
 "nbformat_minor": 2
}
