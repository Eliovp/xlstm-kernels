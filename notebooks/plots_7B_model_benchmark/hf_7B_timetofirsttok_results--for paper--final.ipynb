{
 "cells": [
  {
   "cell_type": "code",
   "execution_count": null,
   "metadata": {},
   "outputs": [],
   "source": [
    "%load_ext autoreload\n",
    "%autoreload 2\n",
    "%matplotlib inline\n",
    "import sys\n",
    "\n",
    "sys.path.append(\"../..\")\n",
    "sys.path.append(\".\")\n",
    "\n",
    "from plot_results_for_paper import (\n",
    "    plot_benchmark_result_table,\n",
    "    plot_combined_benchmark_result_table,\n",
    "    rc_context_wrapper,\n",
    "    rc_context_wrapper_quarter_col_plot,\n",
    "    select_columns,\n",
    ")\n",
    "from pathlib import Path\n",
    "from plot_config_for_paper import linestyle_mapping, style_dict\n",
    "import pickle\n",
    "\n",
    "import matplotlib.pyplot as plt\n",
    "\n",
    "from plot_config_for_paper import FIGSIZE, FIGSIZE_2COL"
   ]
  },
  {
   "cell_type": "code",
   "execution_count": 2,
   "metadata": {},
   "outputs": [],
   "source": [
    "with open(\"ttft_raw_data.p\", \"rb\") as f:\n",
    "    raw_data = pickle.load(f)\n",
    "\n",
    "ttft_1_df = raw_data[\"ttft_1\"]\n",
    "ttft_100_df = raw_data[\"ttft_100\"]\n",
    "token_per_sec_df = raw_data[\"token_per_sec\"]"
   ]
  },
  {
   "cell_type": "markdown",
   "metadata": {},
   "source": [
    "## Final Plots - All results"
   ]
  },
  {
   "cell_type": "code",
   "execution_count": 3,
   "metadata": {},
   "outputs": [],
   "source": [
    "selected_columns = {\n",
    "    \"llama3\": \"R--llama3__tcm__ampdt-bfloat16__wdt-bfloat16__ucgg-True_ucgm-False\",\n",
    "    \"llama2\": \"R--llama2__tcm__ampdt-bfloat16__wdt-bfloat16__ucgg-True_ucgm-False\",\n",
    "    \"falcon_mamba\": \"R--falcon_mamba__ampdt-bfloat16__wdt-bfloat16__ucgg-True_ucgm-False\",\n",
    "    \"codestral_mamba\": \"R--codestral_mamba__ampdt-bfloat16__wdt-bfloat16__ucgg-True_ucgm-False\",\n",
    "    \"xlstm\": \"R--xlstm__tcm__ampdt-bfloat16__wdt-bfloat16__ucgg-True_ucgm-False_isd-bfloat16_ed-4096_nh-8_nb-32_vs-50304_wm-fused_ck-chunkwise--triton_xl_chunk_sk-native_sequence__triton_step_fused_sk-triton_fused_cs-128_akd-bfloat16\",\n",
    "}\n",
    "filename_suffix = \"\"\n",
    "add_legend = True"
   ]
  },
  {
   "cell_type": "code",
   "execution_count": 4,
   "metadata": {},
   "outputs": [],
   "source": [
    "ttft_1_plot_df = select_columns(\n",
    "    ttft_1_df, selected_columns, keep_col_regex=\".*prefill.*\"\n",
    ")"
   ]
  },
  {
   "cell_type": "code",
   "execution_count": 5,
   "metadata": {},
   "outputs": [],
   "source": [
    "ttft_100_plot_df = select_columns(\n",
    "    ttft_100_df, selected_columns, keep_col_regex=\".*prefill.*\"\n",
    ")"
   ]
  },
  {
   "cell_type": "code",
   "execution_count": null,
   "metadata": {},
   "outputs": [],
   "source": [
    "FIGSIZE_2COL"
   ]
  },
  {
   "cell_type": "markdown",
   "metadata": {},
   "source": [
    "First, create the legend"
   ]
  },
  {
   "cell_type": "code",
   "execution_count": null,
   "metadata": {},
   "outputs": [],
   "source": [
    "# Create common legend for plots\n",
    "\n",
    "fig = rc_context_wrapper(\n",
    "    func=plot_combined_benchmark_result_table,\n",
    "    result_dfs=[ttft_1_plot_df, ttft_100_plot_df],\n",
    "    x_axis_param=\"prefill_length\",\n",
    "    # linestyle_mapping=linestyle_mapping,\n",
    "    style_dict=style_dict,\n",
    "    style_dict_colname_mapping_exact=False,\n",
    "    y_labels=[\"Time to First Token [ms]\", \"Time to First 100 Tokens [ms]\"],\n",
    "    x_label=\"Prefill Length\",\n",
    "    title=\"\",  # \"Time to generate 1 tokens, for varying prefill lengths\",\n",
    "    figsize=FIGSIZE_2COL,  # (1.3 * 12 * 2.1 / 2.54, 1.5 * 8 * 1 / 2.54),\n",
    "    filename=f\"legend{filename_suffix}\",  # f\"paper-combined_timetofirsttoken_1_and_100_tokens{filename_suffix}\",\n",
    "    add_legend=add_legend,\n",
    "    legend_only=True,\n",
    "    legend_args={\n",
    "        \"loc\": \"lower center\",\n",
    "        \"ncol\": 5,\n",
    "        \"bbox_to_anchor\": (0.0, 0.90, 1.0, 0.502),\n",
    "        \"frameon\": False,\n",
    "        \"facecolor\": \"white\",\n",
    "    },\n",
    ")\n",
    "plt.show()"
   ]
  },
  {
   "cell_type": "code",
   "execution_count": null,
   "metadata": {},
   "outputs": [],
   "source": [
    "fig = rc_context_wrapper(\n",
    "    func=plot_combined_benchmark_result_table,\n",
    "    result_dfs=[ttft_1_plot_df, ttft_100_plot_df],\n",
    "    x_axis_param=\"prefill_length\",\n",
    "    # linestyle_mapping=linestyle_mapping,\n",
    "    style_dict=style_dict,\n",
    "    style_dict_colname_mapping_exact=False,\n",
    "    y_labels=[\"Time to First Token [ms]\", \"Time to First 100 Tokens [ms]\"],\n",
    "    x_label=\"Prefill Length\",\n",
    "    title=\"\",  # \"Time to generate 1 tokens, for varying prefill lengths\",\n",
    "    figsize=FIGSIZE_2COL,  # (1.3 * 12 * 2.1 / 2.54, 1.5 * 8 * 1 / 2.54),\n",
    "    filename=None,  # f\"paper-combined_timetofirsttoken_1_and_100_tokens{filename_suffix}\",\n",
    "    add_legend=add_legend,\n",
    "    legend_args={\n",
    "        \"loc\": \"lower center\",\n",
    "        \"ncol\": 5,\n",
    "        \"bbox_to_anchor\": (0.0, 0.90, 1.0, 0.502),\n",
    "        \"frameon\": False,\n",
    "        \"facecolor\": \"white\",\n",
    "    },\n",
    ")\n",
    "plt.show()"
   ]
  },
  {
   "cell_type": "code",
   "execution_count": null,
   "metadata": {},
   "outputs": [],
   "source": []
  },
  {
   "cell_type": "code",
   "execution_count": 9,
   "metadata": {},
   "outputs": [],
   "source": [
    "token_per_sec_plot_df = select_columns(\n",
    "    token_per_sec_df, selected_columns, keep_col_regex=\".*prefill.*\"\n",
    ")"
   ]
  },
  {
   "cell_type": "code",
   "execution_count": null,
   "metadata": {},
   "outputs": [],
   "source": [
    "FIGSIZE"
   ]
  },
  {
   "cell_type": "code",
   "execution_count": null,
   "metadata": {},
   "outputs": [],
   "source": [
    "fig = rc_context_wrapper_quarter_col_plot(\n",
    "    func=plot_benchmark_result_table,\n",
    "    result_df=token_per_sec_plot_df,\n",
    "    x_axis_param=\"prefill_length\",\n",
    "    # linestyle_mapping=linestyle_mapping,\n",
    "    style_dict=style_dict,\n",
    "    style_dict_colname_mapping_exact=False,\n",
    "    y_label=\"Tokens per Second\",\n",
    "    title=\"\",  # \"Tokens per second during generation of 100 tokens after consuming varying prefill lengths (bs1 gl100)\",\n",
    "    x_label=\"Prefill Length\",\n",
    "    figsize=FIGSIZE,\n",
    "    filename=f\"paper-timetofirsttoken_tokens_per_sec{filename_suffix}\",\n",
    "    add_legend=None,  # add_legend,\n",
    "    legend_args={\n",
    "        \"loc\": \"lower center\",\n",
    "        \"ncol\": 3,\n",
    "        \"bbox_to_anchor\": (-0.04, 1.02, 1.0, 0.502),\n",
    "        \"frameon\": False,\n",
    "        \"facecolor\": \"white\",\n",
    "    },\n",
    ")\n",
    "plt.show()"
   ]
  },
  {
   "cell_type": "code",
   "execution_count": null,
   "metadata": {},
   "outputs": [],
   "source": []
  },
  {
   "cell_type": "code",
   "execution_count": 12,
   "metadata": {},
   "outputs": [],
   "source": [
    "# selected_columns = {\n",
    "#     \"llama3\": \"R--llama3__tcm__ampdt-bfloat16__wdt-bfloat16__ucgg-True_ucgm-False\",\n",
    "#     # \"llama2\": \"R--llama2__tcm__ampdt-bfloat16__wdt-bfloat16__ucgg-True_ucgm-False\",\n",
    "#     # \"falcon_mamba\": \"R--falcon_mamba__ampdt-bfloat16__wdt-bfloat16__ucgg-True_ucgm-False\",\n",
    "#     \"codestral_mamba\": \"R--codestral_mamba__ampdt-bfloat16__wdt-bfloat16__ucgg-True_ucgm-False\",\n",
    "#     \"xlstm\": \"R--xlstm__tcm__ampdt-bfloat16__wdt-bfloat16__ucgg-True_ucgm-False_isd-bfloat16_ed-4096_nh-8_nb-32_vs-50304_wm-fused_ck-chunkwise--triton_xl_chunk_sk-native_sequence__triton_step_fused_sk-triton_fused_cs-128_akd-bfloat16\",\n",
    "# }\n",
    "# filename_suffix = \"only_3\""
   ]
  },
  {
   "cell_type": "code",
   "execution_count": 13,
   "metadata": {},
   "outputs": [],
   "source": [
    "# ttft_1_plot_df = select_columns(\n",
    "#     ttft_1_df, selected_columns, keep_col_regex=\".*prefill.*\"\n",
    "# )"
   ]
  },
  {
   "cell_type": "code",
   "execution_count": 14,
   "metadata": {},
   "outputs": [],
   "source": [
    "# fig = rc_context_wrapper(\n",
    "#     func=plot_benchmark_result_table,\n",
    "#     result_df=ttft_1_plot_df,\n",
    "#     x_axis_param=\"prefill_length\",\n",
    "#     # linestyle_mapping=linestyle_mapping,\n",
    "#     style_dict=style_dict,\n",
    "#     style_dict_colname_mapping_exact=False,\n",
    "#     y_label=\"Time to First Token [ms]\",\n",
    "#     x_label=\"Prefill Length\",\n",
    "#     title=\"\",  # \"Time to generate 1 tokens, for varying prefill lengths\",\n",
    "#     figsize=(1.5 * 12 * 1 / 2.54, 1.5 * 8 * 1 / 2.54),\n",
    "#     filename=f\"timetofirsttoken_1_tokens{filename_suffix}\",\n",
    "#     add_legend=add_legend,\n",
    "# )"
   ]
  },
  {
   "cell_type": "code",
   "execution_count": 15,
   "metadata": {},
   "outputs": [],
   "source": [
    "# ttft_100_plot_df = select_columns(\n",
    "#     ttft_100_df, selected_columns, keep_col_regex=\".*prefill.*\"\n",
    "# )"
   ]
  },
  {
   "cell_type": "code",
   "execution_count": 16,
   "metadata": {},
   "outputs": [],
   "source": [
    "# fig = rc_context_wrapper(\n",
    "#     func=plot_benchmark_result_table,\n",
    "#     result_df=ttft_100_plot_df,\n",
    "#     x_axis_param=\"prefill_length\",\n",
    "#     # linestyle_mapping=linestyle_mapping,\n",
    "#     style_dict=style_dict,\n",
    "#     style_dict_colname_mapping_exact=False,\n",
    "#     y_label=\"Time to First 100 Token [ms]\",\n",
    "#     x_label=\"Prefill Length\",\n",
    "#     title=\"\",  # \"Time to generate 100 tokens, for varying prefill lengths\",\n",
    "#     figsize=(1.5 * 12 * 1 / 2.54, 1.5 * 8 * 1 / 2.54),\n",
    "#     filename=f\"timetofirsttoken_100_tokens_prefill_length{filename_suffix}\",\n",
    "#     add_legend=add_legend,\n",
    "# )"
   ]
  },
  {
   "cell_type": "code",
   "execution_count": 17,
   "metadata": {},
   "outputs": [],
   "source": [
    "# token_per_sec_plot_df = select_columns(\n",
    "#     token_per_sec_df, selected_columns, keep_col_regex=\".*prefill.*\"\n",
    "# )"
   ]
  },
  {
   "cell_type": "code",
   "execution_count": 18,
   "metadata": {},
   "outputs": [],
   "source": [
    "# fig = rc_context_wrapper(\n",
    "#     func=plot_benchmark_result_table,\n",
    "#     result_df=token_per_sec_plot_df,\n",
    "#     x_axis_param=\"prefill_length\",\n",
    "#     # linestyle_mapping=linestyle_mapping,\n",
    "#     style_dict=style_dict,\n",
    "#     style_dict_colname_mapping_exact=False,\n",
    "#     y_label=\"Tokens per Second\",\n",
    "#     title=\"\",  # \"Tokens per second during generation of 100 tokens after consuming varying prefill lengths (bs1 gl100)\",\n",
    "#     x_label=\"Prefill Length\",\n",
    "#     figsize=(1.5 * 12 * 1 / 2.54, 1.5 * 8 * 1 / 2.54),\n",
    "#     filename=f\"timetofirsttoken_tokens_per_sec{filename_suffix}\",\n",
    "#     add_legend=add_legend,\n",
    "# )"
   ]
  }
 ],
 "metadata": {
  "kernelspec": {
   "display_name": "mlstmpt251cu124",
   "language": "python",
   "name": "python3"
  },
  "language_info": {
   "codemirror_mode": {
    "name": "ipython",
    "version": 3
   },
   "file_extension": ".py",
   "mimetype": "text/x-python",
   "name": "python",
   "nbconvert_exporter": "python",
   "pygments_lexer": "ipython3",
   "version": "3.11.11"
  }
 },
 "nbformat": 4,
 "nbformat_minor": 2
}
