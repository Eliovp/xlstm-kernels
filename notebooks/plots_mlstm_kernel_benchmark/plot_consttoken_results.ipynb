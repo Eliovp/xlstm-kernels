{
 "cells": [
  {
   "cell_type": "code",
   "execution_count": null,
   "metadata": {},
   "outputs": [],
   "source": [
    "%load_ext autoreload\n",
    "%autoreload 2\n",
    "import torch\n",
    "import pandas as pd\n",
    "import matplotlib as mpl\n",
    "import matplotlib.pyplot as plt\n",
    "import numpy as np\n",
    "from pathlib import Path\n",
    "import pickle"
   ]
  },
  {
   "cell_type": "code",
   "execution_count": null,
   "metadata": {},
   "outputs": [],
   "source": [
    "\n",
    "from mlstm_kernels.utils.benchmark.plot_results import plot_runtime_results, plot_runtime_results_fwbw\n",
    "from plot_config import (\n",
    "    col_order_fwbw,\n",
    "    col_order_fw,\n",
    "    legend_order,\n",
    "    style_dict, \n",
    ")"
   ]
  },
  {
   "cell_type": "code",
   "execution_count": null,
   "metadata": {},
   "outputs": [],
   "source": [
    "DATA_PATH = Path(\"../../outputs_kernel_benchmarks\")\n",
    "DATA_FILE_CONSTTOK_HD512 = DATA_PATH / \"2024-12-07_09-33-26__consttoken_pt251/constant_tokens_sequence_fw/results.csv\"\n",
    "DATA_FILE_CONSTTOK_HD512_FW = DATA_PATH / \"2024-12-07_09-33-26__consttoken_pt251/constant_tokens_sequence_fw/results.csv\"\n",
    "\n",
    "# consttok_res_hd512_df = pd.read_csv(DATA_FILE_CONSTTOK_HD512)\n",
    "# consttok_res_hd512_fw_df = pd.read_csv(DATA_FILE_CONSTTOK_HD512_FW)\n"
   ]
  },
  {
   "cell_type": "code",
   "execution_count": null,
   "metadata": {},
   "outputs": [],
   "source": [
    "\n",
    "\n",
    "# plot_data = {\"consttok_res_hd512_df\": consttok_res_hd512_df, \"consttok_res_hd512_fw_df\": consttok_res_hd512_fw_df}\n",
    "\n",
    "# with open(\"consttoken_results.pkl\", \"wb\") as fp:\n",
    "#     pickle.dump(plot_data, fp)\n",
    "\n",
    "with open(\"consttoken_results.pkl\", \"rb\") as fp:\n",
    "    plot_data = pickle.load(fp)\n",
    "\n",
    "consttok_res_hd512_df = plot_data['consttok_res_hd512_df']\n",
    "consttok_res_hd512_fw_df = plot_data['consttok_res_hd512_fw_df']\n",
    "\n",
    "consttok_res_hd512_df = consttok_res_hd512_df.filter(regex=r\"P--sequence_length|R--.*\").rename(columns=lambda x: x[3:])\n",
    "consttok_res_hd512_fw_df = consttok_res_hd512_fw_df.filter(regex=r\"P--sequence_length|R--.*\").rename(columns=lambda x: x[3:])\n",
    "\n"
   ]
  },
  {
   "cell_type": "code",
   "execution_count": null,
   "metadata": {},
   "outputs": [],
   "source": [
    "consttok_res_hd512_df"
   ]
  },
  {
   "cell_type": "code",
   "execution_count": null,
   "metadata": {},
   "outputs": [],
   "source": [
    "f = plot_runtime_results(\n",
    "    # left\n",
    "    data_df=consttok_res_hd512_df,\n",
    "    yticks=[0, 5, 10, 15, 20, 30, 40, 50],\n",
    "    # right\n",
    "    plot_column_order=col_order_fwbw,\n",
    "    # df_right=sequence_length_res_hd512_df,\n",
    "    # yticks_right=[0, 5, 10, 20, 30, 40],\n",
    "    filename=\"sequence_length_consttok_nh8_hd512_fwbw_line\",\n",
    "    group_cols=[\"sequence_length\"],\n",
    "    plot_type=\"line\",\n",
    "    style_dict=style_dict,\n",
    "    ylim=(0, 80),\n",
    "    # modify_df_func=modify_df,\n",
    "    figsize=(2 * 12 * 1 / 2.54, 1.5 * 8 * 1 / 2.54),\n",
    "    add_colname=False,\n",
    ")\n",
    "f"
   ]
  },
  {
   "cell_type": "code",
   "execution_count": null,
   "metadata": {},
   "outputs": [],
   "source": [
    "f = plot_runtime_results(\n",
    "    # left\n",
    "    data_df=consttok_res_hd512_df,\n",
    "    yticks=[0, 5, 10, 15, 20, 30, 40, 50],\n",
    "    # right\n",
    "    plot_column_order=col_order_fwbw,\n",
    "    # df_right=sequence_length_res_hd512_df,\n",
    "    # yticks_right=[0, 5, 10, 20, 30, 40],\n",
    "    filename=\"sequence_length_consttok_nh8_hd512_fwbw_bar\",\n",
    "    group_cols=[\"sequence_length\"],\n",
    "    plot_type=\"bar\",\n",
    "    style_dict=style_dict,\n",
    "    ylim=(0, 100),\n",
    "    # modify_df_func=modify_df,\n",
    "    figsize=(2 * 12 * 1 / 2.54, 1.5 * 8 * 1 / 2.54),\n",
    "    add_colname=False,\n",
    ")\n",
    "f"
   ]
  },
  {
   "cell_type": "markdown",
   "metadata": {},
   "source": [
    "# FWBW"
   ]
  },
  {
   "cell_type": "code",
   "execution_count": null,
   "metadata": {},
   "outputs": [],
   "source": [
    "f = plot_runtime_results_fwbw(\n",
    "    df_left=consttok_res_hd512_fw_df,\n",
    "    df_right=consttok_res_hd512_df,\n",
    "    yticks_left=[0, 5, 10, 15],\n",
    "    yticks_right=[0, 5, 10, 15, 20, 30, 40, 50],\n",
    "    col_order_left=col_order_fw,\n",
    "    col_order_right=col_order_fwbw,\n",
    "    # df_right=sequence_length_res_hd512_df,\n",
    "    # yticks_right=[0, 5, 10, 20, 30, 40],\n",
    "    filename_wo_ending=\"sequence_length_consttok_nh8_hd512_line\",\n",
    "    group_cols=[\"sequence_length\"],\n",
    "    plot_type=\"line\",\n",
    "    style_dict=style_dict,\n",
    "    ylim_left=(0, 20),\n",
    "    ylim_right=(0, 80),\n",
    "    # modify_df_func=modify_df,\n",
    "    add_colname=False,\n",
    ")\n",
    "f"
   ]
  },
  {
   "cell_type": "code",
   "execution_count": null,
   "metadata": {},
   "outputs": [],
   "source": [
    "f = plot_runtime_results_fwbw(\n",
    "    df_left=consttok_res_hd512_fw_df,\n",
    "    df_right=consttok_res_hd512_df,\n",
    "    yticks_left=[0, 5, 10, 15],\n",
    "    yticks_right=[0, 5, 10, 15, 20, 30, 40, 50],\n",
    "    col_order_left=col_order_fw,\n",
    "    col_order_right=col_order_fwbw,\n",
    "    style_dict=style_dict,\n",
    "    # df_right=sequence_length_res_hd512_df,\n",
    "    # yticks_right=[0, 5, 10, 20, 30, 40],\n",
    "    filename_wo_ending=\"sequence_length_consttok_nh8_hd512_bar\",\n",
    "    group_cols=[\"sequence_length\"],\n",
    "    plot_type=\"bar\",\n",
    "    ylim_left=(0, 20),\n",
    "    ylim_right=(0, 80),\n",
    "    # modify_df_func=modify_df,\n",
    "    add_colname=False,\n",
    ")\n",
    "f"
   ]
  },
  {
   "cell_type": "code",
   "execution_count": null,
   "metadata": {},
   "outputs": [],
   "source": []
  },
  {
   "cell_type": "code",
   "execution_count": null,
   "metadata": {},
   "outputs": [],
   "source": []
  }
 ],
 "metadata": {
  "kernelspec": {
   "display_name": "xlstmpt240cu124",
   "language": "python",
   "name": "python3"
  },
  "language_info": {
   "codemirror_mode": {
    "name": "ipython",
    "version": 3
   },
   "file_extension": ".py",
   "mimetype": "text/x-python",
   "name": "python",
   "nbconvert_exporter": "python",
   "pygments_lexer": "ipython3",
   "version": "3.11.9"
  }
 },
 "nbformat": 4,
 "nbformat_minor": 2
}
