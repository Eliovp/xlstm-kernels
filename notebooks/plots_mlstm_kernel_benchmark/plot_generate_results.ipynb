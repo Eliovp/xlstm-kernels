{
 "cells": [
  {
   "cell_type": "code",
   "execution_count": null,
   "metadata": {},
   "outputs": [],
   "source": [
    "%load_ext autoreload\n",
    "%autoreload 2\n",
    "import torch\n",
    "import pandas as pd\n",
    "import matplotlib as mpl\n",
    "import matplotlib.pyplot as plt\n",
    "import numpy as np\n",
    "from pathlib import Path\n",
    "import pickle"
   ]
  },
  {
   "cell_type": "code",
   "execution_count": null,
   "metadata": {},
   "outputs": [],
   "source": [
    "\n",
    "from mlstm_kernels.utils.benchmark.plot_results import plot_runtime_results\n",
    "from plot_config import (\n",
    "    col_order_gen,\n",
    "    style_dict,\n",
    ")"
   ]
  },
  {
   "cell_type": "code",
   "execution_count": null,
   "metadata": {},
   "outputs": [],
   "source": [
    "# DATA_PATH = Path(\"../../outputs_kernel_benchmarks\")\n",
    "# DATA_FILE_GEN_HD512 = DATA_PATH / \"2024-12-07_13-44-25__gen_pt251/gen_batch_size/results.csv\"\n",
    "\n",
    "# gen_res_hd512_df = pd.read_csv(DATA_FILE_GEN_HD512)\n"
   ]
  },
  {
   "cell_type": "code",
   "execution_count": null,
   "metadata": {},
   "outputs": [],
   "source": [
    "\n",
    "\n",
    "# plot_data = {\"gen_res_hd512_df\": gen_res_hd512_df}\n",
    "\n",
    "# with open(\"gen_results.pkl\", \"wb\") as fp:\n",
    "#     pickle.dump(plot_data, fp)\n",
    "\n",
    "with open(\"gen_results.pkl\", \"rb\") as fp:\n",
    "    plot_data = pickle.load(fp)\n",
    "\n",
    "gen_res_hd512_df = plot_data['gen_res_hd512_df']\n",
    "\n",
    "gen_res_hd512_df = gen_res_hd512_df.filter(regex=r\"P--batch_size|R--.*\").rename(columns=lambda x: x[3:])\n",
    "\n"
   ]
  },
  {
   "cell_type": "code",
   "execution_count": null,
   "metadata": {},
   "outputs": [],
   "source": [
    "gen_res_hd512_df"
   ]
  },
  {
   "cell_type": "code",
   "execution_count": null,
   "metadata": {},
   "outputs": [],
   "source": [
    "f = plot_runtime_results(\n",
    "    # left\n",
    "    data_df=gen_res_hd512_df,\n",
    "    yticks=[0, 1, 2, 3, 4],\n",
    "    # right\n",
    "    plot_column_order=col_order_gen,\n",
    "    # df_right=sequence_length_res_hd512_df,\n",
    "    # yticks_right=[0, 5, 10, 20, 30, 40],\n",
    "    filename=\"batch_size_gen_nh8_hd512_line\",\n",
    "    group_cols=[\"batch_size\"],\n",
    "    plot_type=\"line\",\n",
    "    ylim=(0, 4),\n",
    "    x_label='Batch Size',\n",
    "    # modify_df_func=modify_df,\n",
    "    style_dict=style_dict,\n",
    ")\n",
    "f"
   ]
  },
  {
   "cell_type": "code",
   "execution_count": null,
   "metadata": {},
   "outputs": [],
   "source": [
    "f = plot_runtime_results(\n",
    "    # left\n",
    "    data_df=gen_res_hd512_df,\n",
    "    yticks=[0, 1, 2, 3, 4],\n",
    "    # right\n",
    "    plot_column_order=col_order_gen,\n",
    "    # df_right=sequence_length_res_hd512_df,\n",
    "    # yticks_right=[0, 5, 10, 20, 30, 40],\n",
    "    filename=\"batch_size_gen_nh8_hd512_bar\",\n",
    "    group_cols=[\"batch_size\"],\n",
    "    plot_type=\"bar\",\n",
    "    ylim=(0, 4),\n",
    "    x_label='Batch Size',\n",
    "    # modify_df_func=modify_df,\n",
    "    style_dict=style_dict,\n",
    ")\n",
    "f"
   ]
  },
  {
   "cell_type": "code",
   "execution_count": null,
   "metadata": {},
   "outputs": [],
   "source": []
  }
 ],
 "metadata": {
  "kernelspec": {
   "display_name": "xlstmpt240cu124",
   "language": "python",
   "name": "python3"
  },
  "language_info": {
   "codemirror_mode": {
    "name": "ipython",
    "version": 3
   },
   "file_extension": ".py",
   "mimetype": "text/x-python",
   "name": "python",
   "nbconvert_exporter": "python",
   "pygments_lexer": "ipython3",
   "version": "3.11.9"
  }
 },
 "nbformat": 4,
 "nbformat_minor": 2
}
