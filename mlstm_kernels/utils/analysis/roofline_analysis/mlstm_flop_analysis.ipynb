{
 "cells": [
  {
   "cell_type": "code",
   "execution_count": 1,
   "metadata": {},
   "outputs": [],
   "source": [
    "%load_ext autoreload\n",
    "%autoreload 2\n",
    "\n",
    "import sys\n",
    "\n",
    "sys.path.append(\"..\")\n",
    "import copy\n",
    "import matplotlib.pyplot as plt\n",
    "import numpy as np"
   ]
  },
  {
   "cell_type": "code",
   "execution_count": 2,
   "metadata": {},
   "outputs": [],
   "source": [
    "# setup sympy\n",
    "from sympy import symbols, init_printing, simplify, collect, factor, flatten\n",
    "import sympy as sp\n",
    "\n",
    "init_printing(use_unicode=True)"
   ]
  },
  {
   "cell_type": "markdown",
   "metadata": {},
   "source": [
    "# mLSTM Cell FLOP and Memory Operation counts\n",
    "\n",
    "We perform all of this computation for the mLSTMsig and mLSTMexp."
   ]
  },
  {
   "cell_type": "markdown",
   "metadata": {},
   "source": [
    "## Define symbols"
   ]
  },
  {
   "cell_type": "code",
   "execution_count": 3,
   "metadata": {},
   "outputs": [],
   "source": [
    "# dimensions\n",
    "N_batch, N_head, N_chunk = symbols(\n",
    "    \"N_batch N_head N_chunk\", integer=True, positive=True\n",
    ")\n",
    "T, L, d_qk, d_hv = symbols(\"T L d_qk d_hv\", real=True, positive=True)\n",
    "# flop factors\n",
    "F_exp, F_log, F_sig, F_max, F_mask, F_abs = symbols(\n",
    "    \"F_exp F_log F_sig F_max F_mask F_abs\", real=True, positive=True\n",
    ")\n",
    "# causal factor\n",
    "F_causal = symbols(\"F_causal\", real=True, positive=True)\n",
    "# number of bytes\n",
    "btytes_qkv, bytes_Cmn, bytes_if = symbols(\n",
    "    \"btytes_qkv bytes_Cmn bytes_if\", real=True, positive=True\n",
    ")\n",
    "\n",
    "N_chunk = T / L"
   ]
  },
  {
   "cell_type": "markdown",
   "metadata": {},
   "source": [
    "## Chunkwise Parallel Formulation"
   ]
  },
  {
   "cell_type": "markdown",
   "metadata": {},
   "source": [
    "### FLOP counts"
   ]
  },
  {
   "cell_type": "markdown",
   "metadata": {},
   "source": [
    "mLSTMexp:"
   ]
  },
  {
   "cell_type": "code",
   "execution_count": 4,
   "metadata": {},
   "outputs": [],
   "source": [
    "# recurrent computation of the inter chunk states\n",
    "flop_cwp_exp_gates = (\n",
    "    2 * L + 0.5 * L * (L + 1) + L * (1 + F_exp + F_log + F_sig) + 3 + F_max + F_exp\n",
    ")\n",
    "flop_cwp_exp_numerator = 2 * d_qk * d_hv + 2 * L * d_qk * d_hv + L * d_qk\n",
    "flop_cwp_exp_denominator = 2 * d_qk + 2 * L * d_qk\n",
    "flop_cwp_exp_reccomp_inter = (\n",
    "    flop_cwp_exp_gates + flop_cwp_exp_numerator + flop_cwp_exp_denominator\n",
    ")\n",
    "\n",
    "# parallel computation of the intra chunk outputs\n",
    "flop_cwp_exp_cum_fgates = 0.5 * L * (L + 1) + L * (F_log + F_sig)\n",
    "flop_cwp_exp_gate_matrix = F_causal * (L**2 * (3 + F_exp + F_max) + L * (1 + F_max))\n",
    "flop_cwp_exp_intra_outputs = F_causal * (2 * L**2 * (d_qk + d_hv) + 3 * L**2)\n",
    "flop_cwp_exp_parcomp_intra = (\n",
    "    flop_cwp_exp_cum_fgates + flop_cwp_exp_gate_matrix + flop_cwp_exp_intra_outputs\n",
    ")\n",
    "\n",
    "# parallel computation of the inter chunk outputs\n",
    "flop_cwp_exp_inter_outputs = 2 * L * d_qk * d_hv + 3 * L * d_qk\n",
    "\n",
    "# combination of inter and intra chunk outputs\n",
    "flop_cwp_exp_output_comb = 2 * L * d_hv + L * (1 + F_max + F_abs + F_exp)\n",
    "\n",
    "flop_cwp_exp_expr_dict = {\n",
    "    \"flop_cwp_exp_gates\": flop_cwp_exp_gates,\n",
    "    \"flop_cwp_exp_numerator\": flop_cwp_exp_numerator,\n",
    "    \"flop_cwp_exp_denominator\": flop_cwp_exp_denominator,\n",
    "    \"flop_cwp_exp_reccomp_inter\": flop_cwp_exp_reccomp_inter,\n",
    "    \"flop_cwp_exp_cum_fgates\": flop_cwp_exp_cum_fgates,\n",
    "    \"flop_cwp_exp_gate_matrix\": flop_cwp_exp_gate_matrix,\n",
    "    \"flop_cwp_exp_intra_outputs\": flop_cwp_exp_intra_outputs,\n",
    "    \"flop_cwp_exp_parcomp_intra\": flop_cwp_exp_parcomp_intra,\n",
    "    \"flop_cwp_exp_inter_outputs\": flop_cwp_exp_inter_outputs,\n",
    "    \"flop_cwp_exp_output_comb\": flop_cwp_exp_output_comb,\n",
    "}"
   ]
  },
  {
   "cell_type": "code",
   "execution_count": 5,
   "metadata": {},
   "outputs": [],
   "source": [
    "# total flops mLSTMexp\n",
    "flop_cwp_exp_recurrent = flop_cwp_exp_reccomp_inter\n",
    "flop_cwp_exp_parallel = (\n",
    "    flop_cwp_exp_parcomp_intra + flop_cwp_exp_inter_outputs + flop_cwp_exp_output_comb\n",
    ")\n",
    "flop_cwp_exp_total = (\n",
    "    flop_cwp_exp_reccomp_inter\n",
    "    + flop_cwp_exp_parcomp_intra\n",
    "    + flop_cwp_exp_inter_outputs\n",
    "    + flop_cwp_exp_output_comb\n",
    ")"
   ]
  },
  {
   "cell_type": "code",
   "execution_count": 6,
   "metadata": {},
   "outputs": [
    {
     "data": {
      "image/png": "[encoded data removed]",
      "text/latex": [
       "$\\displaystyle F_{causal} L^{2} \\left(2 d_{hv} + 2 d_{qk} + 3\\right) + F_{causal} \\left(L^{2} \\left(F_{exp} + F_{max} + 3\\right) + L \\left(F_{max} + 1\\right)\\right) + F_{exp} + F_{max} + L \\left(F_{abs} + 2 F_{exp} + 2 F_{log} + F_{max} + 2 F_{sig} + 1.0 L + 4 d_{hv} d_{qk} + 2 d_{hv} + 6 d_{qk} + 5.0\\right) + 2 d_{hv} d_{qk} + 2 d_{qk} + 3$"
      ],
      "text/plain": [
       "          2                                 ⎛ 2                                ↪\n",
       "F_causal⋅L ⋅(2⋅dₕᵥ + 2⋅d_qk + 3) + F_causal⋅⎝L ⋅(Fₑₓₚ + Fₘₐₓ + 3) + L⋅(Fₘₐₓ +  ↪\n",
       "\n",
       "↪   ⎞                                                                          ↪\n",
       "↪ 1)⎠ + Fₑₓₚ + Fₘₐₓ + L⋅(F_abs + 2⋅Fₑₓₚ + 2⋅F_log + Fₘₐₓ + 2⋅F_sig + 1.0⋅L + 4 ↪\n",
       "\n",
       "↪                                                            \n",
       "↪ ⋅dₕᵥ⋅d_qk + 2⋅dₕᵥ + 6⋅d_qk + 5.0) + 2⋅dₕᵥ⋅d_qk + 2⋅d_qk + 3"
      ]
     },
     "execution_count": 6,
     "metadata": {},
     "output_type": "execute_result"
    }
   ],
   "source": [
    "collect(flop_cwp_exp_total, L)"
   ]
  },
  {
   "cell_type": "markdown",
   "metadata": {},
   "source": [
    "mLSTMsig:"
   ]
  },
  {
   "cell_type": "code",
   "execution_count": 7,
   "metadata": {},
   "outputs": [],
   "source": [
    "# recurrent computation of the inter chunk states\n",
    "flop_cwp_sig_gates = (\n",
    "    2 * L + 0.5 * L * (L + 1) + L * F_exp + F_exp + 2 * L * (F_log + F_sig)\n",
    ")\n",
    "flop_cwp_sig_numerator = 2 * d_qk * d_hv + 2 * L * d_qk * d_hv + L * d_qk\n",
    "flop_cwp_sig_reccomp_inter = flop_cwp_exp_gates + flop_cwp_sig_numerator\n",
    "\n",
    "# parallel computation of the intra chunk outputs\n",
    "flop_cwp_sig_cum_fgates = 0.5 * L * (L + 1) + 2 * L * (F_log + F_sig)\n",
    "flop_cwp_sig_gate_matrix = F_causal * (L**2 * (2 + F_exp))\n",
    "flop_cwp_sig_intra_outputs = F_causal * (2 * L**2 * (d_qk + d_hv) + 3 * L**2)\n",
    "flop_cwp_sig_parcomp_intra = (\n",
    "    flop_cwp_sig_cum_fgates + flop_cwp_sig_gate_matrix + flop_cwp_sig_intra_outputs\n",
    ")\n",
    "\n",
    "# parallel computation of the inter chunk outputs\n",
    "flop_cwp_sig_inter_outputs = 2 * L * d_qk * d_hv + L * d_qk\n",
    "\n",
    "# combination of inter and intra chunk outputs\n",
    "flop_cwp_sig_output_comb = L * d_hv\n",
    "\n",
    "flop_cwp_sig_expr_dict = {\n",
    "    \"flop_cwp_sig_gates\": flop_cwp_sig_gates,\n",
    "    \"flop_cwp_sig_numerator\": flop_cwp_sig_numerator,\n",
    "    \"flop_cwp_sig_reccomp_inter\": flop_cwp_sig_reccomp_inter,\n",
    "    \"flop_cwp_sig_cum_fgates\": flop_cwp_sig_cum_fgates,\n",
    "    \"flop_cwp_sig_gate_matrix\": flop_cwp_sig_gate_matrix,\n",
    "    \"flop_cwp_sig_intra_outputs\": flop_cwp_sig_intra_outputs,\n",
    "    \"flop_cwp_sig_parcomp_intra\": flop_cwp_sig_parcomp_intra,\n",
    "    \"flop_cwp_sig_inter_outputs\": flop_cwp_sig_inter_outputs,\n",
    "    \"flop_cwp_sig_output_comb\": flop_cwp_sig_output_comb,\n",
    "}"
   ]
  },
  {
   "cell_type": "code",
   "execution_count": 8,
   "metadata": {},
   "outputs": [],
   "source": [
    "flop_cwp_sig_recurrent = flop_cwp_sig_reccomp_inter\n",
    "flop_cwp_sig_parallel = (\n",
    "    flop_cwp_sig_parcomp_intra + flop_cwp_sig_inter_outputs + flop_cwp_sig_output_comb\n",
    ")\n",
    "flop_cwp_sig_total = (\n",
    "    flop_cwp_sig_reccomp_inter\n",
    "    + flop_cwp_sig_parcomp_intra\n",
    "    + flop_cwp_sig_inter_outputs\n",
    "    + flop_cwp_sig_output_comb\n",
    ")"
   ]
  },
  {
   "cell_type": "code",
   "execution_count": 9,
   "metadata": {},
   "outputs": [
    {
     "data": {
      "image/png": "[encoded data removed]",
      "text/latex": [
       "$\\displaystyle F_{exp} + F_{max} + L^{2} \\left(F_{causal} \\left(F_{exp} + 2\\right) + F_{causal} \\left(2 d_{hv} + 2 d_{qk} + 3\\right)\\right) + L \\left(F_{exp} + 3 F_{log} + 3 F_{sig} + 1.0 L + 4 d_{hv} d_{qk} + d_{hv} + 2 d_{qk} + 4.0\\right) + 2 d_{hv} d_{qk} + 3$"
      ],
      "text/plain": [
       "               2                                                               ↪\n",
       "Fₑₓₚ + Fₘₐₓ + L ⋅(F_causal⋅(Fₑₓₚ + 2) + F_causal⋅(2⋅dₕᵥ + 2⋅d_qk + 3)) + L⋅(Fₑ ↪\n",
       "\n",
       "↪                                                                              ↪\n",
       "↪ ₓₚ + 3⋅F_log + 3⋅F_sig + 1.0⋅L + 4⋅dₕᵥ⋅d_qk + dₕᵥ + 2⋅d_qk + 4.0) + 2⋅dₕᵥ⋅d_ ↪\n",
       "\n",
       "↪       \n",
       "↪ qk + 3"
      ]
     },
     "execution_count": 9,
     "metadata": {},
     "output_type": "execute_result"
    }
   ],
   "source": [
    "collect(flop_cwp_sig_total, L)"
   ]
  },
  {
   "cell_type": "markdown",
   "metadata": {},
   "source": [
    "Compare mLSTMsig and mLSTMexp:"
   ]
  },
  {
   "cell_type": "code",
   "execution_count": 10,
   "metadata": {},
   "outputs": [
    {
     "data": {
      "image/png": "[encoded data removed]",
      "text/latex": [
       "$\\displaystyle L^{2} \\left(1.0 d_{hv} + 1.0 d_{qk} + 3.0\\right) + L \\left(1.0 L + 4 d_{hv} d_{qk} + d_{hv} + 2 d_{qk} + 11.0\\right) + 2 d_{hv} d_{qk} + 5$"
      ],
      "text/plain": [
       " 2                                                                             ↪\n",
       "L ⋅(1.0⋅dₕᵥ + 1.0⋅d_qk + 3.0) + L⋅(1.0⋅L + 4⋅dₕᵥ⋅d_qk + dₕᵥ + 2⋅d_qk + 11.0) + ↪\n",
       "\n",
       "↪                \n",
       "↪  2⋅dₕᵥ⋅d_qk + 5"
      ]
     },
     "execution_count": 10,
     "metadata": {},
     "output_type": "execute_result"
    }
   ],
   "source": [
    "collect(\n",
    "    flop_cwp_sig_total.subs(\n",
    "        {F_exp: 1, F_log: 1, F_sig: 1, F_max: 1, F_mask: 1, F_abs: 1, F_causal: 0.5}\n",
    "    ),\n",
    "    L,\n",
    ")"
   ]
  },
  {
   "cell_type": "code",
   "execution_count": 11,
   "metadata": {},
   "outputs": [
    {
     "data": {
      "image/png": "[encoded data removed]",
      "text/latex": [
       "$\\displaystyle L^{2} \\left(1.0 d_{hv} + 1.0 d_{qk} + 4.0\\right) + L \\left(1.0 L + 4 d_{hv} d_{qk} + 2 d_{hv} + 6 d_{qk} + 14.0\\right) + 2 d_{hv} d_{qk} + 2 d_{qk} + 5$"
      ],
      "text/plain": [
       " 2                                                                             ↪\n",
       "L ⋅(1.0⋅dₕᵥ + 1.0⋅d_qk + 4.0) + L⋅(1.0⋅L + 4⋅dₕᵥ⋅d_qk + 2⋅dₕᵥ + 6⋅d_qk + 14.0) ↪\n",
       "\n",
       "↪                           \n",
       "↪  + 2⋅dₕᵥ⋅d_qk + 2⋅d_qk + 5"
      ]
     },
     "execution_count": 11,
     "metadata": {},
     "output_type": "execute_result"
    }
   ],
   "source": [
    "collect(\n",
    "    flop_cwp_exp_total.subs(\n",
    "        {F_exp: 1, F_log: 1, F_sig: 1, F_max: 1, F_mask: 1, F_abs: 1, F_causal: 0.5}\n",
    "    ),\n",
    "    L,\n",
    ")"
   ]
  },
  {
   "cell_type": "markdown",
   "metadata": {},
   "source": [
    "Substitute and simplify:"
   ]
  },
  {
   "cell_type": "code",
   "execution_count": 12,
   "metadata": {},
   "outputs": [],
   "source": [
    "simplified_flop_cwp_exp_dict = copy.deepcopy(flop_cwp_exp_expr_dict)\n",
    "for k, v in simplified_flop_cwp_exp_dict.items():\n",
    "    simplified_flop_cwp_exp_dict[k] = collect(\n",
    "        v.subs({F_exp: 1, F_log: 1, F_sig: 1, F_max: 1, F_mask: 1, F_abs: 1}), L\n",
    "    )"
   ]
  },
  {
   "cell_type": "code",
   "execution_count": 13,
   "metadata": {},
   "outputs": [
    {
     "data": {
      "text/plain": [
       "{'flop_cwp_exp_gates': L*(0.5*L + 6.5) + 5,\n",
       " 'flop_cwp_exp_numerator': L*(2*d_hv*d_qk + d_qk) + 2*d_hv*d_qk,\n",
       " 'flop_cwp_exp_denominator': 2*L*d_qk + 2*d_qk,\n",
       " 'flop_cwp_exp_reccomp_inter': L*(0.5*L + 2*d_hv*d_qk + 3*d_qk + 6.5) + 2*d_hv*d_qk + 2*d_qk + 5,\n",
       " 'flop_cwp_exp_cum_fgates': L*(0.5*L + 2.5),\n",
       " 'flop_cwp_exp_gate_matrix': F_causal*(5*L**2 + 2*L),\n",
       " 'flop_cwp_exp_intra_outputs': F_causal*L**2*(2*d_hv + 2*d_qk + 3),\n",
       " 'flop_cwp_exp_parcomp_intra': F_causal*L**2*(2*d_hv + 2*d_qk + 3) + F_causal*(5*L**2 + 2*L) + L*(0.5*L + 2.5),\n",
       " 'flop_cwp_exp_inter_outputs': L*(2*d_hv*d_qk + 3*d_qk),\n",
       " 'flop_cwp_exp_output_comb': L*(2*d_hv + 4)}"
      ]
     },
     "execution_count": 13,
     "metadata": {},
     "output_type": "execute_result"
    }
   ],
   "source": [
    "simplified_flop_cwp_exp_dict"
   ]
  },
  {
   "cell_type": "code",
   "execution_count": 14,
   "metadata": {},
   "outputs": [],
   "source": [
    "simplified_flop_cwp_sig_dict = copy.deepcopy(flop_cwp_sig_expr_dict)\n",
    "for k, v in simplified_flop_cwp_sig_dict.items():\n",
    "    simplified_flop_cwp_sig_dict[k] = collect(\n",
    "        v.subs({F_exp: 1, F_log: 1, F_sig: 1, F_max: 1, F_mask: 1, F_abs: 1}), L\n",
    "    )"
   ]
  },
  {
   "cell_type": "code",
   "execution_count": 15,
   "metadata": {},
   "outputs": [
    {
     "data": {
      "text/plain": [
       "{'flop_cwp_sig_gates': L*(0.5*L + 7.5) + 1,\n",
       " 'flop_cwp_sig_numerator': L*(2*d_hv*d_qk + d_qk) + 2*d_hv*d_qk,\n",
       " 'flop_cwp_sig_reccomp_inter': L*(0.5*L + 2*d_hv*d_qk + d_qk + 6.5) + 2*d_hv*d_qk + 5,\n",
       " 'flop_cwp_sig_cum_fgates': L*(0.5*L + 4.5),\n",
       " 'flop_cwp_sig_gate_matrix': 3*F_causal*L**2,\n",
       " 'flop_cwp_sig_intra_outputs': F_causal*L**2*(2*d_hv + 2*d_qk + 3),\n",
       " 'flop_cwp_sig_parcomp_intra': L**2*(F_causal*(2*d_hv + 2*d_qk + 3) + 3*F_causal) + L*(0.5*L + 4.5),\n",
       " 'flop_cwp_sig_inter_outputs': L*(2*d_hv*d_qk + d_qk),\n",
       " 'flop_cwp_sig_output_comb': L*d_hv}"
      ]
     },
     "execution_count": 15,
     "metadata": {},
     "output_type": "execute_result"
    }
   ],
   "source": [
    "simplified_flop_cwp_sig_dict"
   ]
  },
  {
   "cell_type": "markdown",
   "metadata": {},
   "source": [
    "## Recurrent Formulation"
   ]
  },
  {
   "cell_type": "markdown",
   "metadata": {},
   "source": [
    "### FLOP counts"
   ]
  },
  {
   "cell_type": "markdown",
   "metadata": {},
   "source": [
    "mLSTMexp:"
   ]
  },
  {
   "cell_type": "code",
   "execution_count": 16,
   "metadata": {},
   "outputs": [],
   "source": [
    "flop_rec_exp_gates = 4 + 2 * F_exp + F_log + F_sig + F_max\n",
    "flop_rec_exp_cell_update = 4 * d_qk * d_hv\n",
    "flop_rec_exp_denom = 6 * d_qk + d_hv + 1 + F_abs + F_max\n",
    "flop_rec_exp_output = 2 * d_hv * d_qk + d_qk\n",
    "\n",
    "flop_rec_exp_total = (\n",
    "    flop_rec_exp_gates\n",
    "    + flop_rec_exp_cell_update\n",
    "    + flop_rec_exp_denom\n",
    "    + flop_rec_exp_output\n",
    ")"
   ]
  },
  {
   "cell_type": "code",
   "execution_count": 17,
   "metadata": {},
   "outputs": [
    {
     "data": {
      "image/png": "[encoded data removed]",
      "text/latex": [
       "$\\displaystyle F_{abs} + 2 F_{exp} + F_{log} + 2 F_{max} + F_{sig} + 6 d_{hv} d_{qk} + d_{hv} + 7 d_{qk} + 5$"
      ],
      "text/plain": [
       "F_abs + 2⋅Fₑₓₚ + F_log + 2⋅Fₘₐₓ + F_sig + 6⋅dₕᵥ⋅d_qk + dₕᵥ + 7⋅d_qk + 5"
      ]
     },
     "execution_count": 17,
     "metadata": {},
     "output_type": "execute_result"
    }
   ],
   "source": [
    "flop_rec_exp_total"
   ]
  },
  {
   "cell_type": "markdown",
   "metadata": {},
   "source": [
    "mLSTMsig:"
   ]
  },
  {
   "cell_type": "code",
   "execution_count": 18,
   "metadata": {},
   "outputs": [],
   "source": [
    "flop_rec_sig_gates = 2 * F_sig\n",
    "flop_rec_sig_cell_update = 4 * d_qk * d_hv\n",
    "flop_rec_sig_output = 2 * d_hv * d_qk + d_qk\n",
    "\n",
    "flop_rec_sig_total = flop_rec_sig_gates + flop_rec_sig_cell_update + flop_rec_sig_output"
   ]
  },
  {
   "cell_type": "code",
   "execution_count": 19,
   "metadata": {},
   "outputs": [
    {
     "data": {
      "image/png": "[encoded data removed]",
      "text/latex": [
       "$\\displaystyle 2 F_{sig} + 6 d_{hv} d_{qk} + d_{qk}$"
      ],
      "text/plain": [
       "2⋅F_sig + 6⋅dₕᵥ⋅d_qk + d_qk"
      ]
     },
     "execution_count": 19,
     "metadata": {},
     "output_type": "execute_result"
    }
   ],
   "source": [
    "flop_rec_sig_total"
   ]
  },
  {
   "cell_type": "markdown",
   "metadata": {},
   "source": [
    "## Parallel Formulation"
   ]
  },
  {
   "cell_type": "markdown",
   "metadata": {},
   "source": [
    "### FLOP counts"
   ]
  },
  {
   "cell_type": "markdown",
   "metadata": {},
   "source": [
    "mLSTMexp:"
   ]
  },
  {
   "cell_type": "code",
   "execution_count": 20,
   "metadata": {},
   "outputs": [],
   "source": [
    "flop_par_exp_cum_fgates = 0.5 * T * (T + 1) + T * (F_log + F_sig)\n",
    "flop_par_exp_gate_matrix = T**2 * (3 + F_exp + F_max + F_mask)\n",
    "flop_par_exp_attn_logits = F_causal * (2 * T**2 * d_qk + 2 * T**2)\n",
    "flop_par_exp_normalization = F_causal * (T**2 * (3 + F_abs) + T * (F_exp + F_max))\n",
    "flop_par_exp_outputs = F_causal * 2 * T**2 * d_hv\n",
    "\n",
    "flop_par_exp_total = (\n",
    "    flop_par_exp_cum_fgates\n",
    "    + flop_par_exp_gate_matrix\n",
    "    + flop_par_exp_attn_logits\n",
    "    + flop_par_exp_normalization\n",
    "    + flop_par_exp_outputs\n",
    ")"
   ]
  },
  {
   "cell_type": "code",
   "execution_count": 21,
   "metadata": {},
   "outputs": [
    {
     "data": {
      "image/png": "[encoded data removed]",
      "text/latex": [
       "$\\displaystyle F_{causal} \\left(T^{2} \\left(F_{abs} + 3\\right) + T \\left(F_{exp} + F_{max}\\right)\\right) + T^{2} \\left(2 F_{causal} d_{hv} + F_{causal} \\left(2 d_{qk} + 2\\right) + F_{exp} + F_{mask} + F_{max} + 3\\right) + T \\left(F_{log} + F_{sig} + 0.5 T + 0.5\\right)$"
      ],
      "text/plain": [
       "         ⎛ 2                              ⎞    2                               ↪\n",
       "F_causal⋅⎝T ⋅(F_abs + 3) + T⋅(Fₑₓₚ + Fₘₐₓ)⎠ + T ⋅(2⋅F_causal⋅dₕᵥ + F_causal⋅(2 ↪\n",
       "\n",
       "↪                                                                        \n",
       "↪ ⋅d_qk + 2) + Fₑₓₚ + Fₘₐₛₖ + Fₘₐₓ + 3) + T⋅(F_log + F_sig + 0.5⋅T + 0.5)"
      ]
     },
     "execution_count": 21,
     "metadata": {},
     "output_type": "execute_result"
    }
   ],
   "source": [
    "collect(flop_par_exp_total, T)"
   ]
  },
  {
   "cell_type": "markdown",
   "metadata": {},
   "source": [
    "mLSTMsig:"
   ]
  },
  {
   "cell_type": "code",
   "execution_count": 22,
   "metadata": {},
   "outputs": [],
   "source": [
    "flop_par_sig_cum_fgates = 0.5 * T * (T + 1) + 2 * T * (F_log + F_sig)\n",
    "flop_par_sig_gate_matrix = T**2 * (3 + F_exp + F_max + F_mask)\n",
    "flop_par_sig_attn_logits = F_causal * (2 * T**2 * d_qk + 2 * T**2)\n",
    "\n",
    "flop_par_sig_outputs = F_causal * 2 * T**2 * d_hv\n",
    "\n",
    "flop_par_sig_total = (\n",
    "    flop_par_sig_cum_fgates\n",
    "    + flop_par_sig_gate_matrix\n",
    "    + flop_par_sig_attn_logits\n",
    "    + flop_par_sig_outputs\n",
    ")"
   ]
  },
  {
   "cell_type": "code",
   "execution_count": 23,
   "metadata": {},
   "outputs": [
    {
     "data": {
      "image/png": "[encoded data removed]",
      "text/latex": [
       "$\\displaystyle T^{2} \\left(2 F_{causal} d_{hv} + F_{causal} \\left(2 d_{qk} + 2\\right) + F_{exp} + F_{mask} + F_{max} + 3\\right) + T \\left(2 F_{log} + 2 F_{sig} + 0.5 T + 0.5\\right)$"
      ],
      "text/plain": [
       " 2                                                                             ↪\n",
       "T ⋅(2⋅F_causal⋅dₕᵥ + F_causal⋅(2⋅d_qk + 2) + Fₑₓₚ + Fₘₐₛₖ + Fₘₐₓ + 3) + T⋅(2⋅F ↪\n",
       "\n",
       "↪                              \n",
       "↪ _log + 2⋅F_sig + 0.5⋅T + 0.5)"
      ]
     },
     "execution_count": 23,
     "metadata": {},
     "output_type": "execute_result"
    }
   ],
   "source": [
    "collect(flop_par_sig_total, T)"
   ]
  },
  {
   "cell_type": "markdown",
   "metadata": {},
   "source": [
    "Compare mLSTMsig and mLSTMexp:"
   ]
  },
  {
   "cell_type": "code",
   "execution_count": 24,
   "metadata": {},
   "outputs": [
    {
     "data": {
      "image/png": "[encoded data removed]",
      "text/latex": [
       "$\\displaystyle T^{2} \\left(1.0 d_{hv} + 1.0 d_{qk} + 9.0\\right) + T \\left(0.5 T + 3.5\\right)$"
      ],
      "text/plain": [
       " 2                                             \n",
       "T ⋅(1.0⋅dₕᵥ + 1.0⋅d_qk + 9.0) + T⋅(0.5⋅T + 3.5)"
      ]
     },
     "execution_count": 24,
     "metadata": {},
     "output_type": "execute_result"
    }
   ],
   "source": [
    "collect(\n",
    "    flop_par_exp_total.subs(\n",
    "        {F_exp: 1, F_log: 1, F_sig: 1, F_max: 1, F_mask: 1, F_abs: 1, F_causal: 0.5}\n",
    "    ),\n",
    "    T,\n",
    ")"
   ]
  },
  {
   "cell_type": "code",
   "execution_count": 25,
   "metadata": {},
   "outputs": [
    {
     "data": {
      "image/png": "[encoded data removed]",
      "text/latex": [
       "$\\displaystyle T^{2} \\left(1.0 d_{hv} + 1.0 d_{qk} + 7.0\\right) + T \\left(0.5 T + 4.5\\right)$"
      ],
      "text/plain": [
       " 2                                             \n",
       "T ⋅(1.0⋅dₕᵥ + 1.0⋅d_qk + 7.0) + T⋅(0.5⋅T + 4.5)"
      ]
     },
     "execution_count": 25,
     "metadata": {},
     "output_type": "execute_result"
    }
   ],
   "source": [
    "collect(\n",
    "    flop_par_sig_total.subs(\n",
    "        {F_exp: 1, F_log: 1, F_sig: 1, F_max: 1, F_mask: 1, F_abs: 1, F_causal: 0.5}\n",
    "    ),\n",
    "    T,\n",
    ")"
   ]
  },
  {
   "cell_type": "code",
   "execution_count": null,
   "metadata": {},
   "outputs": [],
   "source": []
  },
  {
   "cell_type": "markdown",
   "metadata": {},
   "source": [
    "## Compare the Total FLOP counts\n",
    "\n",
    "We compare the flop counts for a single head for one sequence of length $T$."
   ]
  },
  {
   "cell_type": "code",
   "execution_count": 26,
   "metadata": {},
   "outputs": [],
   "source": [
    "subs_dict = {F_exp: 1, F_log: 1, F_sig: 1, F_max: 1, F_mask: 1, F_abs: 1}"
   ]
  },
  {
   "cell_type": "markdown",
   "metadata": {},
   "source": [
    "### mLSTMexp"
   ]
  },
  {
   "cell_type": "code",
   "execution_count": 27,
   "metadata": {},
   "outputs": [],
   "source": [
    "comp_flop_rec_exp_total = T * flop_rec_exp_total\n",
    "comp_flop_cwp_exp_total = N_chunk * flop_cwp_exp_total\n",
    "comp_flop_par_exp_total = flop_par_exp_total"
   ]
  },
  {
   "cell_type": "code",
   "execution_count": 28,
   "metadata": {},
   "outputs": [
    {
     "data": {
      "image/png": "[encoded data removed]",
      "text/latex": [
       "$\\displaystyle T \\left(6 d_{hv} d_{qk} + d_{hv} + 7 d_{qk} + 12\\right)$"
      ],
      "text/plain": [
       "T⋅(6⋅dₕᵥ⋅d_qk + dₕᵥ + 7⋅d_qk + 12)"
      ]
     },
     "execution_count": 28,
     "metadata": {},
     "output_type": "execute_result"
    }
   ],
   "source": [
    "simpl_comp_flop_rec_exp_total = collect(comp_flop_rec_exp_total.subs(subs_dict), T)\n",
    "simpl_comp_flop_rec_exp_total"
   ]
  },
  {
   "cell_type": "code",
   "execution_count": 29,
   "metadata": {},
   "outputs": [
    {
     "data": {
      "text/plain": [
       "'T \\\\left(6 d_{hv} d_{qk} + d_{hv} + 7 d_{qk} + 12\\\\right)'"
      ]
     },
     "execution_count": 29,
     "metadata": {},
     "output_type": "execute_result"
    }
   ],
   "source": [
    "sp.latex(simpl_comp_flop_rec_exp_total)"
   ]
  },
  {
   "cell_type": "code",
   "execution_count": 30,
   "metadata": {},
   "outputs": [
    {
     "data": {
      "image/png": "[encoded data removed]",
      "text/latex": [
       "$\\displaystyle \\frac{1.0 \\left(L^{2} \\left(2.0 F_{causal} T d_{hv} + 2.0 F_{causal} T d_{qk} + 8.0 F_{causal} T + 1.0 T\\right) + L \\left(2.0 F_{causal} T + 4.0 T d_{hv} d_{qk} + 2.0 T d_{hv} + 6.0 T d_{qk} + 13.0 T\\right) + 2.0 T d_{hv} d_{qk} + 2.0 T d_{qk} + 5.0 T\\right)}{L}$"
      ],
      "text/plain": [
       "    ⎛ 2                                                                        ↪\n",
       "1.0⋅⎝L ⋅(2.0⋅F_causal⋅T⋅dₕᵥ + 2.0⋅F_causal⋅T⋅d_qk + 8.0⋅F_causal⋅T + 1.0⋅T) +  ↪\n",
       "────────────────────────────────────────────────────────────────────────────── ↪\n",
       "                                                                               ↪\n",
       "\n",
       "↪                                                                              ↪\n",
       "↪ L⋅(2.0⋅F_causal⋅T + 4.0⋅T⋅dₕᵥ⋅d_qk + 2.0⋅T⋅dₕᵥ + 6.0⋅T⋅d_qk + 13.0⋅T) + 2.0⋅ ↪\n",
       "↪ ──────────────────────────────────────────────────────────────────────────── ↪\n",
       "↪               L                                                              ↪\n",
       "\n",
       "↪                                ⎞\n",
       "↪ T⋅dₕᵥ⋅d_qk + 2.0⋅T⋅d_qk + 5.0⋅T⎠\n",
       "↪ ────────────────────────────────\n",
       "↪                                 "
      ]
     },
     "execution_count": 30,
     "metadata": {},
     "output_type": "execute_result"
    }
   ],
   "source": [
    "simpl_comp_flop_cwp_exp_total = collect(\n",
    "    sp.cancel(collect(comp_flop_cwp_exp_total.subs(subs_dict), L)), L\n",
    ")\n",
    "simpl_comp_flop_cwp_exp_total"
   ]
  },
  {
   "cell_type": "code",
   "execution_count": 31,
   "metadata": {},
   "outputs": [
    {
     "data": {
      "image/png": "[encoded data removed]",
      "text/latex": [
       "$\\displaystyle F_{causal} \\left(4 T^{2} + 2 T\\right) + T^{2} \\left(2 F_{causal} d_{hv} + F_{causal} \\left(2 d_{qk} + 2\\right) + 6\\right) + T \\left(0.5 T + 2.5\\right)$"
      ],
      "text/plain": [
       "         ⎛   2      ⎞    2                                                     ↪\n",
       "F_causal⋅⎝4⋅T  + 2⋅T⎠ + T ⋅(2⋅F_causal⋅dₕᵥ + F_causal⋅(2⋅d_qk + 2) + 6) + T⋅(0 ↪\n",
       "\n",
       "↪            \n",
       "↪ .5⋅T + 2.5)"
      ]
     },
     "execution_count": 31,
     "metadata": {},
     "output_type": "execute_result"
    }
   ],
   "source": [
    "simpl_comp_flop_par_exp_total = collect(comp_flop_par_exp_total.subs(subs_dict), T)\n",
    "simpl_comp_flop_par_exp_total"
   ]
  },
  {
   "cell_type": "code",
   "execution_count": 32,
   "metadata": {},
   "outputs": [],
   "source": [
    "# define functions for plotting\n",
    "\n",
    "fn_flop_rec_exp = sp.lambdify(\n",
    "    (T, d_qk, d_hv), simpl_comp_flop_rec_exp_total, modules=[\"numpy\"]\n",
    ")\n",
    "fn_flop_cwp_exp = sp.lambdify(\n",
    "    (T, d_qk, d_hv, F_causal, L), simpl_comp_flop_cwp_exp_total, modules=[\"numpy\"]\n",
    ")\n",
    "fn_flop_par_exp = sp.lambdify(\n",
    "    (T, d_qk, d_hv, F_causal), simpl_comp_flop_par_exp_total, modules=[\"numpy\"]\n",
    ")"
   ]
  },
  {
   "cell_type": "code",
   "execution_count": 33,
   "metadata": {},
   "outputs": [],
   "source": [
    "dqk = 64\n",
    "dhv = 64\n",
    "seq_len = 1024\n",
    "chunk_size = 128\n",
    "fcausal = 0.5"
   ]
  },
  {
   "cell_type": "code",
   "execution_count": 34,
   "metadata": {},
   "outputs": [
    {
     "data": {
      "image/png": "[encoded data removed]",
      "text/latex": [
       "$\\displaystyle 25702400$"
      ],
      "text/plain": [
       "25702400"
      ]
     },
     "execution_count": 34,
     "metadata": {},
     "output_type": "execute_result"
    }
   ],
   "source": [
    "fn_flop_rec_exp(seq_len, dqk, dhv)"
   ]
  },
  {
   "cell_type": "code",
   "execution_count": 35,
   "metadata": {},
   "outputs": [
    {
     "data": {
      "image/png": "[encoded data removed]",
      "text/latex": [
       "$\\displaystyle 34815016.0$"
      ],
      "text/plain": [
       "34815016.0"
      ]
     },
     "execution_count": 35,
     "metadata": {},
     "output_type": "execute_result"
    }
   ],
   "source": [
    "fn_flop_cwp_exp(seq_len, dqk, dhv, fcausal, chunk_size)"
   ]
  },
  {
   "cell_type": "code",
   "execution_count": 36,
   "metadata": {},
   "outputs": [
    {
     "data": {
      "image/png": "[encoded data removed]",
      "text/latex": [
       "$\\displaystyle 144182784.0$"
      ],
      "text/plain": [
       "144182784.0"
      ]
     },
     "execution_count": 36,
     "metadata": {},
     "output_type": "execute_result"
    }
   ],
   "source": [
    "fn_flop_par_exp(seq_len, dqk, dhv, fcausal)"
   ]
  },
  {
   "cell_type": "markdown",
   "metadata": {},
   "source": [
    "### mLSTMsig"
   ]
  },
  {
   "cell_type": "code",
   "execution_count": 37,
   "metadata": {},
   "outputs": [],
   "source": [
    "comp_flop_rec_sig_total = T * flop_rec_sig_total\n",
    "comp_flop_cwp_sig_total = N_chunk * flop_cwp_sig_total\n",
    "comp_flop_par_sig_total = flop_par_sig_total"
   ]
  },
  {
   "cell_type": "code",
   "execution_count": 38,
   "metadata": {},
   "outputs": [
    {
     "data": {
      "image/png": "[encoded data removed]",
      "text/latex": [
       "$\\displaystyle T \\left(6 d_{hv} d_{qk} + d_{qk} + 2\\right)$"
      ],
      "text/plain": [
       "T⋅(6⋅dₕᵥ⋅d_qk + d_qk + 2)"
      ]
     },
     "execution_count": 38,
     "metadata": {},
     "output_type": "execute_result"
    }
   ],
   "source": [
    "simpl_comp_flop_rec_sig_total = collect(comp_flop_rec_sig_total.subs(subs_dict), T)\n",
    "simpl_comp_flop_rec_sig_total"
   ]
  },
  {
   "cell_type": "code",
   "execution_count": 39,
   "metadata": {},
   "outputs": [
    {
     "data": {
      "text/plain": [
       "'T \\\\left(6 d_{hv} d_{qk} + d_{qk} + 2\\\\right)'"
      ]
     },
     "execution_count": 39,
     "metadata": {},
     "output_type": "execute_result"
    }
   ],
   "source": [
    "sp.latex(simpl_comp_flop_rec_sig_total)"
   ]
  },
  {
   "cell_type": "code",
   "execution_count": 40,
   "metadata": {},
   "outputs": [
    {
     "data": {
      "image/png": "[encoded data removed]",
      "text/latex": [
       "$\\displaystyle \\frac{1.0 \\left(L^{2} \\left(2.0 F_{causal} T d_{hv} + 2.0 F_{causal} T d_{qk} + 6.0 F_{causal} T + 1.0 T\\right) + L \\left(4.0 T d_{hv} d_{qk} + 1.0 T d_{hv} + 2.0 T d_{qk} + 11.0 T\\right) + 2.0 T d_{hv} d_{qk} + 5.0 T\\right)}{L}$"
      ],
      "text/plain": [
       "    ⎛ 2                                                                        ↪\n",
       "1.0⋅⎝L ⋅(2.0⋅F_causal⋅T⋅dₕᵥ + 2.0⋅F_causal⋅T⋅d_qk + 6.0⋅F_causal⋅T + 1.0⋅T) +  ↪\n",
       "────────────────────────────────────────────────────────────────────────────── ↪\n",
       "                                                                             L ↪\n",
       "\n",
       "↪                                                                              ↪\n",
       "↪ L⋅(4.0⋅T⋅dₕᵥ⋅d_qk + 1.0⋅T⋅dₕᵥ + 2.0⋅T⋅d_qk + 11.0⋅T) + 2.0⋅T⋅dₕᵥ⋅d_qk + 5.0⋅ ↪\n",
       "↪ ──────────────────────────────────────────────────────────────────────────── ↪\n",
       "↪                                                                              ↪\n",
       "\n",
       "↪  ⎞\n",
       "↪ T⎠\n",
       "↪ ──\n",
       "↪   "
      ]
     },
     "execution_count": 40,
     "metadata": {},
     "output_type": "execute_result"
    }
   ],
   "source": [
    "simpl_comp_flop_cwp_sig_total = collect(\n",
    "    sp.cancel(collect(comp_flop_cwp_sig_total.subs(subs_dict), L)), L\n",
    ")\n",
    "simpl_comp_flop_cwp_sig_total"
   ]
  },
  {
   "cell_type": "code",
   "execution_count": 41,
   "metadata": {},
   "outputs": [
    {
     "data": {
      "image/png": "[encoded data removed]",
      "text/latex": [
       "$\\displaystyle T^{2} \\left(2 F_{causal} d_{hv} + F_{causal} \\left(2 d_{qk} + 2\\right) + 6\\right) + T \\left(0.5 T + 4.5\\right)$"
      ],
      "text/plain": [
       " 2                                                               \n",
       "T ⋅(2⋅F_causal⋅dₕᵥ + F_causal⋅(2⋅d_qk + 2) + 6) + T⋅(0.5⋅T + 4.5)"
      ]
     },
     "execution_count": 41,
     "metadata": {},
     "output_type": "execute_result"
    }
   ],
   "source": [
    "simpl_comp_flop_par_sig_total = collect(comp_flop_par_sig_total.subs(subs_dict), T)\n",
    "simpl_comp_flop_par_sig_total"
   ]
  },
  {
   "cell_type": "code",
   "execution_count": 42,
   "metadata": {},
   "outputs": [],
   "source": [
    "# define functions for plotting\n",
    "fn_flop_rec_sig = sp.lambdify(\n",
    "    (T, d_qk, d_hv), simpl_comp_flop_rec_sig_total, modules=[\"numpy\"]\n",
    ")\n",
    "fn_flop_cwp_sig = sp.lambdify(\n",
    "    (T, d_qk, d_hv, F_causal, L), simpl_comp_flop_cwp_sig_total, modules=[\"numpy\"]\n",
    ")\n",
    "fn_flop_par_sig = sp.lambdify(\n",
    "    (T, d_qk, d_hv, F_causal), simpl_comp_flop_par_sig_total, modules=[\"numpy\"]\n",
    ")"
   ]
  },
  {
   "cell_type": "code",
   "execution_count": 43,
   "metadata": {},
   "outputs": [
    {
     "data": {
      "image/png": "[encoded data removed]",
      "text/latex": [
       "$\\displaystyle 25233408$"
      ],
      "text/plain": [
       "25233408"
      ]
     },
     "execution_count": 43,
     "metadata": {},
     "output_type": "execute_result"
    }
   ],
   "source": [
    "fn_flop_rec_sig(seq_len, dqk, dhv)"
   ]
  },
  {
   "cell_type": "code",
   "execution_count": 44,
   "metadata": {},
   "outputs": [
    {
     "data": {
      "image/png": "[encoded data removed]",
      "text/latex": [
       "$\\displaystyle 34352168.0$"
      ],
      "text/plain": [
       "34352168.0"
      ]
     },
     "execution_count": 44,
     "metadata": {},
     "output_type": "execute_result"
    }
   ],
   "source": [
    "fn_flop_cwp_sig(seq_len, dqk, dhv, fcausal, chunk_size)"
   ]
  },
  {
   "cell_type": "code",
   "execution_count": 45,
   "metadata": {},
   "outputs": [
    {
     "data": {
      "image/png": "[encoded data removed]",
      "text/latex": [
       "$\\displaystyle 142086656.0$"
      ],
      "text/plain": [
       "142086656.0"
      ]
     },
     "execution_count": 45,
     "metadata": {},
     "output_type": "execute_result"
    }
   ],
   "source": [
    "fn_flop_par_sig(seq_len, dqk, dhv, fcausal)"
   ]
  },
  {
   "cell_type": "markdown",
   "metadata": {},
   "source": [
    "## Plot the Flop counts for varying chunk size\n",
    "\n",
    "We now want to compare the FLOPs depending on the chunk size. \n",
    "We consider a single head and one batch, as we are only interested in the relative differences.\n",
    "\n",
    "We choose sequence lengh $T=8192$, and head dimesions $d_{qk}=256$ and $d_{hv}=512$, which is the configuration we used for the xLSTM 7B model."
   ]
  },
  {
   "cell_type": "code",
   "execution_count": 65,
   "metadata": {},
   "outputs": [],
   "source": [
    "# plot params\n",
    "num_points = 20\n",
    "\n",
    "seq_len = np.repeat([8192], num_points)\n",
    "dqk = 256\n",
    "dhv = 512\n",
    "fcausal = 0.5"
   ]
  },
  {
   "cell_type": "code",
   "execution_count": 66,
   "metadata": {},
   "outputs": [],
   "source": [
    "flops_rec_exp = fn_flop_rec_exp(seq_len, dqk, dhv)\n",
    "flops_rec_sig = fn_flop_rec_sig(seq_len, dqk, dhv)"
   ]
  },
  {
   "cell_type": "code",
   "execution_count": 89,
   "metadata": {},
   "outputs": [],
   "source": [
    "chunk_sizes = np.logspace(0, 12, num=num_points, base=2)"
   ]
  },
  {
   "cell_type": "code",
   "execution_count": 90,
   "metadata": {},
   "outputs": [],
   "source": [
    "flops_cwp_exp = fn_flop_cwp_exp(seq_len, dqk, dhv, fcausal, chunk_sizes)\n",
    "flops_cwp_sig = fn_flop_cwp_sig(seq_len, dqk, dhv, fcausal, chunk_sizes)"
   ]
  },
  {
   "cell_type": "code",
   "execution_count": 91,
   "metadata": {},
   "outputs": [],
   "source": [
    "flops_cwp_exp_nocausal = fn_flop_cwp_exp(seq_len, dqk, dhv, 0.75, chunk_sizes)"
   ]
  },
  {
   "cell_type": "code",
   "execution_count": 92,
   "metadata": {},
   "outputs": [],
   "source": [
    "flops_par_exp = fn_flop_par_exp(seq_len, dqk, dhv, fcausal)\n",
    "flops_par_sig = fn_flop_par_sig(seq_len, dqk, dhv, fcausal)"
   ]
  },
  {
   "cell_type": "code",
   "execution_count": 93,
   "metadata": {},
   "outputs": [
    {
     "data": {
      "text/plain": [
       "array([5.21771704e+10, 5.21771704e+10, 5.21771704e+10, 5.21771704e+10,\n",
       "       5.21771704e+10, 5.21771704e+10, 5.21771704e+10, 5.21771704e+10,\n",
       "       5.21771704e+10, 5.21771704e+10, 5.21771704e+10, 5.21771704e+10,\n",
       "       5.21771704e+10, 5.21771704e+10, 5.21771704e+10, 5.21771704e+10,\n",
       "       5.21771704e+10, 5.21771704e+10, 5.21771704e+10, 5.21771704e+10])"
      ]
     },
     "execution_count": 93,
     "metadata": {},
     "output_type": "execute_result"
    }
   ],
   "source": [
    "flops_par_exp"
   ]
  },
  {
   "cell_type": "code",
   "execution_count": 94,
   "metadata": {},
   "outputs": [
    {
     "data": {
      "text/plain": [
       "array([8.07518181, 8.07518181, 8.07518181, 8.07518181, 8.07518181,\n",
       "       8.07518181, 8.07518181, 8.07518181, 8.07518181, 8.07518181,\n",
       "       8.07518181, 8.07518181, 8.07518181, 8.07518181, 8.07518181,\n",
       "       8.07518181, 8.07518181, 8.07518181, 8.07518181, 8.07518181])"
      ]
     },
     "execution_count": 94,
     "metadata": {},
     "output_type": "execute_result"
    }
   ],
   "source": [
    "flops_par_exp / flops_rec_exp"
   ]
  },
  {
   "cell_type": "code",
   "execution_count": 95,
   "metadata": {},
   "outputs": [],
   "source": [
    "# normalize to the recurrent flops\n",
    "flops_cwp_exp_norm = flops_cwp_exp / flops_rec_exp\n",
    "flops_par_exp_norm = flops_par_exp / flops_rec_exp\n",
    "flops_cwp_exp_norm_nocausal = flops_cwp_exp_nocausal / flops_rec_exp\n",
    "flops_rec_exp_norm = flops_rec_exp / flops_rec_exp\n",
    "\n",
    "flops_cwp_sig_norm = flops_cwp_sig / flops_rec_sig\n",
    "flops_par_sig_norm = flops_par_sig / flops_rec_sig\n",
    "flops_rec_sig_norm = flops_rec_sig / flops_rec_sig"
   ]
  },
  {
   "cell_type": "code",
   "execution_count": 96,
   "metadata": {},
   "outputs": [
    {
     "data": {
      "text/plain": [
       "(array([6444564480, 6444564480, 6444564480, 6444564480, 6444564480,\n",
       "        6444564480, 6444564480, 6444564480, 6444564480, 6444564480,\n",
       "        6444564480, 6444564480, 6444564480, 6444564480, 6444564480,\n",
       "        6444564480, 6444564480, 6444564480, 6444564480, 6444564480]),\n",
       " array([6.45729485e+09, 5.69940573e+09, 5.21335078e+09, 4.90448091e+09,\n",
       "        4.71265010e+09, 4.60050328e+09, 4.54620221e+09, 4.53917287e+09,\n",
       "        4.57804643e+09, 4.67039273e+09, 4.83419428e+09, 5.10134804e+09,\n",
       "        5.52387666e+09, 6.18405880e+09, 7.21045125e+09, 8.80292262e+09,\n",
       "        1.12715737e+10, 1.50971229e+10, 2.10245167e+10, 3.02079918e+10]))"
      ]
     },
     "execution_count": 96,
     "metadata": {},
     "output_type": "execute_result"
    }
   ],
   "source": [
    "flops_rec_sig, flops_cwp_sig"
   ]
  },
  {
   "cell_type": "code",
   "execution_count": 97,
   "metadata": {},
   "outputs": [],
   "source": [
    "from typing import Callable\n",
    "\n",
    "\n",
    "def plot_flop_comparison_mlstm_formulation(\n",
    "    fn_chunkwise_flops: Callable, figsize: tuple[float, float] = (7.0, 4.0)\n",
    "):\n",
    "    pass"
   ]
  },
  {
   "cell_type": "code",
   "execution_count": 98,
   "metadata": {},
   "outputs": [],
   "source": [
    "from plot_config import get_plot_mpl_context"
   ]
  },
  {
   "cell_type": "code",
   "execution_count": 99,
   "metadata": {},
   "outputs": [
    {
     "data": {
      "image/png": "[encoded data removed]",
      "text/plain": [
       "<Figure size 700x400 with 1 Axes>"
      ]
     },
     "metadata": {},
     "output_type": "display_data"
    }
   ],
   "source": [
    "with get_plot_mpl_context():\n",
    "    plt.figure(figsize=(7, 4))\n",
    "    plt.plot(chunk_sizes, flops_cwp_sig_norm, label=\"cwp sig\")\n",
    "    plt.plot(chunk_sizes, flops_cwp_exp_norm, label=\"cwp exp\")\n",
    "    plt.plot(chunk_sizes, flops_cwp_exp_norm_nocausal, label=\"cwp exp causal=0.75\")\n",
    "    plt.plot(chunk_sizes, flops_rec_sig_norm, label=\"rec sig\")\n",
    "    plt.plot(chunk_sizes, flops_rec_exp_norm, label=\"rec exp\")\n",
    "    plt.plot(chunk_sizes, flops_par_sig_norm, label=\"par sig\")\n",
    "    plt.plot(chunk_sizes, flops_par_exp_norm, label=\"par exp\")\n",
    "    plt.legend()\n",
    "    plt.xscale(\"log\")\n",
    "    # plt.yscale(\"log\")\n",
    "    # plt.xlim(1, 300)"
   ]
  },
  {
   "cell_type": "code",
   "execution_count": 58,
   "metadata": {},
   "outputs": [
    {
     "data": {
      "text/plain": [
       "array([1.01814095, 1.01843862, 1.0186392 , 1.01872922, 1.01869866,\n",
       "       1.01853324, 1.01821014, 1.01769917, 1.01697134, 1.0160157 ,\n",
       "       1.01486   , 1.01358213, 1.01229735, 1.01112167, 1.01013442,\n",
       "       1.00936331, 1.00879433, 1.00839187, 1.00811563, 1.00792991])"
      ]
     },
     "execution_count": 58,
     "metadata": {},
     "output_type": "execute_result"
    }
   ],
   "source": [
    "flops_cwp_exp / flops_cwp_sig"
   ]
  },
  {
   "cell_type": "code",
   "execution_count": 59,
   "metadata": {},
   "outputs": [
    {
     "data": {
      "text/plain": [
       "array([1.01475919, 1.01475919, 1.01475919, 1.01475919, 1.01475919,\n",
       "       1.01475919, 1.01475919, 1.01475919, 1.01475919, 1.01475919,\n",
       "       1.01475919, 1.01475919, 1.01475919, 1.01475919, 1.01475919,\n",
       "       1.01475919, 1.01475919, 1.01475919, 1.01475919, 1.01475919])"
      ]
     },
     "execution_count": 59,
     "metadata": {},
     "output_type": "execute_result"
    }
   ],
   "source": [
    "flops_par_exp / flops_par_sig"
   ]
  },
  {
   "cell_type": "code",
   "execution_count": 60,
   "metadata": {},
   "outputs": [
    {
     "data": {
      "text/plain": [
       "array([1.01858615, 1.01858615, 1.01858615, 1.01858615, 1.01858615,\n",
       "       1.01858615, 1.01858615, 1.01858615, 1.01858615, 1.01858615,\n",
       "       1.01858615, 1.01858615, 1.01858615, 1.01858615, 1.01858615,\n",
       "       1.01858615, 1.01858615, 1.01858615, 1.01858615, 1.01858615])"
      ]
     },
     "execution_count": 60,
     "metadata": {},
     "output_type": "execute_result"
    }
   ],
   "source": [
    "flops_rec_exp / flops_rec_sig"
   ]
  },
  {
   "cell_type": "code",
   "execution_count": 61,
   "metadata": {},
   "outputs": [],
   "source": [
    "# Note the mLSTMexp has only 0.2% more flops than mLSTMsig\n",
    "# normalization is only a few flops"
   ]
  },
  {
   "cell_type": "code",
   "execution_count": 62,
   "metadata": {},
   "outputs": [],
   "source": [
    "# 1.01475919"
   ]
  }
 ],
 "metadata": {
  "kernelspec": {
   "display_name": "mlstmpt251cu124",
   "language": "python",
   "name": "python3"
  },
  "language_info": {
   "codemirror_mode": {
    "name": "ipython",
    "version": 3
   },
   "file_extension": ".py",
   "mimetype": "text/x-python",
   "name": "python",
   "nbconvert_exporter": "python",
   "pygments_lexer": "ipython3",
   "version": "3.11.11"
  }
 },
 "nbformat": 4,
 "nbformat_minor": 2
}
