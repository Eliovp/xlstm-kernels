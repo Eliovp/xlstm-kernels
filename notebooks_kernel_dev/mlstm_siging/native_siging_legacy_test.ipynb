{
 "cells": [
  {
   "cell_type": "code",
   "execution_count": 4,
   "metadata": {},
   "outputs": [],
   "source": [
    "import torch\n",
    "\n",
    "from mlstm_kernels.utils.test.checks import verify_output\n",
    "\n",
    "from mlstm_kernels.torch.parallel._legacy_native_siging.sig_ingate import mlstm_ingsig_parallel"
   ]
  },
  {
   "cell_type": "code",
   "execution_count": 8,
   "metadata": {},
   "outputs": [],
   "source": [
    "seed = 1\n",
    "B = 1\n",
    "NH = 2\n",
    "S = 16\n",
    "DHQK = 16\n",
    "DHHV = 32\n",
    "device = torch.device('cuda:0')\n",
    "dtype = torch.float32\n",
    "\n",
    "vecI_offset = 0.0\n",
    "vecF_offset = 3.0"
   ]
  },
  {
   "cell_type": "code",
   "execution_count": 9,
   "metadata": {},
   "outputs": [],
   "source": [
    "torch.manual_seed(seed)\n",
    "matQ = torch.randn((B, NH, S, DHQK), dtype=torch.float32, device=device)\n",
    "matK = torch.randn((B, NH, S, DHQK), dtype=torch.float32, device=device)\n",
    "matV = torch.randn((B, NH, S, DHHV), dtype=torch.float32, device=device)\n",
    "vecI = vecI_offset + torch.randn((B, NH, S), dtype=torch.float32, device=device)\n",
    "vecF = vecF_offset + torch.randn((B, NH, S), dtype=torch.float32, device=device)\n",
    "\n",
    "baseline_dtype = dtype\n",
    "matQ_baseline = matQ.clone().to(dtype=baseline_dtype).detach().requires_grad_(True)\n",
    "matK_baseline = matK.clone().to(dtype=baseline_dtype).detach().requires_grad_(True)\n",
    "matV_baseline = matV.clone().to(dtype=baseline_dtype).detach().requires_grad_(True)\n",
    "vecI_baseline = vecI.clone().to(dtype=baseline_dtype).detach().requires_grad_(True)\n",
    "vecF_baseline = vecF.clone().to(dtype=baseline_dtype).detach().requires_grad_(True)\n",
    "\n",
    "target_dtype = dtype\n",
    "matQ_target = matQ.clone().to(dtype=target_dtype).detach().requires_grad_(True)\n",
    "matK_target = matK.clone().to(dtype=target_dtype).detach().requires_grad_(True)\n",
    "matV_target = matV.clone().to(dtype=target_dtype).detach().requires_grad_(True)\n",
    "vecI_target = vecI.clone().to(dtype=target_dtype).detach().requires_grad_(True)\n",
    "vecF_target = vecF.clone().to(dtype=target_dtype).detach().requires_grad_(True)"
   ]
  },
  {
   "cell_type": "code",
   "execution_count": 10,
   "metadata": {},
   "outputs": [],
   "source": [
    "matH_bl = mlstm_ingsig_parallel(\n",
    "    matQ_baseline,\n",
    "    matK_baseline,\n",
    "    matV_baseline,\n",
    "    vecI_baseline.unsqueeze(-1),\n",
    "    vecF_baseline.unsqueeze(-1),\n",
    ")"
   ]
  },
  {
   "cell_type": "code",
   "execution_count": null,
   "metadata": {},
   "outputs": [],
   "source": [
    "vecI_baseline.unsqueeze(-1).transpose(-2, -1).shape"
   ]
  },
  {
   "cell_type": "code",
   "execution_count": null,
   "metadata": {},
   "outputs": [],
   "source": []
  }
 ],
 "metadata": {
  "kernelspec": {
   "display_name": "xlstmpt240cu124",
   "language": "python",
   "name": "python3"
  },
  "language_info": {
   "codemirror_mode": {
    "name": "ipython",
    "version": 3
   },
   "file_extension": ".py",
   "mimetype": "text/x-python",
   "name": "python",
   "nbconvert_exporter": "python",
   "pygments_lexer": "ipython3",
   "version": "3.11.9"
  }
 },
 "nbformat": 4,
 "nbformat_minor": 2
}
