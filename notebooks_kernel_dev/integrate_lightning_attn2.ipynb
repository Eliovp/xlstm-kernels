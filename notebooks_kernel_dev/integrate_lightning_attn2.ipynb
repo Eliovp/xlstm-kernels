{
 "cells": [
  {
   "cell_type": "code",
   "execution_count": 1,
   "metadata": {},
   "outputs": [
    {
     "name": "stderr",
     "output_type": "stream",
     "text": [
      "[2025-01-24 18:49:53,457][numexpr.utils:146][INFO] - Note: detected 224 virtual cores but NumExpr set to maximum of 64, check \"NUMEXPR_MAX_THREADS\" environment variable.\n",
      "[2025-01-24 18:49:53,457][numexpr.utils:149][INFO] - Note: NumExpr detected 224 cores but \"NUMEXPR_MAX_THREADS\" not set, so enforcing safe limit of 16.\n",
      "[2025-01-24 18:49:53,458][numexpr.utils:162][INFO] - NumExpr defaulting to 16 threads.\n"
     ]
    }
   ],
   "source": [
    "import logging \n",
    "\n",
    "logging.basicConfig(\n",
    "    level=logging.INFO,\n",
    "    format=\"[%(asctime)s][%(name)s:%(lineno)d][%(levelname)s] - %(message)s\",\n",
    ")\n",
    "\n",
    "import torch\n",
    "\n",
    "import sys\n",
    "sys.path.append(\"..\")\n",
    "from mlstm_kernels.baselines.lightning_attention.lightning_attn2 import lightning_attn2\n",
    "from mlstm_kernels.baselines.lightning_attention.utils import _build_slope_tensor\n",
    "\n",
    "from dacite import from_dict \n",
    "from omegaconf import OmegaConf\n",
    "\n",
    "from mlstm_kernels.utils.benchmark.param_handling import BenchmarkConfig\n",
    "from mlstm_kernels.utils.benchmark.run_benchmark import run_benchmarks\n",
    "from mlstm_kernels.utils.benchmark.benchmarks.training_kernel_benchmarks import create_training_kernel_benchmark"
   ]
  },
  {
   "cell_type": "markdown",
   "metadata": {},
   "source": [
    "### quick test if it is runnable"
   ]
  },
  {
   "cell_type": "code",
   "execution_count": 2,
   "metadata": {},
   "outputs": [],
   "source": [
    "b = 4\n",
    "h = 8\n",
    "n = 512\n",
    "d = 128\n",
    "dtype = torch.bfloat16\n",
    "device = torch.device(\"cuda:0\")"
   ]
  },
  {
   "cell_type": "code",
   "execution_count": 3,
   "metadata": {},
   "outputs": [],
   "source": [
    "torch.manual_seed(0)\n",
    "q = torch.randn((b, h, n, d), dtype=dtype, device=device).requires_grad_()\n",
    "k = torch.randn((b, h, n, d), dtype=dtype, device=device).requires_grad_()\n",
    "v = torch.randn((b, h, n, d), dtype=dtype, device=device).requires_grad_()\n",
    "s = _build_slope_tensor(h).to(q.device).to(torch.float32)"
   ]
  },
  {
   "cell_type": "code",
   "execution_count": 4,
   "metadata": {},
   "outputs": [],
   "source": [
    "out = lightning_attn2(q, k, v, s)"
   ]
  },
  {
   "cell_type": "code",
   "execution_count": 5,
   "metadata": {},
   "outputs": [
    {
     "data": {
      "text/plain": [
       "torch.Size([4, 8, 512, 128])"
      ]
     },
     "execution_count": 5,
     "metadata": {},
     "output_type": "execute_result"
    }
   ],
   "source": [
    "out.shape"
   ]
  },
  {
   "cell_type": "markdown",
   "metadata": {},
   "source": [
    "### benchmark\n",
    "\n",
    "Note: lightning attention does not support large head dimensions. Get a Out of shared memory error."
   ]
  },
  {
   "cell_type": "code",
   "execution_count": 6,
   "metadata": {},
   "outputs": [],
   "source": [
    "S = 8192\n",
    "DHQK = 128 #64 #256 #128 #256  # *2\n",
    "DHHV = 128 #64 #256 #128 #512  # *2\n",
    "NH = 32 #64 #16 #32 #8\n",
    "B = 2\n",
    "D = NH * DHHV"
   ]
  },
  {
   "cell_type": "code",
   "execution_count": 7,
   "metadata": {},
   "outputs": [],
   "source": [
    "cfg_yaml = f\"\"\"\n",
    "vary_type: grid\n",
    "vary_params: {dict()}\n",
    "fixed_params: \n",
    "  batch_size: {B}\n",
    "  sequence_length: {S}\n",
    "  num_heads: {NH}\n",
    "  head_dim_qk: {DHQK}\n",
    "  head_dim_v: {DHHV}\n",
    "  warmup: 5\n",
    "  rep: 10\n",
    "\n",
    "kernel_specs:\n",
    "  # - kernel_name: \"chunkwise--triton_limit_chunk\"\n",
    "  #   fwbw: False\n",
    "  #   dtype: bfloat16\n",
    "  #   additional_params:\n",
    "  #     chunk_size: 64\n",
    "  # - kernel_name: \"chunkwise--triton_limit_chunk\"\n",
    "  #   fwbw: True\n",
    "  #   dtype: bfloat16\n",
    "  #   additional_params:\n",
    "  #     chunk_size: 64\n",
    "  # - kernel_name: \"chunkwise--triton_xl_chunk\"\n",
    "  #   fwbw: False\n",
    "  #   dtype: bfloat16\n",
    "  #   additional_params:\n",
    "  #     chunk_size: 128\n",
    "  # - kernel_name: \"chunkwise--triton_xl_chunk\"\n",
    "  #   fwbw: True\n",
    "  #   dtype: bfloat16\n",
    "  #   additional_params:\n",
    "  #     chunk_size: 128\n",
    "  # - kernel_name: \"chunkwise--triton_xl_chunk_siging\"\n",
    "  #   fwbw: False\n",
    "  #   dtype: bfloat16\n",
    "  #   use_torch_compile: False\n",
    "  #   additional_params:\n",
    "  #     chunk_size: 128\n",
    "  #     normalize: False\n",
    "  # - kernel_name: \"chunkwise--triton_xl_chunk_siging\"\n",
    "  #   fwbw: True\n",
    "  #   dtype: bfloat16\n",
    "  #   use_torch_compile: False\n",
    "  #   additional_params:\n",
    "  #     chunk_size: 128\n",
    "  #     normalize: False\n",
    "  - kernel_name: \"lightning_attn2\"\n",
    "    fwbw: False\n",
    "    dtype: bfloat16\n",
    "    use_torch_compile: False\n",
    "  - kernel_name: \"lightning_attn2\"\n",
    "    fwbw: True\n",
    "    dtype: bfloat16\n",
    "    use_torch_compile: False\n",
    "\n",
    "  - kernel_name: \"chunkwise--triton_xl_chunk_siging\"\n",
    "    fwbw: False\n",
    "    dtype: bfloat16\n",
    "    use_torch_compile: False\n",
    "    additional_params:\n",
    "      chunk_size: 256\n",
    "      normalize: False\n",
    "  - kernel_name: \"chunkwise--triton_xl_chunk_siging\"\n",
    "    fwbw: True\n",
    "    dtype: bfloat16\n",
    "    use_torch_compile: False\n",
    "    additional_params:\n",
    "      chunk_size: 256\n",
    "      normalize: False\n",
    "    \n",
    "\n",
    "\n",
    "  \n",
    "benchmark_name: \"quick_kernel_benchmark\"\n",
    "\"\"\"\n",
    "cfg_baseline = from_dict(\n",
    "    data_class=BenchmarkConfig, data=OmegaConf.to_container(OmegaConf.create(cfg_yaml))\n",
    ")"
   ]
  },
  {
   "cell_type": "code",
   "execution_count": 8,
   "metadata": {},
   "outputs": [
    {
     "name": "stderr",
     "output_type": "stream",
     "text": [
      "[2025-01-24 18:49:55,567][mlstm_kernels.utils.benchmark.run_benchmark:42][INFO] - Parameter combination (1/1): {'batch_size': 2, 'sequence_length': 8192, 'num_heads': 32, 'head_dim_qk': 128, 'head_dim_v': 128, 'warmup': 5, 'rep': 10}\n",
      "[2025-01-24 18:49:59,532][mlstm_kernels.utils.benchmark.run_benchmark:56][INFO] - ('Kernel (1/4): lightning_attn2____bfloat16__fw finished.', ' Runtime: 2.3291521072387695 ms. Peak memory: 0.809649152 GB.')\n",
      "[2025-01-24 18:50:01,440][mlstm_kernels.utils.benchmark.run_benchmark:56][INFO] - ('Kernel (2/4): lightning_attn2____bfloat16__fwbw finished.', ' Runtime: 19.371231079101562 ms. Peak memory: 1.749174272 GB.')\n",
      "[2025-01-24 18:50:05,695][mlstm_kernels.utils.benchmark.run_benchmark:56][INFO] - ('Kernel (3/4): chunkwise--triton_xl_chunk_siging____bfloat16__fw__cs-256_n-False finished.', ' Runtime: 1.472864031791687 ms. Peak memory: 0.955253248 GB.')\n",
      "[2025-01-24 18:50:08,003][mlstm_kernels.utils.benchmark.run_benchmark:56][INFO] - ('Kernel (4/4): chunkwise--triton_xl_chunk_siging____bfloat16__fwbw__cs-256_n-False finished.', ' Runtime: 5.038623809814453 ms. Peak memory: 2.04367616 GB.')\n"
     ]
    }
   ],
   "source": [
    "res_df = run_benchmarks(cfg_baseline, benchmark_creator=create_training_kernel_benchmark, run_garbage_collection=False)"
   ]
  },
  {
   "cell_type": "code",
   "execution_count": 9,
   "metadata": {},
   "outputs": [
    {
     "data": {
      "text/html": [
       "<div>\n",
       "<style scoped>\n",
       "    .dataframe tbody tr th:only-of-type {\n",
       "        vertical-align: middle;\n",
       "    }\n",
       "\n",
       "    .dataframe tbody tr th {\n",
       "        vertical-align: top;\n",
       "    }\n",
       "\n",
       "    .dataframe thead th {\n",
       "        text-align: right;\n",
       "    }\n",
       "</style>\n",
       "<table border=\"1\" class=\"dataframe\">\n",
       "  <thead>\n",
       "    <tr style=\"text-align: right;\">\n",
       "      <th></th>\n",
       "      <th>P--batch_size</th>\n",
       "      <th>P--sequence_length</th>\n",
       "      <th>P--num_heads</th>\n",
       "      <th>P--head_dim_qk</th>\n",
       "      <th>P--head_dim_v</th>\n",
       "      <th>P--warmup</th>\n",
       "      <th>P--rep</th>\n",
       "      <th>R--lightning_attn2____bfloat16__fw</th>\n",
       "      <th>M--lightning_attn2____bfloat16__fw</th>\n",
       "      <th>R--lightning_attn2____bfloat16__fwbw</th>\n",
       "      <th>M--lightning_attn2____bfloat16__fwbw</th>\n",
       "      <th>R--chunkwise--triton_xl_chunk_siging____bfloat16__fw__cs-256_n-False</th>\n",
       "      <th>M--chunkwise--triton_xl_chunk_siging____bfloat16__fw__cs-256_n-False</th>\n",
       "      <th>R--chunkwise--triton_xl_chunk_siging____bfloat16__fwbw__cs-256_n-False</th>\n",
       "      <th>M--chunkwise--triton_xl_chunk_siging____bfloat16__fwbw__cs-256_n-False</th>\n",
       "    </tr>\n",
       "  </thead>\n",
       "  <tbody>\n",
       "    <tr>\n",
       "      <th>0</th>\n",
       "      <td>2</td>\n",
       "      <td>8192</td>\n",
       "      <td>32</td>\n",
       "      <td>128</td>\n",
       "      <td>128</td>\n",
       "      <td>5</td>\n",
       "      <td>10</td>\n",
       "      <td>2.329152</td>\n",
       "      <td>809649152</td>\n",
       "      <td>19.371231</td>\n",
       "      <td>1749174272</td>\n",
       "      <td>1.472864</td>\n",
       "      <td>955253248</td>\n",
       "      <td>5.038624</td>\n",
       "      <td>2043676160</td>\n",
       "    </tr>\n",
       "  </tbody>\n",
       "</table>\n",
       "</div>"
      ],
      "text/plain": [
       "   P--batch_size  P--sequence_length  P--num_heads  P--head_dim_qk  \\\n",
       "0              2                8192            32             128   \n",
       "\n",
       "   P--head_dim_v  P--warmup  P--rep  R--lightning_attn2____bfloat16__fw  \\\n",
       "0            128          5      10                            2.329152   \n",
       "\n",
       "   M--lightning_attn2____bfloat16__fw  R--lightning_attn2____bfloat16__fwbw  \\\n",
       "0                           809649152                             19.371231   \n",
       "\n",
       "   M--lightning_attn2____bfloat16__fwbw  \\\n",
       "0                            1749174272   \n",
       "\n",
       "   R--chunkwise--triton_xl_chunk_siging____bfloat16__fw__cs-256_n-False  \\\n",
       "0                                           1.472864                      \n",
       "\n",
       "   M--chunkwise--triton_xl_chunk_siging____bfloat16__fw__cs-256_n-False  \\\n",
       "0                                          955253248                      \n",
       "\n",
       "   R--chunkwise--triton_xl_chunk_siging____bfloat16__fwbw__cs-256_n-False  \\\n",
       "0                                           5.038624                        \n",
       "\n",
       "   M--chunkwise--triton_xl_chunk_siging____bfloat16__fwbw__cs-256_n-False  \n",
       "0                                         2043676160                       "
      ]
     },
     "execution_count": 9,
     "metadata": {},
     "output_type": "execute_result"
    }
   ],
   "source": [
    "res_df"
   ]
  },
  {
   "cell_type": "code",
   "execution_count": 10,
   "metadata": {},
   "outputs": [
    {
     "data": {
      "text/html": [
       "<div>\n",
       "<style scoped>\n",
       "    .dataframe tbody tr th:only-of-type {\n",
       "        vertical-align: middle;\n",
       "    }\n",
       "\n",
       "    .dataframe tbody tr th {\n",
       "        vertical-align: top;\n",
       "    }\n",
       "\n",
       "    .dataframe thead th {\n",
       "        text-align: right;\n",
       "    }\n",
       "</style>\n",
       "<table border=\"1\" class=\"dataframe\">\n",
       "  <thead>\n",
       "    <tr style=\"text-align: right;\">\n",
       "      <th></th>\n",
       "      <th>0</th>\n",
       "    </tr>\n",
       "  </thead>\n",
       "  <tbody>\n",
       "    <tr>\n",
       "      <th>P--batch_size</th>\n",
       "      <td>2.000000</td>\n",
       "    </tr>\n",
       "    <tr>\n",
       "      <th>P--sequence_length</th>\n",
       "      <td>8192.000000</td>\n",
       "    </tr>\n",
       "    <tr>\n",
       "      <th>P--num_heads</th>\n",
       "      <td>32.000000</td>\n",
       "    </tr>\n",
       "    <tr>\n",
       "      <th>P--head_dim_qk</th>\n",
       "      <td>128.000000</td>\n",
       "    </tr>\n",
       "    <tr>\n",
       "      <th>P--head_dim_v</th>\n",
       "      <td>128.000000</td>\n",
       "    </tr>\n",
       "    <tr>\n",
       "      <th>P--warmup</th>\n",
       "      <td>5.000000</td>\n",
       "    </tr>\n",
       "    <tr>\n",
       "      <th>P--rep</th>\n",
       "      <td>10.000000</td>\n",
       "    </tr>\n",
       "    <tr>\n",
       "      <th>R--lightning_attn2____bfloat16__fw</th>\n",
       "      <td>2.329152</td>\n",
       "    </tr>\n",
       "    <tr>\n",
       "      <th>R--lightning_attn2____bfloat16__fwbw</th>\n",
       "      <td>19.371231</td>\n",
       "    </tr>\n",
       "    <tr>\n",
       "      <th>R--chunkwise--triton_xl_chunk_siging____bfloat16__fw__cs-256_n-False</th>\n",
       "      <td>1.472864</td>\n",
       "    </tr>\n",
       "    <tr>\n",
       "      <th>R--chunkwise--triton_xl_chunk_siging____bfloat16__fwbw__cs-256_n-False</th>\n",
       "      <td>5.038624</td>\n",
       "    </tr>\n",
       "  </tbody>\n",
       "</table>\n",
       "</div>"
      ],
      "text/plain": [
       "                                                              0\n",
       "P--batch_size                                          2.000000\n",
       "P--sequence_length                                  8192.000000\n",
       "P--num_heads                                          32.000000\n",
       "P--head_dim_qk                                       128.000000\n",
       "P--head_dim_v                                        128.000000\n",
       "P--warmup                                              5.000000\n",
       "P--rep                                                10.000000\n",
       "R--lightning_attn2____bfloat16__fw                     2.329152\n",
       "R--lightning_attn2____bfloat16__fwbw                  19.371231\n",
       "R--chunkwise--triton_xl_chunk_siging____bfloat1...     1.472864\n",
       "R--chunkwise--triton_xl_chunk_siging____bfloat1...     5.038624"
      ]
     },
     "execution_count": 10,
     "metadata": {},
     "output_type": "execute_result"
    }
   ],
   "source": [
    "res_df.filter(regex=\"(R|P)--.*\", axis=1).T"
   ]
  },
  {
   "cell_type": "code",
   "execution_count": 11,
   "metadata": {},
   "outputs": [
    {
     "data": {
      "text/html": [
       "<div>\n",
       "<style scoped>\n",
       "    .dataframe tbody tr th:only-of-type {\n",
       "        vertical-align: middle;\n",
       "    }\n",
       "\n",
       "    .dataframe tbody tr th {\n",
       "        vertical-align: top;\n",
       "    }\n",
       "\n",
       "    .dataframe thead th {\n",
       "        text-align: right;\n",
       "    }\n",
       "</style>\n",
       "<table border=\"1\" class=\"dataframe\">\n",
       "  <thead>\n",
       "    <tr style=\"text-align: right;\">\n",
       "      <th></th>\n",
       "      <th>0</th>\n",
       "    </tr>\n",
       "  </thead>\n",
       "  <tbody>\n",
       "    <tr>\n",
       "      <th>P--batch_size</th>\n",
       "      <td>2</td>\n",
       "    </tr>\n",
       "    <tr>\n",
       "      <th>P--sequence_length</th>\n",
       "      <td>8192</td>\n",
       "    </tr>\n",
       "    <tr>\n",
       "      <th>P--num_heads</th>\n",
       "      <td>32</td>\n",
       "    </tr>\n",
       "    <tr>\n",
       "      <th>P--head_dim_qk</th>\n",
       "      <td>128</td>\n",
       "    </tr>\n",
       "    <tr>\n",
       "      <th>P--head_dim_v</th>\n",
       "      <td>128</td>\n",
       "    </tr>\n",
       "    <tr>\n",
       "      <th>P--warmup</th>\n",
       "      <td>5</td>\n",
       "    </tr>\n",
       "    <tr>\n",
       "      <th>P--rep</th>\n",
       "      <td>10</td>\n",
       "    </tr>\n",
       "    <tr>\n",
       "      <th>M--lightning_attn2____bfloat16__fw</th>\n",
       "      <td>809649152</td>\n",
       "    </tr>\n",
       "    <tr>\n",
       "      <th>M--lightning_attn2____bfloat16__fwbw</th>\n",
       "      <td>1749174272</td>\n",
       "    </tr>\n",
       "    <tr>\n",
       "      <th>M--chunkwise--triton_xl_chunk_siging____bfloat16__fw__cs-256_n-False</th>\n",
       "      <td>955253248</td>\n",
       "    </tr>\n",
       "    <tr>\n",
       "      <th>M--chunkwise--triton_xl_chunk_siging____bfloat16__fwbw__cs-256_n-False</th>\n",
       "      <td>2043676160</td>\n",
       "    </tr>\n",
       "  </tbody>\n",
       "</table>\n",
       "</div>"
      ],
      "text/plain": [
       "                                                             0\n",
       "P--batch_size                                                2\n",
       "P--sequence_length                                        8192\n",
       "P--num_heads                                                32\n",
       "P--head_dim_qk                                             128\n",
       "P--head_dim_v                                              128\n",
       "P--warmup                                                    5\n",
       "P--rep                                                      10\n",
       "M--lightning_attn2____bfloat16__fw                   809649152\n",
       "M--lightning_attn2____bfloat16__fwbw                1749174272\n",
       "M--chunkwise--triton_xl_chunk_siging____bfloat1...   955253248\n",
       "M--chunkwise--triton_xl_chunk_siging____bfloat1...  2043676160"
      ]
     },
     "execution_count": 11,
     "metadata": {},
     "output_type": "execute_result"
    }
   ],
   "source": [
    "res_df.filter(regex=\"(P|M)--.*\", axis=1).T"
   ]
  },
  {
   "cell_type": "code",
   "execution_count": null,
   "metadata": {},
   "outputs": [],
   "source": []
  }
 ],
 "metadata": {
  "kernelspec": {
   "display_name": "mlstmpt251cu124_beck",
   "language": "python",
   "name": "python3"
  },
  "language_info": {
   "codemirror_mode": {
    "name": "ipython",
    "version": 3
   },
   "file_extension": ".py",
   "mimetype": "text/x-python",
   "name": "python",
   "nbconvert_exporter": "python",
   "pygments_lexer": "ipython3",
   "version": "3.11.11"
  }
 },
 "nbformat": 4,
 "nbformat_minor": 2
}
